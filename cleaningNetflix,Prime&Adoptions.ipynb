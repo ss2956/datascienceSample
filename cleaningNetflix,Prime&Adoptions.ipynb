{
 "cells": [
  {
   "cell_type": "code",
   "execution_count": 1,
   "metadata": {},
   "outputs": [],
   "source": [
    "import requests\n",
    "import pandas as pd\n",
    "import matplotlib.pyplot as plt\n",
    "import numpy as np\n",
    "\n",
    "pd.set_option('max_columns', None)\n",
    "pd.set_option('max_rows', None)\n"
   ]
  },
  {
   "cell_type": "code",
   "execution_count": 2,
   "metadata": {},
   "outputs": [],
   "source": [
    "net = pd.read_csv(\"Netflix Shows.csv\", encoding='latin-1')"
   ]
  },
  {
   "cell_type": "markdown",
   "metadata": {},
   "source": [
    "## Removing rows with  Nan user rating score\n",
    "Instead of replacing these release data with other values such as 0 or researching the name of the series we decided to remove them. \n",
    "* Switching the data to 0 would make future anaysis confusing adn would preserve the meaning of the column.\n",
    "* When looking through these NaN release year, a lot of the rows were not conventual tv series. They were non-english, documentaries, animes or musicals that were certainly not made after 1997. ex: hamlet, valhalla club documentary. \n",
    "* These rows were also likely to have other columns missing information such as the rating column and other important categories, so we decided by removing them, we were not losing much information\n"
   ]
  },
  {
   "cell_type": "code",
   "execution_count": 3,
   "metadata": {},
   "outputs": [],
   "source": [
    "net= net[net['user rating score'].notna()]"
   ]
  },
  {
   "cell_type": "code",
   "execution_count": 4,
   "metadata": {},
   "outputs": [],
   "source": [
    "prime = pd.read_csv(\"Prime TV Shows Data set.csv\", encoding='latin-1')"
   ]
  },
  {
   "cell_type": "markdown",
   "metadata": {},
   "source": [
    "## Standardize column names and dropping unnecessary columns & rows\n",
    "We want all column names to match. For example the other two datasets have their title column as title, so it makes sense to keep this the same\n",
    "\n",
    "we also changed the rating scale of netflix so that is is 1-10 like the others"
   ]
  },
  {
   "cell_type": "code",
   "execution_count": 5,
   "metadata": {},
   "outputs": [],
   "source": [
    "prime = prime.rename(columns={'Name of the show':'title','Year of release':'startYear','IMDb rating': 'rating','Age of viewers':'age','Genre':'genre' })"
   ]
  },
  {
   "cell_type": "code",
   "execution_count": 6,
   "metadata": {},
   "outputs": [],
   "source": [
    "net = net.drop(['ratingLevel','ratingDescription'],axis = 1)"
   ]
  },
  {
   "cell_type": "code",
   "execution_count": 7,
   "metadata": {},
   "outputs": [],
   "source": [
    "net = net.rename(columns={'release year':'startYear','user rating score': 'rating','rating':'age', 'user rating size':'numVotes', })\n"
   ]
  },
  {
   "cell_type": "code",
   "execution_count": 8,
   "metadata": {},
   "outputs": [],
   "source": [
    "net['rating'] = net['rating']/10"
   ]
  },
  {
   "cell_type": "code",
   "execution_count": 9,
   "metadata": {},
   "outputs": [],
   "source": [
    "prime.to_csv(\"primeCleaned.csv\", index = False)\n",
    "net.to_csv(\"netflixCleaned.csv\", index = False)"
   ]
  },
  {
   "cell_type": "code",
   "execution_count": 10,
   "metadata": {},
   "outputs": [],
   "source": [
    "imdb = pd.read_csv(\"non_netflix_shows.csv\")"
   ]
  },
  {
   "cell_type": "markdown",
   "metadata": {},
   "source": [
    "## Get adoptions\n",
    "In future analysis, we want to see how shows that were originally on regular TV and are now also on streaming services ratings compare to shows soley on tv"
   ]
  },
  {
   "cell_type": "code",
   "execution_count": 11,
   "metadata": {},
   "outputs": [],
   "source": [
    "onNetToo = pd.merge(imdb, net, how = 'inner', on = 'title')"
   ]
  },
  {
   "cell_type": "code",
   "execution_count": 12,
   "metadata": {},
   "outputs": [],
   "source": [
    "onNetToo= onNetToo.rename(columns={'genre_x':'genre'})\n",
    "onNetToo= onNetToo.rename(columns={'rating_x':'rating'})\n",
    "onNetToo= onNetToo.rename(columns={'startYear_x':'startYear'})\n",
    "onNetToo = onNetToo[onNetToo['genre'] != '\\\\N']\n",
    "\n",
    "onNetToo= onNetToo[onNetToo['rating'].notna()]\n",
    "onNetToo= onNetToo[onNetToo['genre'].notna()]"
   ]
  },
  {
   "cell_type": "code",
   "execution_count": 13,
   "metadata": {},
   "outputs": [],
   "source": [
    "onPrimeToo = pd.merge(imdb, prime, how = 'inner', on = 'title')"
   ]
  },
  {
   "cell_type": "code",
   "execution_count": 14,
   "metadata": {},
   "outputs": [],
   "source": [
    "onPrimeToo= onPrimeToo.rename(columns={'genre_x':'genre'})\n",
    "onPrimeToo= onPrimeToo.rename(columns={'rating_x':'rating'})\n",
    "onPrimeToo= onPrimeToo.rename(columns={'startYear_x':'startYear'})\n",
    "onPrimeToo = onPrimeToo[onPrimeToo['genre'] != '\\\\N']\n",
    "onPrimeToo= onPrimeToo[onPrimeToo['rating'].notna()]\n",
    "onPrimeToo= onPrimeToo[onPrimeToo['genre'].notna()]"
   ]
  },
  {
   "cell_type": "code",
   "execution_count": 15,
   "metadata": {},
   "outputs": [],
   "source": [
    "onPrimeToo.to_csv(\"onPrimeToo.csv\",index=False)"
   ]
  },
  {
   "cell_type": "code",
   "execution_count": 16,
   "metadata": {},
   "outputs": [],
   "source": [
    "onNetToo.to_csv(\"onNetToo.csv\",index=False)"
   ]
  }
 ],
 "metadata": {
  "kernelspec": {
   "display_name": "Python 3",
   "language": "python",
   "name": "python3"
  },
  "language_info": {
   "codemirror_mode": {
    "name": "ipython",
    "version": 3
   },
   "file_extension": ".py",
   "mimetype": "text/x-python",
   "name": "python",
   "nbconvert_exporter": "python",
   "pygments_lexer": "ipython3",
   "version": "3.8.3"
  }
 },
 "nbformat": 4,
 "nbformat_minor": 4
}
