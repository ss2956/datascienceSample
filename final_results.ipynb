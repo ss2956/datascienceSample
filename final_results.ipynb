{
 "cells": [
  {
   "cell_type": "markdown",
   "metadata": {},
   "source": [
    "# *What Makes a Hit?* Evaluating TV Show and Movie Success"
   ]
  },
  {
   "cell_type": "markdown",
   "metadata": {},
   "source": [
    "## Table of Contents:\n",
    "1. [Introduction](#section_1)\n",
    "2. [Research Questions](#section_2)\n",
    "3. [Data Description](#section_3)\n",
    "4. [Preregistration Statement](#section_4)\n",
    "5. [Research Question Analysis](#section_5)\n",
    "    - [Question 1](#section_5a)\n",
    "    - [Question 2](#section_5b)\n",
    "    - [Question 3](#section_5c)\n",
    "6. [Evaluation of Significance](#section_6)\n",
    "7. [Data Limitations](#section_7)\n",
    "8. [Interpretation and Conclusions](#section_8)\n",
    "9. [Acknowledgements](#section_9)\n",
    "10. [Appendix](#section_10)"
   ]
  },
  {
   "cell_type": "markdown",
   "metadata": {},
   "source": [
    "<a id='section_1'></a>\n",
    "## Introduction ##"
   ]
  },
  {
   "cell_type": "markdown",
   "metadata": {},
   "source": [
    "A fundamental source of entertainment that many gravitate towards and has existed for decades is the TV. However, the industry has rapidly expanded and developed as technology has advanced in massive strides when we consider the construction of highly successful streaming platforms like Netflix that has earned billions of dollars in revenue. Nowadays, it is becoming less common for people to consume cable television as there are more attractive options that are available.\n",
    "\n",
    "The primary objective of this project is to examine what makes a TV show more *successful* by narrowly defining how success is acheived  through the means mentioned in the research question (genre, streaming platform availability, social media). Success will be measured through ratings collected from IMDB and Rating Graph. Additional questions we hope to explore in our three major research questions are, for example, \"Does the availability of a TV series on a streaming platform correlate to higher ratings?\" and \"How does the success of a show change when moved to a streaming platform?\"\n",
    "\n",
    "Especially with the COVID-19 pandemic, streaming services have greatly expanded and are widely used as watching shows and movies at home have become a primary form of entertainment for many. Netflix has greatly transformed the TV and movie industries as well as how we consume entertainment with, according to its shareholder letter in 2019, its 167 million paying subscribers around the world. The influence of social media has also exponentially grown and marketing is incredibly important for businesses in order to attract interest. Platforms like TikTok have such a significant impact, especially on younger populations, which is why a lot of different businesses try to interact with their current and potential consumers by having accounts on it. Thus, it will be interesting to see how, over time, certain shows/movies have flourished and others have not as well as if cable will be an attractive option for consumers anymore.\n",
    "\n",
    "**Source code.** \\\n",
    "Github Link: https://github.com/ss2956/2950DataScienceProj.git "
   ]
  },
  {
   "cell_type": "markdown",
   "metadata": {},
   "source": [
    "<a id='section_2'></a>\n",
    "## Research Questions ##"
   ]
  },
  {
   "cell_type": "markdown",
   "metadata": {},
   "source": [
    "**1. What factors impact the success of a TV show? <br />\n",
    "2. Which of these factors (genre, streaming platform availability, social media) impacts the success of a TV show the most? <br />\n",
    "3. Based on these factors and factors found from Question 1, how can we predict the future success for certain TV shows?**"
   ]
  },
  {
   "cell_type": "markdown",
   "metadata": {},
   "source": [
    "<a id='section_3'></a>\n",
    "## Data Description ##"
   ]
  },
  {
   "cell_type": "markdown",
   "metadata": {},
   "source": [
    "**What are the observations and the attributes?** \\\n",
    "For all the datasets that we obtained from IMDB, Rating Graph, The Numbers, and Kaggle, each observation is an instance of a TV series or movie, however the attributes vary as they include a number of different variables. In general, they share the attributes of title, length of each episode, when they started, the ratings, the genre(s), number of votes, and whether it is mature or not.\n",
    "\n",
    "**Why was this dataset created?** \n",
    "- RGRAPH: According to the creator, this dataset was constructed in order \"to help people kill their time with some entertaining material.\" It is a space that provides insight into what a person might want to watch next based on what others have thought.\n",
    "- IMDB: IMDB is the leading platform that provides data and information on media like films, TV shows, video games, etc. and is well-known for providing ratings and critical reviews that many turn to.\n",
    "- PRIME: This Kaggle dataset was constructed in order to \"analyze the latest shows available on Amazon Prime as well as the shows with a high rating.\" The creator's motivations were founded on finding out the highest-rated shows in each category or in a particular genre.\n",
    "- NETFLIX: The second Kaggle dataset we used was constructed in order to analyze Netflix shows based on TV show ratings, with respect to different years and the user score ratings.\n",
    "- THE NUMBERS: The Numbers provides data and research on the movie industry which different companies (e.g. studios, financial institutions, etc.) rely on.\n",
    "    \n",
    "**Who funded the creation of the dataset?** \n",
    "- RGRAPH: No one funded the dataset's creation as the developer undertook the initiative on his own to share information to the public.\n",
    "- IMDB: Since 1998, IMDB is a subsidiary of Amazon which means that a lot of the funding IMDB receives to create their datasets is from them.\n",
    "- PRIME & NETFLIX: Both of these datasets came from Kaggle and neither of them detailed if they received funding for their work.\n",
    "- THE NUMBERS: Most likely investors that are interested in accessing data on what makes movies blockbusters and successful funded the creation of the dataset.\n",
    "\n",
    "**What processes might have influenced what data was observed and recorded and what was not?** \n",
    "- RGRAPH: There seems to be only one person who primarily manages the website and the data so there can be room for error and mistakes which they admit. \n",
    "- IMDB: IMDB covers a wide range of avenues of virtual entertainment apart from shows and movies \n",
    "- PRIME & NETFLIX: Similarly to the issue posed with the RGRAPH data, these Kaggle datasets were created by individuals and not through a coordinated team that has access to a wide range of resources.\n",
    "- THE NUMBERS: The Numbers primarily focuses on financial analysis of movies so a lot of the data would be catered towards that so, for example, even if a movie garnered a lot of money it could have a low rating.\n",
    "    \n",
    "**What preprocessing was done, and how did the data come to be in the form that you are using?** \\\n",
    "Some of the preprocessing we had to do was when reading data we downloaded, we had to encode 'latin-1' and when loading the data we had to make `sep = \\t` to read `.tsv` files while using `pd.read_csv`.\n",
    "\n",
    "**If people are involved, were they aware of the data collection and if so, what purpose did they expect the data to be used for?** \\\n",
    "For all of the data that was either collected or used, ratings were given by users who voluntarily participated and gave their opinions on shows and movies.\n",
    " \n",
    "**Where can our raw source data be found?** \n",
    " - RGRAPH - https://www.ratingraph.com/tv-shows/ (converted the data to an Excel file)\n",
    "     - 'Rank' is based on the average number of votes per episode adjusted with the average rating\n",
    "     - 'Trend' represents the amount of new votes submitted during the past 7 days\n",
    "- IMDB - https://www.imdb.com/interfaces/\n",
    "- PRIME - https://www.kaggle.com/nilimajauhari/amazon-prime-tv-shows\n",
    "- NETFLIX - https://www.kaggle.com/abhikaggle8/netflix-rating-distributions\n",
    "- THE NUMBERS - https://www.the-numbers.com/"
   ]
  },
  {
   "cell_type": "markdown",
   "metadata": {},
   "source": [
    "<a id='section_4'></a>\n",
    "## Preregistration of Analysis ##"
   ]
  },
  {
   "cell_type": "markdown",
   "metadata": {},
   "source": [
    "### The first piece of analysis we decided to perform for our final report is linear regression to see which factors of shows or movies can be utilized to determine and predict their success\n",
    "A few are:\n",
    "   * *Genre*\n",
    "   * *Streaming availability*: is the movie/show also on Netflix & Amazon Prime?\n",
    "   * *Value of movie*: how much money did the movie make?\n",
    "   * *Number of seasons*\n",
    "   * *Age rating*\n",
    "   * *Release date*\n",
    " \n",
    "We wanted to compare the predicted success of shows/movies avaliable through streaming services to those solely on TV to answer the question whether streaming services increases the success of a show/movie.\n",
    "* We anticipated that the more streaming services a show/movie is avaliable on, the more likely it will be successful (higher average rating)\n",
    "* We believed a lower age rating may hurt or help the success of a show/movie. If the rating is low, more people can watch it and will have a higher chance of being favored by many people. However, it can also be detrimental to the success of a show/movie since the more people that watch it, the greater the possibility that there will be conflicting opinions and controversy.\n",
    "* Based on our previous analysis in phases II and IV of this project, we suspected comedies and dramas to help the success of a show as these genres had the highest frequency of occurrences on TV. Since a large proportion of TV shows fall within these genres, more people will prefer them, thus giving higher ratings.\n",
    "   \n",
    "### The second piece of analysis we decided to perform is determining if there is a correlation between how long a TV show goes on for (number of seasons) and its genre and age range (age rating)\n",
    "* We predicted that shows that fall under the genre of *Horror* will last for less time than the genre of *Comedy* based on some popular examples (Family Guy, The Simpsons, Spongebob Squarepants, and etc.) \n",
    "* We also believed that shows that are targeted for a younger audience will have more people interested in it and therefore will last longer"
   ]
  },
  {
   "cell_type": "markdown",
   "metadata": {},
   "source": [
    "## Load the Necessary Modules ##"
   ]
  },
  {
   "cell_type": "code",
   "execution_count": 172,
   "metadata": {},
   "outputs": [],
   "source": [
    "# imports and settings \n",
    "import requests\n",
    "import pandas as pd\n",
    "import matplotlib.pyplot as plt\n",
    "import numpy as np\n",
    "import seaborn as sns\n",
    "import swifter\n",
    "import statsmodels.formula.api as smf\n",
    "import umap\n",
    "import re\n",
    "\n",
    "from sklearn.feature_extraction.text import TfidfVectorizer\n",
    "from sklearn.linear_model import LinearRegression,LogisticRegression\n",
    "from sklearn.model_selection import cross_val_score\n",
    "from sklearn.model_selection import train_test_split\n",
    "from sklearn.naive_bayes import GaussianNB\n",
    "from sklearn.metrics import classification_report\n",
    "\n",
    "%matplotlib inline\n",
    "plt.rcParams['figure.figsize'] = (12.0, 8.0)\n",
    "plt.style.use('seaborn-poster')"
   ]
  },
  {
   "cell_type": "markdown",
   "metadata": {},
   "source": [
    "## Datasets for analysis\n",
    "* `imdb`: dataset of tv shows shown on television and possibly netflix & amazon prime*\n",
    "* `rgraph`: dataset of tv shows shown on televsion and possibly netflix & amazon prime*\n",
    "* `netflix`: dataset of shows on netflix*\n",
    "* `prime`: dataset of shows on amazon prime*\n",
    "* `netflixToo`: dataset of shows that are on both netflix and regular TV*\n",
    "* `primeToo`: dataset of shows that are on both amazon prime and regular TV*\n",
    "* `movies`: dataset of movies from the data retrieved from IMDB\n",
    "* `total_show_reviews`: combined dataset of shows from IMDB and RGraph\n",
    "* `movie_ratings`: combined dataset of `movies` and `imdb_movies` to include ratings"
   ]
  },
  {
   "cell_type": "markdown",
   "metadata": {},
   "source": [
    "### Load datasets for analysis"
   ]
  },
  {
   "cell_type": "code",
   "execution_count": 292,
   "metadata": {},
   "outputs": [],
   "source": [
    "imdb_shows = pd.read_csv(\"non_netflix_shows.csv\")\n",
    "imdb_movies = pd.read_csv(\"non_netflix_movies.csv\")\n",
    "rgraph = pd.read_csv(\"rgraph_tvshows.csv\")\n",
    "netflix = pd.read_csv(\"netflixCleaned.csv\")\n",
    "prime = pd.read_csv(\"primeCleaned.csv\")\n",
    "netflix_shows = pd.read_csv(\"onNetToo.csv\")\n",
    "prime_shows = pd.read_csv(\"onPrimeToo.csv\")\n",
    "movies = pd.read_csv(\"MovieData.csv\")\n",
    "total_show_reviews = pd.read_csv(\"combined_reviews.csv\")\n",
    "movie_ratings = pd.read_csv(\"movies.csv\")"
   ]
  },
  {
   "cell_type": "markdown",
   "metadata": {},
   "source": [
    "<a id='section_5'></a>\n",
    "# Research Questions #"
   ]
  },
  {
   "cell_type": "markdown",
   "metadata": {},
   "source": [
    "<a id='section_5a'></a>\n",
    "# Question 1: What factors impacts the success of a TV show? #"
   ]
  },
  {
   "cell_type": "markdown",
   "metadata": {},
   "source": [
    "## Exploring Success\n",
    "In order to measure success, we are observing *ratings* that are given on different platforms; thus, a movie or show that has a higher rating would be considered to be more successful than those that have lower ratings. Our data on ratings are from IMDB and Rating Graph."
   ]
  },
  {
   "cell_type": "markdown",
   "metadata": {},
   "source": [
    "### Histogram\n",
    "Although we decided to look at ratings to determine the success of shows and movies, what would be the brightline as what is and what is not a successful show or movie? To figure this out we created histograms for IMDB shows and movies with their ratings since our datasets for those contain the highest amount of observations."
   ]
  },
  {
   "cell_type": "code",
   "execution_count": 174,
   "metadata": {},
   "outputs": [
    {
     "data": {
      "image/png": "[encoded data removed]",
      "text/plain": [
       "<Figure size 921.6x633.6 with 1 Axes>"
      ]
     },
     "metadata": {
      "needs_background": "light"
     },
     "output_type": "display_data"
    }
   ],
   "source": [
    "total_show_reviews.hist('imdb_rating',grid=False, color='lightblue')\n",
    "plt.title('TV Shows and Average IMDB Ratings')\n",
    "plt.xlabel('average rating')\n",
    "plt.ylabel('number of shows')\n",
    "plt.show()"
   ]
  },
  {
   "cell_type": "markdown",
   "metadata": {},
   "source": [
    "By utilizing the information from the IMDB dataset and creating this histogram, we wanted to determine what is the typical average rating that most shows gravitate towards and it appears that most of them are normally **7/10 or 8/10**. Thus, we defined that a show would be considered successful if it had an average rating of over 7/10."
   ]
  },
  {
   "cell_type": "markdown",
   "metadata": {},
   "source": [
    "## Heatmaps ##\n",
    "### Amazon Prime Data ###"
   ]
  },
  {
   "cell_type": "code",
   "execution_count": 175,
   "metadata": {},
   "outputs": [
    {
     "data": {
      "image/png": "[encoded data removed]",
      "text/plain": [
       "<Figure size 921.6x633.6 with 2 Axes>"
      ]
     },
     "metadata": {
      "needs_background": "light"
     },
     "output_type": "display_data"
    }
   ],
   "source": [
    "sns.heatmap(prime.corr(), center=0, cmap='coolwarm')\n",
    "plt.title('Amazon Prime Heatmap')\n",
    "plt.show()"
   ]
  },
  {
   "cell_type": "markdown",
   "metadata": {},
   "source": [
    "The number of seasons available and the rating seems to be of interest as there is a higher correlation compared to the other variables, but it is still not that significant as it is around 0.2 or 0.4. The second part of the preregistered statement..."
   ]
  },
  {
   "cell_type": "markdown",
   "metadata": {},
   "source": [
    "**Variables we are starting with based on the information we have access to from our datasets**\n",
    "* Genre\n",
    "* Source: what is the movie based on (book, remake, spinoff, toy...)\n",
    "* Age rating\n",
    "* Is the movie a sequel?\n",
    "* Internation box office\n",
    "* Domestic box office\n",
    "* Budget\n",
    "* Release date"
   ]
  },
  {
   "cell_type": "code",
   "execution_count": 293,
   "metadata": {},
   "outputs": [],
   "source": [
    "movies = movies.rename(columns = {'rating': \"age_rating\"})\n",
    "movies = movies.dropna()"
   ]
  },
  {
   "cell_type": "code",
   "execution_count": 294,
   "metadata": {},
   "outputs": [],
   "source": [
    "# renaming column name to access more easily\n",
    "movies = movies.rename(columns = {\"movie_name\": 'title'})"
   ]
  },
  {
   "cell_type": "code",
   "execution_count": 295,
   "metadata": {},
   "outputs": [
    {
     "data": {
      "text/html": [
       "<div>\n",
       "<style scoped>\n",
       "    .dataframe tbody tr th:only-of-type {\n",
       "        vertical-align: middle;\n",
       "    }\n",
       "\n",
       "    .dataframe tbody tr th {\n",
       "        vertical-align: top;\n",
       "    }\n",
       "\n",
       "    .dataframe thead th {\n",
       "        text-align: right;\n",
       "    }\n",
       "</style>\n",
       "<table border=\"1\" class=\"dataframe\">\n",
       "  <thead>\n",
       "    <tr style=\"text-align: right;\">\n",
       "      <th></th>\n",
       "      <th>title</th>\n",
       "      <th>production_year</th>\n",
       "      <th>movie_odid</th>\n",
       "      <th>production_budget</th>\n",
       "      <th>domestic_box_office</th>\n",
       "      <th>international_box_office</th>\n",
       "      <th>age_rating</th>\n",
       "      <th>creative_type</th>\n",
       "      <th>source</th>\n",
       "      <th>production_method</th>\n",
       "      <th>genre</th>\n",
       "      <th>sequel</th>\n",
       "      <th>running_time</th>\n",
       "    </tr>\n",
       "  </thead>\n",
       "  <tbody>\n",
       "    <tr>\n",
       "      <th>3</th>\n",
       "      <td>A Prairie Home Companion</td>\n",
       "      <td>2006</td>\n",
       "      <td>24910100</td>\n",
       "      <td>10000000</td>\n",
       "      <td>20342852</td>\n",
       "      <td>6373339</td>\n",
       "      <td>PG-13</td>\n",
       "      <td>Contemporary Fiction</td>\n",
       "      <td>Original Screenplay</td>\n",
       "      <td>Live Action</td>\n",
       "      <td>Comedy</td>\n",
       "      <td>0.0</td>\n",
       "      <td>105.0</td>\n",
       "    </tr>\n",
       "    <tr>\n",
       "      <th>5</th>\n",
       "      <td>Employee of the Month</td>\n",
       "      <td>2006</td>\n",
       "      <td>19540100</td>\n",
       "      <td>10000000</td>\n",
       "      <td>28444855</td>\n",
       "      <td>9920000</td>\n",
       "      <td>PG-13</td>\n",
       "      <td>Contemporary Fiction</td>\n",
       "      <td>Original Screenplay</td>\n",
       "      <td>Live Action</td>\n",
       "      <td>Comedy</td>\n",
       "      <td>0.0</td>\n",
       "      <td>108.0</td>\n",
       "    </tr>\n",
       "    <tr>\n",
       "      <th>13</th>\n",
       "      <td>Crank</td>\n",
       "      <td>2006</td>\n",
       "      <td>19850100</td>\n",
       "      <td>12000000</td>\n",
       "      <td>27838408</td>\n",
       "      <td>16086515</td>\n",
       "      <td>R</td>\n",
       "      <td>Contemporary Fiction</td>\n",
       "      <td>Original Screenplay</td>\n",
       "      <td>Live Action</td>\n",
       "      <td>Action</td>\n",
       "      <td>0.0</td>\n",
       "      <td>88.0</td>\n",
       "    </tr>\n",
       "    <tr>\n",
       "      <th>14</th>\n",
       "      <td>Fateless</td>\n",
       "      <td>2006</td>\n",
       "      <td>75540100</td>\n",
       "      <td>12000000</td>\n",
       "      <td>196857</td>\n",
       "      <td>0</td>\n",
       "      <td>R</td>\n",
       "      <td>Historical Fiction</td>\n",
       "      <td>Based on Fiction Book/Short Story</td>\n",
       "      <td>Live Action</td>\n",
       "      <td>Drama</td>\n",
       "      <td>0.0</td>\n",
       "      <td>140.0</td>\n",
       "    </tr>\n",
       "    <tr>\n",
       "      <th>16</th>\n",
       "      <td>Step Up</td>\n",
       "      <td>2006</td>\n",
       "      <td>7780100</td>\n",
       "      <td>12000000</td>\n",
       "      <td>65328121</td>\n",
       "      <td>45661036</td>\n",
       "      <td>PG-13</td>\n",
       "      <td>Contemporary Fiction</td>\n",
       "      <td>Original Screenplay</td>\n",
       "      <td>Live Action</td>\n",
       "      <td>Drama</td>\n",
       "      <td>0.0</td>\n",
       "      <td>103.0</td>\n",
       "    </tr>\n",
       "  </tbody>\n",
       "</table>\n",
       "</div>"
      ],
      "text/plain": [
       "                       title  production_year  movie_odid  production_budget  \\\n",
       "3   A Prairie Home Companion             2006    24910100           10000000   \n",
       "5      Employee of the Month             2006    19540100           10000000   \n",
       "13                     Crank             2006    19850100           12000000   \n",
       "14                  Fateless             2006    75540100           12000000   \n",
       "16                   Step Up             2006     7780100           12000000   \n",
       "\n",
       "    domestic_box_office  international_box_office age_rating  \\\n",
       "3              20342852                   6373339      PG-13   \n",
       "5              28444855                   9920000      PG-13   \n",
       "13             27838408                  16086515          R   \n",
       "14               196857                         0          R   \n",
       "16             65328121                  45661036      PG-13   \n",
       "\n",
       "           creative_type                             source production_method  \\\n",
       "3   Contemporary Fiction                Original Screenplay       Live Action   \n",
       "5   Contemporary Fiction                Original Screenplay       Live Action   \n",
       "13  Contemporary Fiction                Original Screenplay       Live Action   \n",
       "14    Historical Fiction  Based on Fiction Book/Short Story       Live Action   \n",
       "16  Contemporary Fiction                Original Screenplay       Live Action   \n",
       "\n",
       "     genre  sequel  running_time  \n",
       "3   Comedy     0.0         105.0  \n",
       "5   Comedy     0.0         108.0  \n",
       "13  Action     0.0          88.0  \n",
       "14   Drama     0.0         140.0  \n",
       "16   Drama     0.0         103.0  "
      ]
     },
     "execution_count": 295,
     "metadata": {},
     "output_type": "execute_result"
    }
   ],
   "source": [
    "movies.head()"
   ]
  },
  {
   "cell_type": "code",
   "execution_count": 296,
   "metadata": {},
   "outputs": [
    {
     "data": {
      "text/html": [
       "<div>\n",
       "<style scoped>\n",
       "    .dataframe tbody tr th:only-of-type {\n",
       "        vertical-align: middle;\n",
       "    }\n",
       "\n",
       "    .dataframe tbody tr th {\n",
       "        vertical-align: top;\n",
       "    }\n",
       "\n",
       "    .dataframe thead th {\n",
       "        text-align: right;\n",
       "    }\n",
       "</style>\n",
       "<table border=\"1\" class=\"dataframe\">\n",
       "  <thead>\n",
       "    <tr style=\"text-align: right;\">\n",
       "      <th></th>\n",
       "      <th>rating</th>\n",
       "      <th>numVotes</th>\n",
       "      <th>title</th>\n",
       "      <th>originalTitle</th>\n",
       "      <th>isAdult</th>\n",
       "      <th>startYear</th>\n",
       "      <th>endYear</th>\n",
       "      <th>runtimeMinutes</th>\n",
       "      <th>genre</th>\n",
       "    </tr>\n",
       "  </thead>\n",
       "  <tbody>\n",
       "    <tr>\n",
       "      <th>0</th>\n",
       "      <td>4.5</td>\n",
       "      <td>14.0</td>\n",
       "      <td>Bohemios</td>\n",
       "      <td>Bohemios</td>\n",
       "      <td>0</td>\n",
       "      <td>1905</td>\n",
       "      <td>\\N</td>\n",
       "      <td>100</td>\n",
       "      <td>\\N</td>\n",
       "    </tr>\n",
       "    <tr>\n",
       "      <th>1</th>\n",
       "      <td>6.1</td>\n",
       "      <td>697.0</td>\n",
       "      <td>The Story of the Kelly Gang</td>\n",
       "      <td>The Story of the Kelly Gang</td>\n",
       "      <td>0</td>\n",
       "      <td>1906</td>\n",
       "      <td>\\N</td>\n",
       "      <td>70</td>\n",
       "      <td>Action,Adventure,Biography</td>\n",
       "    </tr>\n",
       "    <tr>\n",
       "      <th>2</th>\n",
       "      <td>4.5</td>\n",
       "      <td>23.0</td>\n",
       "      <td>Robbery Under Arms</td>\n",
       "      <td>Robbery Under Arms</td>\n",
       "      <td>0</td>\n",
       "      <td>1907</td>\n",
       "      <td>\\N</td>\n",
       "      <td>\\N</td>\n",
       "      <td>Drama</td>\n",
       "    </tr>\n",
       "    <tr>\n",
       "      <th>3</th>\n",
       "      <td>4.9</td>\n",
       "      <td>19.0</td>\n",
       "      <td>Don Quijote</td>\n",
       "      <td>Don Quijote</td>\n",
       "      <td>0</td>\n",
       "      <td>1908</td>\n",
       "      <td>\\N</td>\n",
       "      <td>\\N</td>\n",
       "      <td>Drama</td>\n",
       "    </tr>\n",
       "    <tr>\n",
       "      <th>4</th>\n",
       "      <td>5.3</td>\n",
       "      <td>65.0</td>\n",
       "      <td>The Fairylogue and Radio-Plays</td>\n",
       "      <td>The Fairylogue and Radio-Plays</td>\n",
       "      <td>0</td>\n",
       "      <td>1908</td>\n",
       "      <td>\\N</td>\n",
       "      <td>120</td>\n",
       "      <td>Adventure,Fantasy</td>\n",
       "    </tr>\n",
       "  </tbody>\n",
       "</table>\n",
       "</div>"
      ],
      "text/plain": [
       "   rating  numVotes                           title  \\\n",
       "0     4.5      14.0                        Bohemios   \n",
       "1     6.1     697.0     The Story of the Kelly Gang   \n",
       "2     4.5      23.0              Robbery Under Arms   \n",
       "3     4.9      19.0                     Don Quijote   \n",
       "4     5.3      65.0  The Fairylogue and Radio-Plays   \n",
       "\n",
       "                    originalTitle  isAdult  startYear endYear runtimeMinutes  \\\n",
       "0                        Bohemios        0       1905      \\N            100   \n",
       "1     The Story of the Kelly Gang        0       1906      \\N             70   \n",
       "2              Robbery Under Arms        0       1907      \\N             \\N   \n",
       "3                     Don Quijote        0       1908      \\N             \\N   \n",
       "4  The Fairylogue and Radio-Plays        0       1908      \\N            120   \n",
       "\n",
       "                        genre  \n",
       "0                          \\N  \n",
       "1  Action,Adventure,Biography  \n",
       "2                       Drama  \n",
       "3                       Drama  \n",
       "4           Adventure,Fantasy  "
      ]
     },
     "execution_count": 296,
     "metadata": {},
     "output_type": "execute_result"
    }
   ],
   "source": [
    "movie_ratings.head()"
   ]
  },
  {
   "cell_type": "code",
   "execution_count": 297,
   "metadata": {},
   "outputs": [
    {
     "data": {
      "text/html": [
       "<div>\n",
       "<style scoped>\n",
       "    .dataframe tbody tr th:only-of-type {\n",
       "        vertical-align: middle;\n",
       "    }\n",
       "\n",
       "    .dataframe tbody tr th {\n",
       "        vertical-align: top;\n",
       "    }\n",
       "\n",
       "    .dataframe thead th {\n",
       "        text-align: right;\n",
       "    }\n",
       "</style>\n",
       "<table border=\"1\" class=\"dataframe\">\n",
       "  <thead>\n",
       "    <tr style=\"text-align: right;\">\n",
       "      <th></th>\n",
       "      <th>rating</th>\n",
       "      <th>numVotes</th>\n",
       "      <th>title</th>\n",
       "      <th>originalTitle</th>\n",
       "      <th>isAdult</th>\n",
       "      <th>startYear</th>\n",
       "      <th>endYear</th>\n",
       "      <th>runtimeMinutes</th>\n",
       "      <th>genre_x</th>\n",
       "      <th>production_year</th>\n",
       "      <th>...</th>\n",
       "      <th>production_budget</th>\n",
       "      <th>domestic_box_office</th>\n",
       "      <th>international_box_office</th>\n",
       "      <th>age_rating</th>\n",
       "      <th>creative_type</th>\n",
       "      <th>source</th>\n",
       "      <th>production_method</th>\n",
       "      <th>genre_y</th>\n",
       "      <th>sequel</th>\n",
       "      <th>running_time</th>\n",
       "    </tr>\n",
       "  </thead>\n",
       "  <tbody>\n",
       "    <tr>\n",
       "      <th>0</th>\n",
       "      <td>6.1</td>\n",
       "      <td>52.0</td>\n",
       "      <td>Robin Hood</td>\n",
       "      <td>Robin Hood</td>\n",
       "      <td>0</td>\n",
       "      <td>1913</td>\n",
       "      <td>\\N</td>\n",
       "      <td>\\N</td>\n",
       "      <td>Adventure</td>\n",
       "      <td>2010</td>\n",
       "      <td>...</td>\n",
       "      <td>210000000</td>\n",
       "      <td>105487148</td>\n",
       "      <td>216971858</td>\n",
       "      <td>PG-13</td>\n",
       "      <td>Historical Fiction</td>\n",
       "      <td>Based on Folk Tale/Legend/Fairytale</td>\n",
       "      <td>Live Action</td>\n",
       "      <td>Action</td>\n",
       "      <td>0.0</td>\n",
       "      <td>139.0</td>\n",
       "    </tr>\n",
       "    <tr>\n",
       "      <th>1</th>\n",
       "      <td>6.1</td>\n",
       "      <td>52.0</td>\n",
       "      <td>Robin Hood</td>\n",
       "      <td>Robin Hood</td>\n",
       "      <td>0</td>\n",
       "      <td>1913</td>\n",
       "      <td>\\N</td>\n",
       "      <td>\\N</td>\n",
       "      <td>Adventure</td>\n",
       "      <td>2018</td>\n",
       "      <td>...</td>\n",
       "      <td>99000000</td>\n",
       "      <td>30824628</td>\n",
       "      <td>53922813</td>\n",
       "      <td>PG-13</td>\n",
       "      <td>Historical Fiction</td>\n",
       "      <td>Based on Folk Tale/Legend/Fairytale</td>\n",
       "      <td>Live Action</td>\n",
       "      <td>Action</td>\n",
       "      <td>0.0</td>\n",
       "      <td>116.0</td>\n",
       "    </tr>\n",
       "    <tr>\n",
       "      <th>2</th>\n",
       "      <td>7.1</td>\n",
       "      <td>2162.0</td>\n",
       "      <td>Robin Hood</td>\n",
       "      <td>Robin Hood</td>\n",
       "      <td>0</td>\n",
       "      <td>1922</td>\n",
       "      <td>\\N</td>\n",
       "      <td>143</td>\n",
       "      <td>Adventure,Family,Romance</td>\n",
       "      <td>2010</td>\n",
       "      <td>...</td>\n",
       "      <td>210000000</td>\n",
       "      <td>105487148</td>\n",
       "      <td>216971858</td>\n",
       "      <td>PG-13</td>\n",
       "      <td>Historical Fiction</td>\n",
       "      <td>Based on Folk Tale/Legend/Fairytale</td>\n",
       "      <td>Live Action</td>\n",
       "      <td>Action</td>\n",
       "      <td>0.0</td>\n",
       "      <td>139.0</td>\n",
       "    </tr>\n",
       "    <tr>\n",
       "      <th>3</th>\n",
       "      <td>7.1</td>\n",
       "      <td>2162.0</td>\n",
       "      <td>Robin Hood</td>\n",
       "      <td>Robin Hood</td>\n",
       "      <td>0</td>\n",
       "      <td>1922</td>\n",
       "      <td>\\N</td>\n",
       "      <td>143</td>\n",
       "      <td>Adventure,Family,Romance</td>\n",
       "      <td>2018</td>\n",
       "      <td>...</td>\n",
       "      <td>99000000</td>\n",
       "      <td>30824628</td>\n",
       "      <td>53922813</td>\n",
       "      <td>PG-13</td>\n",
       "      <td>Historical Fiction</td>\n",
       "      <td>Based on Folk Tale/Legend/Fairytale</td>\n",
       "      <td>Live Action</td>\n",
       "      <td>Action</td>\n",
       "      <td>0.0</td>\n",
       "      <td>116.0</td>\n",
       "    </tr>\n",
       "    <tr>\n",
       "      <th>4</th>\n",
       "      <td>7.6</td>\n",
       "      <td>120610.0</td>\n",
       "      <td>Robin Hood</td>\n",
       "      <td>Robin Hood</td>\n",
       "      <td>0</td>\n",
       "      <td>1973</td>\n",
       "      <td>\\N</td>\n",
       "      <td>83</td>\n",
       "      <td>Adventure,Animation,Comedy</td>\n",
       "      <td>2010</td>\n",
       "      <td>...</td>\n",
       "      <td>210000000</td>\n",
       "      <td>105487148</td>\n",
       "      <td>216971858</td>\n",
       "      <td>PG-13</td>\n",
       "      <td>Historical Fiction</td>\n",
       "      <td>Based on Folk Tale/Legend/Fairytale</td>\n",
       "      <td>Live Action</td>\n",
       "      <td>Action</td>\n",
       "      <td>0.0</td>\n",
       "      <td>139.0</td>\n",
       "    </tr>\n",
       "  </tbody>\n",
       "</table>\n",
       "<p>5 rows × 21 columns</p>\n",
       "</div>"
      ],
      "text/plain": [
       "   rating  numVotes       title originalTitle  isAdult  startYear endYear  \\\n",
       "0     6.1      52.0  Robin Hood    Robin Hood        0       1913      \\N   \n",
       "1     6.1      52.0  Robin Hood    Robin Hood        0       1913      \\N   \n",
       "2     7.1    2162.0  Robin Hood    Robin Hood        0       1922      \\N   \n",
       "3     7.1    2162.0  Robin Hood    Robin Hood        0       1922      \\N   \n",
       "4     7.6  120610.0  Robin Hood    Robin Hood        0       1973      \\N   \n",
       "\n",
       "  runtimeMinutes                     genre_x  production_year  ...  \\\n",
       "0             \\N                   Adventure             2010  ...   \n",
       "1             \\N                   Adventure             2018  ...   \n",
       "2            143    Adventure,Family,Romance             2010  ...   \n",
       "3            143    Adventure,Family,Romance             2018  ...   \n",
       "4             83  Adventure,Animation,Comedy             2010  ...   \n",
       "\n",
       "   production_budget  domestic_box_office  international_box_office  \\\n",
       "0          210000000            105487148                 216971858   \n",
       "1           99000000             30824628                  53922813   \n",
       "2          210000000            105487148                 216971858   \n",
       "3           99000000             30824628                  53922813   \n",
       "4          210000000            105487148                 216971858   \n",
       "\n",
       "   age_rating       creative_type                               source  \\\n",
       "0       PG-13  Historical Fiction  Based on Folk Tale/Legend/Fairytale   \n",
       "1       PG-13  Historical Fiction  Based on Folk Tale/Legend/Fairytale   \n",
       "2       PG-13  Historical Fiction  Based on Folk Tale/Legend/Fairytale   \n",
       "3       PG-13  Historical Fiction  Based on Folk Tale/Legend/Fairytale   \n",
       "4       PG-13  Historical Fiction  Based on Folk Tale/Legend/Fairytale   \n",
       "\n",
       "  production_method genre_y sequel  running_time  \n",
       "0       Live Action  Action    0.0         139.0  \n",
       "1       Live Action  Action    0.0         116.0  \n",
       "2       Live Action  Action    0.0         139.0  \n",
       "3       Live Action  Action    0.0         116.0  \n",
       "4       Live Action  Action    0.0         139.0  \n",
       "\n",
       "[5 rows x 21 columns]"
      ]
     },
     "execution_count": 297,
     "metadata": {},
     "output_type": "execute_result"
    }
   ],
   "source": [
    "movies_log_data = movie_ratings.merge(movies,on = 'title', how = 'inner')\n",
    "movies_log_data.head()"
   ]
  },
  {
   "cell_type": "code",
   "execution_count": 298,
   "metadata": {},
   "outputs": [
    {
     "data": {
      "text/html": [
       "<div>\n",
       "<style scoped>\n",
       "    .dataframe tbody tr th:only-of-type {\n",
       "        vertical-align: middle;\n",
       "    }\n",
       "\n",
       "    .dataframe tbody tr th {\n",
       "        vertical-align: top;\n",
       "    }\n",
       "\n",
       "    .dataframe thead th {\n",
       "        text-align: right;\n",
       "    }\n",
       "</style>\n",
       "<table border=\"1\" class=\"dataframe\">\n",
       "  <thead>\n",
       "    <tr style=\"text-align: right;\">\n",
       "      <th></th>\n",
       "      <th>rating</th>\n",
       "      <th>startYear</th>\n",
       "      <th>production_budget</th>\n",
       "      <th>domestic_box_office</th>\n",
       "      <th>international_box_office</th>\n",
       "      <th>age_rating</th>\n",
       "      <th>creative_type</th>\n",
       "      <th>source</th>\n",
       "      <th>genre_y</th>\n",
       "      <th>sequel</th>\n",
       "      <th>running_time</th>\n",
       "    </tr>\n",
       "  </thead>\n",
       "  <tbody>\n",
       "    <tr>\n",
       "      <th>0</th>\n",
       "      <td>6.1</td>\n",
       "      <td>1913</td>\n",
       "      <td>210000000</td>\n",
       "      <td>105487148</td>\n",
       "      <td>216971858</td>\n",
       "      <td>PG-13</td>\n",
       "      <td>Historical Fiction</td>\n",
       "      <td>Based on Folk Tale/Legend/Fairytale</td>\n",
       "      <td>Action</td>\n",
       "      <td>0.0</td>\n",
       "      <td>139.0</td>\n",
       "    </tr>\n",
       "    <tr>\n",
       "      <th>1</th>\n",
       "      <td>6.1</td>\n",
       "      <td>1913</td>\n",
       "      <td>99000000</td>\n",
       "      <td>30824628</td>\n",
       "      <td>53922813</td>\n",
       "      <td>PG-13</td>\n",
       "      <td>Historical Fiction</td>\n",
       "      <td>Based on Folk Tale/Legend/Fairytale</td>\n",
       "      <td>Action</td>\n",
       "      <td>0.0</td>\n",
       "      <td>116.0</td>\n",
       "    </tr>\n",
       "    <tr>\n",
       "      <th>2</th>\n",
       "      <td>7.1</td>\n",
       "      <td>1922</td>\n",
       "      <td>210000000</td>\n",
       "      <td>105487148</td>\n",
       "      <td>216971858</td>\n",
       "      <td>PG-13</td>\n",
       "      <td>Historical Fiction</td>\n",
       "      <td>Based on Folk Tale/Legend/Fairytale</td>\n",
       "      <td>Action</td>\n",
       "      <td>0.0</td>\n",
       "      <td>139.0</td>\n",
       "    </tr>\n",
       "    <tr>\n",
       "      <th>3</th>\n",
       "      <td>7.1</td>\n",
       "      <td>1922</td>\n",
       "      <td>99000000</td>\n",
       "      <td>30824628</td>\n",
       "      <td>53922813</td>\n",
       "      <td>PG-13</td>\n",
       "      <td>Historical Fiction</td>\n",
       "      <td>Based on Folk Tale/Legend/Fairytale</td>\n",
       "      <td>Action</td>\n",
       "      <td>0.0</td>\n",
       "      <td>116.0</td>\n",
       "    </tr>\n",
       "    <tr>\n",
       "      <th>4</th>\n",
       "      <td>7.6</td>\n",
       "      <td>1973</td>\n",
       "      <td>210000000</td>\n",
       "      <td>105487148</td>\n",
       "      <td>216971858</td>\n",
       "      <td>PG-13</td>\n",
       "      <td>Historical Fiction</td>\n",
       "      <td>Based on Folk Tale/Legend/Fairytale</td>\n",
       "      <td>Action</td>\n",
       "      <td>0.0</td>\n",
       "      <td>139.0</td>\n",
       "    </tr>\n",
       "  </tbody>\n",
       "</table>\n",
       "</div>"
      ],
      "text/plain": [
       "   rating  startYear  production_budget  domestic_box_office  \\\n",
       "0     6.1       1913          210000000            105487148   \n",
       "1     6.1       1913           99000000             30824628   \n",
       "2     7.1       1922          210000000            105487148   \n",
       "3     7.1       1922           99000000             30824628   \n",
       "4     7.6       1973          210000000            105487148   \n",
       "\n",
       "   international_box_office age_rating       creative_type  \\\n",
       "0                 216971858      PG-13  Historical Fiction   \n",
       "1                  53922813      PG-13  Historical Fiction   \n",
       "2                 216971858      PG-13  Historical Fiction   \n",
       "3                  53922813      PG-13  Historical Fiction   \n",
       "4                 216971858      PG-13  Historical Fiction   \n",
       "\n",
       "                                source genre_y  sequel  running_time  \n",
       "0  Based on Folk Tale/Legend/Fairytale  Action     0.0         139.0  \n",
       "1  Based on Folk Tale/Legend/Fairytale  Action     0.0         116.0  \n",
       "2  Based on Folk Tale/Legend/Fairytale  Action     0.0         139.0  \n",
       "3  Based on Folk Tale/Legend/Fairytale  Action     0.0         116.0  \n",
       "4  Based on Folk Tale/Legend/Fairytale  Action     0.0         139.0  "
      ]
     },
     "execution_count": 298,
     "metadata": {},
     "output_type": "execute_result"
    }
   ],
   "source": [
    "movies_log_data = movies_log_data.drop(['runtimeMinutes','title','movie_odid','endYear',\n",
    "                                        'production_method','production_year','isAdult','numVotes',\n",
    "                                        'originalTitle','genre_x'], axis = 1)\n",
    "movies_log_data.head()"
   ]
  },
  {
   "cell_type": "markdown",
   "metadata": {},
   "source": [
    "### Creating dummy variables for non-numeric variables ###"
   ]
  },
  {
   "cell_type": "code",
   "execution_count": 185,
   "metadata": {},
   "outputs": [],
   "source": [
    "# genre\n",
    "movies_genre = pd.get_dummies(movies_log_data['genre_y'])\n",
    "movies_log_data = pd.concat([movies_log_data,movies_genre],axis = 1)"
   ]
  },
  {
   "cell_type": "code",
   "execution_count": 186,
   "metadata": {},
   "outputs": [],
   "source": [
    "# age rating\n",
    "movies_rat = pd.get_dummies(movies_log_data['age_rating'])\n",
    "movies_log_data = pd.concat([movies_log_data,movies_rat],axis = 1)"
   ]
  },
  {
   "cell_type": "code",
   "execution_count": 187,
   "metadata": {},
   "outputs": [],
   "source": [
    "# type\n",
    "movies_type = pd.get_dummies(movies_log_data['creative_type'])\n",
    "movies_log_data = pd.concat([movies_log_data,movies_type],axis = 1)"
   ]
  },
  {
   "cell_type": "code",
   "execution_count": 188,
   "metadata": {},
   "outputs": [],
   "source": [
    "# source\n",
    "movies_src = pd.get_dummies(movies_log_data['source'])\n",
    "movies_log_data = pd.concat([movies_log_data,movies_src],axis = 1)"
   ]
  },
  {
   "cell_type": "code",
   "execution_count": 189,
   "metadata": {},
   "outputs": [],
   "source": [
    "movies_log_data['successful'] = movies_log_data['rating'] > 7                        "
   ]
  },
  {
   "cell_type": "code",
   "execution_count": 190,
   "metadata": {},
   "outputs": [],
   "source": [
    "movies_log_data = movies_log_data.drop(['running_time','genre_y','rating','age_rating','creative_type','source'], axis = 1)"
   ]
  },
  {
   "cell_type": "code",
   "execution_count": 191,
   "metadata": {},
   "outputs": [],
   "source": [
    "movies_log_data = movies_log_data[movies_log_data['startYear'] > 1990]"
   ]
  },
  {
   "cell_type": "markdown",
   "metadata": {},
   "source": [
    "We will adjust the `budget` and `year` variables so that they are smaller but still keep the original proportions. This will prevent the coefficent from getting skewed since the budgets of the movies are extremely higher then our true/false variables."
   ]
  },
  {
   "cell_type": "code",
   "execution_count": 192,
   "metadata": {},
   "outputs": [
    {
     "data": {
      "text/html": [
       "<div>\n",
       "<style scoped>\n",
       "    .dataframe tbody tr th:only-of-type {\n",
       "        vertical-align: middle;\n",
       "    }\n",
       "\n",
       "    .dataframe tbody tr th {\n",
       "        vertical-align: top;\n",
       "    }\n",
       "\n",
       "    .dataframe thead th {\n",
       "        text-align: right;\n",
       "    }\n",
       "</style>\n",
       "<table border=\"1\" class=\"dataframe\">\n",
       "  <thead>\n",
       "    <tr style=\"text-align: right;\">\n",
       "      <th></th>\n",
       "      <th>startYear</th>\n",
       "      <th>production_budget</th>\n",
       "      <th>domestic_box_office</th>\n",
       "      <th>international_box_office</th>\n",
       "      <th>sequel</th>\n",
       "      <th>Action</th>\n",
       "      <th>Adventure</th>\n",
       "      <th>Black Comedy</th>\n",
       "      <th>Comedy</th>\n",
       "      <th>Concert/Performance</th>\n",
       "      <th>...</th>\n",
       "      <th>Based on Short Film</th>\n",
       "      <th>Based on TV</th>\n",
       "      <th>Based on Theme Park Ride</th>\n",
       "      <th>Based on Toy</th>\n",
       "      <th>Based on Web Series</th>\n",
       "      <th>Compilation</th>\n",
       "      <th>Original Screenplay</th>\n",
       "      <th>Remake</th>\n",
       "      <th>Spin-Off</th>\n",
       "      <th>successful</th>\n",
       "    </tr>\n",
       "  </thead>\n",
       "  <tbody>\n",
       "    <tr>\n",
       "      <th>6</th>\n",
       "      <td>1991</td>\n",
       "      <td>210000000</td>\n",
       "      <td>105487148</td>\n",
       "      <td>216971858</td>\n",
       "      <td>0.0</td>\n",
       "      <td>1</td>\n",
       "      <td>0</td>\n",
       "      <td>0</td>\n",
       "      <td>0</td>\n",
       "      <td>0</td>\n",
       "      <td>...</td>\n",
       "      <td>0</td>\n",
       "      <td>0</td>\n",
       "      <td>0</td>\n",
       "      <td>0</td>\n",
       "      <td>0</td>\n",
       "      <td>0</td>\n",
       "      <td>0</td>\n",
       "      <td>0</td>\n",
       "      <td>0</td>\n",
       "      <td>False</td>\n",
       "    </tr>\n",
       "    <tr>\n",
       "      <th>7</th>\n",
       "      <td>1991</td>\n",
       "      <td>99000000</td>\n",
       "      <td>30824628</td>\n",
       "      <td>53922813</td>\n",
       "      <td>0.0</td>\n",
       "      <td>1</td>\n",
       "      <td>0</td>\n",
       "      <td>0</td>\n",
       "      <td>0</td>\n",
       "      <td>0</td>\n",
       "      <td>...</td>\n",
       "      <td>0</td>\n",
       "      <td>0</td>\n",
       "      <td>0</td>\n",
       "      <td>0</td>\n",
       "      <td>0</td>\n",
       "      <td>0</td>\n",
       "      <td>0</td>\n",
       "      <td>0</td>\n",
       "      <td>0</td>\n",
       "      <td>False</td>\n",
       "    </tr>\n",
       "    <tr>\n",
       "      <th>10</th>\n",
       "      <td>2010</td>\n",
       "      <td>210000000</td>\n",
       "      <td>105487148</td>\n",
       "      <td>216971858</td>\n",
       "      <td>0.0</td>\n",
       "      <td>1</td>\n",
       "      <td>0</td>\n",
       "      <td>0</td>\n",
       "      <td>0</td>\n",
       "      <td>0</td>\n",
       "      <td>...</td>\n",
       "      <td>0</td>\n",
       "      <td>0</td>\n",
       "      <td>0</td>\n",
       "      <td>0</td>\n",
       "      <td>0</td>\n",
       "      <td>0</td>\n",
       "      <td>0</td>\n",
       "      <td>0</td>\n",
       "      <td>0</td>\n",
       "      <td>False</td>\n",
       "    </tr>\n",
       "    <tr>\n",
       "      <th>11</th>\n",
       "      <td>2010</td>\n",
       "      <td>99000000</td>\n",
       "      <td>30824628</td>\n",
       "      <td>53922813</td>\n",
       "      <td>0.0</td>\n",
       "      <td>1</td>\n",
       "      <td>0</td>\n",
       "      <td>0</td>\n",
       "      <td>0</td>\n",
       "      <td>0</td>\n",
       "      <td>...</td>\n",
       "      <td>0</td>\n",
       "      <td>0</td>\n",
       "      <td>0</td>\n",
       "      <td>0</td>\n",
       "      <td>0</td>\n",
       "      <td>0</td>\n",
       "      <td>0</td>\n",
       "      <td>0</td>\n",
       "      <td>0</td>\n",
       "      <td>False</td>\n",
       "    </tr>\n",
       "    <tr>\n",
       "      <th>12</th>\n",
       "      <td>2013</td>\n",
       "      <td>210000000</td>\n",
       "      <td>105487148</td>\n",
       "      <td>216971858</td>\n",
       "      <td>0.0</td>\n",
       "      <td>1</td>\n",
       "      <td>0</td>\n",
       "      <td>0</td>\n",
       "      <td>0</td>\n",
       "      <td>0</td>\n",
       "      <td>...</td>\n",
       "      <td>0</td>\n",
       "      <td>0</td>\n",
       "      <td>0</td>\n",
       "      <td>0</td>\n",
       "      <td>0</td>\n",
       "      <td>0</td>\n",
       "      <td>0</td>\n",
       "      <td>0</td>\n",
       "      <td>0</td>\n",
       "      <td>False</td>\n",
       "    </tr>\n",
       "  </tbody>\n",
       "</table>\n",
       "<p>5 rows × 52 columns</p>\n",
       "</div>"
      ],
      "text/plain": [
       "    startYear  production_budget  domestic_box_office  \\\n",
       "6        1991          210000000            105487148   \n",
       "7        1991           99000000             30824628   \n",
       "10       2010          210000000            105487148   \n",
       "11       2010           99000000             30824628   \n",
       "12       2013          210000000            105487148   \n",
       "\n",
       "    international_box_office  sequel  Action  Adventure  Black Comedy  Comedy  \\\n",
       "6                  216971858     0.0       1          0             0       0   \n",
       "7                   53922813     0.0       1          0             0       0   \n",
       "10                 216971858     0.0       1          0             0       0   \n",
       "11                  53922813     0.0       1          0             0       0   \n",
       "12                 216971858     0.0       1          0             0       0   \n",
       "\n",
       "    Concert/Performance  ...  Based on Short Film  Based on TV  \\\n",
       "6                     0  ...                    0            0   \n",
       "7                     0  ...                    0            0   \n",
       "10                    0  ...                    0            0   \n",
       "11                    0  ...                    0            0   \n",
       "12                    0  ...                    0            0   \n",
       "\n",
       "    Based on Theme Park Ride  Based on Toy  Based on Web Series  Compilation  \\\n",
       "6                          0             0                    0            0   \n",
       "7                          0             0                    0            0   \n",
       "10                         0             0                    0            0   \n",
       "11                         0             0                    0            0   \n",
       "12                         0             0                    0            0   \n",
       "\n",
       "    Original Screenplay  Remake  Spin-Off  successful  \n",
       "6                     0       0         0       False  \n",
       "7                     0       0         0       False  \n",
       "10                    0       0         0       False  \n",
       "11                    0       0         0       False  \n",
       "12                    0       0         0       False  \n",
       "\n",
       "[5 rows x 52 columns]"
      ]
     },
     "execution_count": 192,
     "metadata": {},
     "output_type": "execute_result"
    }
   ],
   "source": [
    "movies_log_data.head()"
   ]
  },
  {
   "cell_type": "code",
   "execution_count": 193,
   "metadata": {},
   "outputs": [
    {
     "data": {
      "text/html": [
       "<div>\n",
       "<style scoped>\n",
       "    .dataframe tbody tr th:only-of-type {\n",
       "        vertical-align: middle;\n",
       "    }\n",
       "\n",
       "    .dataframe tbody tr th {\n",
       "        vertical-align: top;\n",
       "    }\n",
       "\n",
       "    .dataframe thead th {\n",
       "        text-align: right;\n",
       "    }\n",
       "</style>\n",
       "<table border=\"1\" class=\"dataframe\">\n",
       "  <thead>\n",
       "    <tr style=\"text-align: right;\">\n",
       "      <th></th>\n",
       "      <th>startYear</th>\n",
       "      <th>production_budget</th>\n",
       "      <th>domestic_box_office</th>\n",
       "      <th>international_box_office</th>\n",
       "      <th>sequel</th>\n",
       "      <th>Action</th>\n",
       "      <th>Adventure</th>\n",
       "      <th>Black Comedy</th>\n",
       "      <th>Comedy</th>\n",
       "      <th>Concert/Performance</th>\n",
       "      <th>...</th>\n",
       "      <th>Based on Religious Text</th>\n",
       "      <th>Based on Short Film</th>\n",
       "      <th>Based on TV</th>\n",
       "      <th>Based on Theme Park Ride</th>\n",
       "      <th>Based on Toy</th>\n",
       "      <th>Based on Web Series</th>\n",
       "      <th>Compilation</th>\n",
       "      <th>Original Screenplay</th>\n",
       "      <th>Remake</th>\n",
       "      <th>Spin-Off</th>\n",
       "    </tr>\n",
       "  </thead>\n",
       "  <tbody>\n",
       "    <tr>\n",
       "      <th>6</th>\n",
       "      <td>1991</td>\n",
       "      <td>210000000</td>\n",
       "      <td>105487148</td>\n",
       "      <td>216971858</td>\n",
       "      <td>0.0</td>\n",
       "      <td>1</td>\n",
       "      <td>0</td>\n",
       "      <td>0</td>\n",
       "      <td>0</td>\n",
       "      <td>0</td>\n",
       "      <td>...</td>\n",
       "      <td>0</td>\n",
       "      <td>0</td>\n",
       "      <td>0</td>\n",
       "      <td>0</td>\n",
       "      <td>0</td>\n",
       "      <td>0</td>\n",
       "      <td>0</td>\n",
       "      <td>0</td>\n",
       "      <td>0</td>\n",
       "      <td>0</td>\n",
       "    </tr>\n",
       "    <tr>\n",
       "      <th>7</th>\n",
       "      <td>1991</td>\n",
       "      <td>99000000</td>\n",
       "      <td>30824628</td>\n",
       "      <td>53922813</td>\n",
       "      <td>0.0</td>\n",
       "      <td>1</td>\n",
       "      <td>0</td>\n",
       "      <td>0</td>\n",
       "      <td>0</td>\n",
       "      <td>0</td>\n",
       "      <td>...</td>\n",
       "      <td>0</td>\n",
       "      <td>0</td>\n",
       "      <td>0</td>\n",
       "      <td>0</td>\n",
       "      <td>0</td>\n",
       "      <td>0</td>\n",
       "      <td>0</td>\n",
       "      <td>0</td>\n",
       "      <td>0</td>\n",
       "      <td>0</td>\n",
       "    </tr>\n",
       "    <tr>\n",
       "      <th>10</th>\n",
       "      <td>2010</td>\n",
       "      <td>210000000</td>\n",
       "      <td>105487148</td>\n",
       "      <td>216971858</td>\n",
       "      <td>0.0</td>\n",
       "      <td>1</td>\n",
       "      <td>0</td>\n",
       "      <td>0</td>\n",
       "      <td>0</td>\n",
       "      <td>0</td>\n",
       "      <td>...</td>\n",
       "      <td>0</td>\n",
       "      <td>0</td>\n",
       "      <td>0</td>\n",
       "      <td>0</td>\n",
       "      <td>0</td>\n",
       "      <td>0</td>\n",
       "      <td>0</td>\n",
       "      <td>0</td>\n",
       "      <td>0</td>\n",
       "      <td>0</td>\n",
       "    </tr>\n",
       "    <tr>\n",
       "      <th>11</th>\n",
       "      <td>2010</td>\n",
       "      <td>99000000</td>\n",
       "      <td>30824628</td>\n",
       "      <td>53922813</td>\n",
       "      <td>0.0</td>\n",
       "      <td>1</td>\n",
       "      <td>0</td>\n",
       "      <td>0</td>\n",
       "      <td>0</td>\n",
       "      <td>0</td>\n",
       "      <td>...</td>\n",
       "      <td>0</td>\n",
       "      <td>0</td>\n",
       "      <td>0</td>\n",
       "      <td>0</td>\n",
       "      <td>0</td>\n",
       "      <td>0</td>\n",
       "      <td>0</td>\n",
       "      <td>0</td>\n",
       "      <td>0</td>\n",
       "      <td>0</td>\n",
       "    </tr>\n",
       "    <tr>\n",
       "      <th>12</th>\n",
       "      <td>2013</td>\n",
       "      <td>210000000</td>\n",
       "      <td>105487148</td>\n",
       "      <td>216971858</td>\n",
       "      <td>0.0</td>\n",
       "      <td>1</td>\n",
       "      <td>0</td>\n",
       "      <td>0</td>\n",
       "      <td>0</td>\n",
       "      <td>0</td>\n",
       "      <td>...</td>\n",
       "      <td>0</td>\n",
       "      <td>0</td>\n",
       "      <td>0</td>\n",
       "      <td>0</td>\n",
       "      <td>0</td>\n",
       "      <td>0</td>\n",
       "      <td>0</td>\n",
       "      <td>0</td>\n",
       "      <td>0</td>\n",
       "      <td>0</td>\n",
       "    </tr>\n",
       "  </tbody>\n",
       "</table>\n",
       "<p>5 rows × 51 columns</p>\n",
       "</div>"
      ],
      "text/plain": [
       "    startYear  production_budget  domestic_box_office  \\\n",
       "6        1991          210000000            105487148   \n",
       "7        1991           99000000             30824628   \n",
       "10       2010          210000000            105487148   \n",
       "11       2010           99000000             30824628   \n",
       "12       2013          210000000            105487148   \n",
       "\n",
       "    international_box_office  sequel  Action  Adventure  Black Comedy  Comedy  \\\n",
       "6                  216971858     0.0       1          0             0       0   \n",
       "7                   53922813     0.0       1          0             0       0   \n",
       "10                 216971858     0.0       1          0             0       0   \n",
       "11                  53922813     0.0       1          0             0       0   \n",
       "12                 216971858     0.0       1          0             0       0   \n",
       "\n",
       "    Concert/Performance  ...  Based on Religious Text  Based on Short Film  \\\n",
       "6                     0  ...                        0                    0   \n",
       "7                     0  ...                        0                    0   \n",
       "10                    0  ...                        0                    0   \n",
       "11                    0  ...                        0                    0   \n",
       "12                    0  ...                        0                    0   \n",
       "\n",
       "    Based on TV  Based on Theme Park Ride  Based on Toy  Based on Web Series  \\\n",
       "6             0                         0             0                    0   \n",
       "7             0                         0             0                    0   \n",
       "10            0                         0             0                    0   \n",
       "11            0                         0             0                    0   \n",
       "12            0                         0             0                    0   \n",
       "\n",
       "    Compilation  Original Screenplay  Remake  Spin-Off  \n",
       "6             0                    0       0         0  \n",
       "7             0                    0       0         0  \n",
       "10            0                    0       0         0  \n",
       "11            0                    0       0         0  \n",
       "12            0                    0       0         0  \n",
       "\n",
       "[5 rows x 51 columns]"
      ]
     },
     "execution_count": 193,
     "metadata": {},
     "output_type": "execute_result"
    }
   ],
   "source": [
    "variables = movies_log_data.drop(['successful'], axis = 1)\n",
    "variables.head()"
   ]
  },
  {
   "cell_type": "markdown",
   "metadata": {},
   "source": [
    "## Attempt 1 Analysis"
   ]
  },
  {
   "cell_type": "code",
   "execution_count": 194,
   "metadata": {},
   "outputs": [
    {
     "name": "stdout",
     "output_type": "stream",
     "text": [
      "Coefficients:\n",
      "startYear: -0.00000\n",
      "production_budget: -0.00000\n",
      "domestic_box_office: 0.00000\n",
      "international_box_office: 0.00000\n",
      "sequel: -0.00000\n",
      "Action: -0.00000\n",
      "Adventure: -0.00000\n",
      "Black Comedy: 0.00000\n",
      "Comedy: -0.00000\n",
      "Concert/Performance: -0.00000\n",
      "Documentary: 0.00000\n",
      "Drama: -0.00000\n",
      "Horror: -0.00000\n",
      "Musical: -0.00000\n",
      "Romantic Comedy: -0.00000\n",
      "Thriller/Suspense: -0.00000\n",
      "Western: 0.00000\n",
      "G: 0.00000\n",
      "Not Rated: -0.00000\n",
      "PG: -0.00000\n",
      "PG-13: -0.00000\n",
      "R: -0.00000\n",
      "Contemporary Fiction: -0.00000\n",
      "Dramatization: 0.00000\n",
      "Factual: -0.00000\n",
      "Fantasy: -0.00000\n",
      "Historical Fiction: -0.00000\n",
      "Kids Fiction: -0.00000\n",
      "Multiple Creative Types: 0.00000\n",
      "Science Fiction: -0.00000\n",
      "Super Hero: 0.00000\n",
      "Based on Comic/Graphic Novel: 0.00000\n",
      "Based on Factual Book/Article: 0.00000\n",
      "Based on Fiction Book/Short Story: -0.00000\n",
      "Based on Folk Tale/Legend/Fairytale: -0.00000\n",
      "Based on Game: -0.00000\n",
      "Based on Movie: -0.00000\n",
      "Based on Musical Group: 0.00000\n",
      "Based on Musical or Opera: -0.00000\n",
      "Based on Play: -0.00000\n",
      "Based on Real Life Events: -0.00000\n",
      "Based on Religious Text: -0.00000\n",
      "Based on Short Film: -0.00000\n",
      "Based on TV: -0.00000\n",
      "Based on Theme Park Ride: -0.00000\n",
      "Based on Toy: -0.00000\n",
      "Based on Web Series: -0.00000\n",
      "Compilation: -0.00000\n",
      "Original Screenplay: -0.00000\n",
      "Remake: -0.00000\n",
      "Spin-Off: -0.00000\n"
     ]
    }
   ],
   "source": [
    "movie_rate_model = LogisticRegression().fit(variables, movies_log_data['successful'])\n",
    "c = movie_rate_model.coef_\n",
    "v = variables.columns.tolist()\n",
    "print('Coefficients:')\n",
    "for i in range(0,len(v)):\n",
    "    print('{}: {:.5f}'.format(v[i], movie_rate_model.coef_[0][i]))\n",
    "score = movie_rate_model.score(variables, movies_log_data['successful'])"
   ]
  },
  {
   "cell_type": "code",
   "execution_count": 195,
   "metadata": {},
   "outputs": [
    {
     "name": "stdout",
     "output_type": "stream",
     "text": [
      "Mean cross validation score: 0.735\n",
      "Scikit-learn r^2 score: 0.7347126436781609\n"
     ]
    }
   ],
   "source": [
    "scores = cross_val_score(movie_rate_model,variables,movies_log_data['successful'], cv= 5)\n",
    "print(\"Mean cross validation score: {:.3f}\".format(scores.mean()))\n",
    "score = movie_rate_model.score(variables, movies_log_data['successful'])\n",
    "print(f'Scikit-learn r^2 score: {score}')"
   ]
  },
  {
   "cell_type": "code",
   "execution_count": 196,
   "metadata": {},
   "outputs": [
    {
     "name": "stdout",
     "output_type": "stream",
     "text": [
      "Baseline accuracy: 0.244\n"
     ]
    }
   ],
   "source": [
    "print('Baseline accuracy:', round(movies_log_data.successful.sum()/len(movies_log_data),3))"
   ]
  },
  {
   "cell_type": "markdown",
   "metadata": {},
   "source": [
    "`budget`, `international_box_office`, `domestic_box_office` and `release_date` were causing the coefficients for all the variables to fall to zero. These variables are extremely greater than the binary dummy variables so we wanted to check if using these larger values were necessary in order to predict the success of a movie."
   ]
  },
  {
   "cell_type": "markdown",
   "metadata": {},
   "source": [
    "## Attempt 2 Analysis\n",
    "Now we will try to remove the variables of `budget`, `international box office`, `domestic box office` and `release date` to examine the impact on coefficients."
   ]
  },
  {
   "cell_type": "code",
   "execution_count": 197,
   "metadata": {},
   "outputs": [
    {
     "name": "stdout",
     "output_type": "stream",
     "text": [
      "Mean cross validation score: 0.746\n",
      "Scikit-learn r^2 score: 0.760\n"
     ]
    }
   ],
   "source": [
    "variables = movies_log_data.drop(['successful','production_budget','domestic_box_office','international_box_office','startYear'], axis = 1)\n",
    "variables.head()\n",
    "movie_rate_model = LogisticRegression().fit(variables, movies_log_data['successful'])\n",
    "scores = cross_val_score(movie_rate_model,variables,movies_log_data['successful'], cv= 5)\n",
    "print(\"Mean cross validation score: {:.3f}\".format(scores.mean()))\n",
    "score = movie_rate_model.score(variables, movies_log_data['successful'])\n",
    "print('Scikit-learn r^2 score: {:.3f}'.format(score))"
   ]
  },
  {
   "cell_type": "code",
   "execution_count": 198,
   "metadata": {},
   "outputs": [
    {
     "name": "stdout",
     "output_type": "stream",
     "text": [
      "Coefficients\n",
      "sequel: -0.24135\n",
      "Action: -0.38323\n",
      "Adventure: -0.00179\n",
      "Black Comedy: 0.63937\n",
      "Comedy: -0.67666\n",
      "Concert/Performance: -0.14054\n",
      "Documentary: 0.49156\n",
      "Drama: 0.53407\n",
      "Horror: -0.92017\n",
      "Musical: 0.65797\n",
      "Romantic Comedy: -0.82416\n",
      "Thriller/Suspense: 0.05186\n",
      "Western: 0.56944\n",
      "G: 0.36029\n",
      "Not Rated: -0.13362\n",
      "PG: -0.04392\n",
      "PG-13: -0.24095\n",
      "R: 0.05591\n",
      "Contemporary Fiction: -0.44669\n",
      "Dramatization: -0.05000\n",
      "Factual: 0.19919\n",
      "Fantasy: -0.28530\n",
      "Historical Fiction: -0.16010\n",
      "Kids Fiction: -0.03298\n",
      "Multiple Creative Types: 0.27486\n",
      "Science Fiction: -0.17662\n",
      "Super Hero: 0.67536\n",
      "Based on Comic/Graphic Novel: 0.47920\n",
      "Based on Factual Book/Article: 0.99540\n",
      "Based on Fiction Book/Short Story: 0.50030\n",
      "Based on Folk Tale/Legend/Fairytale: 0.19075\n",
      "Based on Game: -0.00356\n",
      "Based on Movie: -0.32458\n",
      "Based on Musical Group: 0.59987\n",
      "Based on Musical or Opera: -0.61959\n",
      "Based on Play: 0.41539\n",
      "Based on Real Life Events: 0.31952\n",
      "Based on Religious Text: -1.15763\n",
      "Based on Short Film: -0.85395\n",
      "Based on TV: 0.06309\n",
      "Based on Theme Park Ride: -0.21671\n",
      "Based on Toy: 0.10845\n",
      "Based on Web Series: -0.09280\n",
      "Compilation: -0.16427\n",
      "Original Screenplay: 0.24876\n",
      "Remake: 0.28424\n",
      "Spin-Off: -0.77417\n"
     ]
    }
   ],
   "source": [
    "c = movie_rate_model.coef_\n",
    "v = variables.columns.tolist()\n",
    "print('Coefficients')\n",
    "for i in range(0,len(v)):\n",
    "    print('{}: {:.5f}'.format(v[i], movie_rate_model.coef_[0][i]))"
   ]
  },
  {
   "cell_type": "markdown",
   "metadata": {},
   "source": [
    "Removing the extremely large variables to reduce the skew in our coefficients improved the model. So box office, release data, and budget do not help predict the success of a movie. This went against our prediction that the more money invested in a film, the more likely it will be successful."
   ]
  },
  {
   "cell_type": "markdown",
   "metadata": {},
   "source": [
    "## Model Analysis\n",
    "We found that we are able to predict the success of a movie based on these factors. Our predictions are .51 higher than baseline which indicates that our model is doing a good job. But lets see which factors are most significant and what this means for movies of the future."
   ]
  },
  {
   "cell_type": "code",
   "execution_count": 199,
   "metadata": {},
   "outputs": [],
   "source": [
    "genres = movies['genre'].unique()\n",
    "age_rating = movies['age_rating'].unique()\n",
    "source = movies['source'].unique()\n",
    "creative_type = movies['creative_type'].unique()\n",
    "co = movie_rate_model.coef_[0].tolist()\n",
    "v = variables.columns.tolist()"
   ]
  },
  {
   "cell_type": "code",
   "execution_count": 200,
   "metadata": {},
   "outputs": [],
   "source": [
    "movie_co = pd.DataFrame({'variables': v, 'coefficient': co})\n",
    "movie_co_genres =  movie_co[movie_co['variables'].isin(genres)]\n",
    "movie_co_age =  movie_co[movie_co['variables'].isin(age_rating)]\n",
    "movie_co_type =  movie_co[movie_co['variables'].isin(creative_type)]\n",
    "movie_co_source =  movie_co[movie_co['variables'].isin(source)]"
   ]
  },
  {
   "cell_type": "code",
   "execution_count": 201,
   "metadata": {},
   "outputs": [
    {
     "data": {
      "text/html": [
       "<div>\n",
       "<style scoped>\n",
       "    .dataframe tbody tr th:only-of-type {\n",
       "        vertical-align: middle;\n",
       "    }\n",
       "\n",
       "    .dataframe tbody tr th {\n",
       "        vertical-align: top;\n",
       "    }\n",
       "\n",
       "    .dataframe thead th {\n",
       "        text-align: right;\n",
       "    }\n",
       "</style>\n",
       "<table border=\"1\" class=\"dataframe\">\n",
       "  <thead>\n",
       "    <tr style=\"text-align: right;\">\n",
       "      <th></th>\n",
       "      <th>variables</th>\n",
       "      <th>coefficient</th>\n",
       "    </tr>\n",
       "  </thead>\n",
       "  <tbody>\n",
       "    <tr>\n",
       "      <th>1</th>\n",
       "      <td>Action</td>\n",
       "      <td>-0.383231</td>\n",
       "    </tr>\n",
       "    <tr>\n",
       "      <th>2</th>\n",
       "      <td>Adventure</td>\n",
       "      <td>-0.001785</td>\n",
       "    </tr>\n",
       "    <tr>\n",
       "      <th>3</th>\n",
       "      <td>Black Comedy</td>\n",
       "      <td>0.639372</td>\n",
       "    </tr>\n",
       "    <tr>\n",
       "      <th>4</th>\n",
       "      <td>Comedy</td>\n",
       "      <td>-0.676659</td>\n",
       "    </tr>\n",
       "    <tr>\n",
       "      <th>5</th>\n",
       "      <td>Concert/Performance</td>\n",
       "      <td>-0.140545</td>\n",
       "    </tr>\n",
       "  </tbody>\n",
       "</table>\n",
       "</div>"
      ],
      "text/plain": [
       "             variables  coefficient\n",
       "1               Action    -0.383231\n",
       "2            Adventure    -0.001785\n",
       "3         Black Comedy     0.639372\n",
       "4               Comedy    -0.676659\n",
       "5  Concert/Performance    -0.140545"
      ]
     },
     "execution_count": 201,
     "metadata": {},
     "output_type": "execute_result"
    }
   ],
   "source": [
    "movie_co_genres.head()"
   ]
  },
  {
   "cell_type": "markdown",
   "metadata": {},
   "source": [
    "## Horizontal Barplots"
   ]
  },
  {
   "cell_type": "code",
   "execution_count": 202,
   "metadata": {},
   "outputs": [
    {
     "data": {
      "image/png": "[encoded data removed]",
      "text/plain": [
       "<Figure size 921.6x633.6 with 1 Axes>"
      ]
     },
     "metadata": {
      "needs_background": "light"
     },
     "output_type": "display_data"
    }
   ],
   "source": [
    "movie_co_genres = movie_co_genres.sort_values(by = 'coefficient', ascending = False)\n",
    "movie_co_genres.plot.barh('variables','coefficient', color='lightblue')\n",
    "plt.title(\"Genre: Effect on Success\")\n",
    "plt.show()"
   ]
  },
  {
   "cell_type": "markdown",
   "metadata": {},
   "source": [
    "**Since the top genres by count were dramas and comedies, we predicted with our preregistered analysis that these would have the most benefit to the success of movies compared to other genres.**\n",
    "\n",
    "However, the graph illustrates comedies harm the ratings of a show instead. We believe this may be the case because an individual's preference for humor varies and so satisfying these different perspectives are difficult and can lead to controversy — therefore lower ratings. Horror movies tends to harm ratings as well, which we posit could be due to the fact that many people do not find horror movies to be 'scary' enough. Although these genres have a negative effect on ratings, they make up a large proportion of the shows shown on streaming services and traditional theaters. This suggests streaming platforms and theaters continue to release content that rates low possibly because low ratings bring exposure and encourage people to talk about the movie. Interestingly, Black comedies have a positive effect on ratings, possibly because this genre is catering to a specific niche where it is easier to satisfy the humor preferences of the audience.\n",
    "\n",
    "On the opposite extreme are dramas and thrillers. Dramas were the most prominent genre offered on streaming services and in theaters, so this supports the notion that people enjoy this content. Drama shows most likely encourage and spur conversation similarly to comedies, but in a more positive way.\n",
    "\n",
    "**The main takeaway is that dramas and comedies are the most prominent kinds of shows on streaming services and theaters and ironically fall on opposite extremes. This suggests that streaming services and theaters tend to release content that promote extreme/intense opinions whether they may be positive or negative. The reason this maybe be is most likely done for marketing and shareability purposes which increases the longevity of the company. This may entail that the company may not define the success of a movie based on ratings, but more on its shareability and social impact.**"
   ]
  },
  {
   "cell_type": "code",
   "execution_count": 203,
   "metadata": {},
   "outputs": [
    {
     "data": {
      "image/png": "[encoded data removed]",
      "text/plain": [
       "<Figure size 921.6x633.6 with 1 Axes>"
      ]
     },
     "metadata": {
      "needs_background": "light"
     },
     "output_type": "display_data"
    }
   ],
   "source": [
    "movie_co_age = movie_co_age.sort_values(by = 'coefficient', ascending = False)\n",
    "movie_co_age.plot.barh('variables','coefficient', color='lightblue')\n",
    "plt.title(\"Age Ratings: Effect on Success\")\n",
    "plt.show()"
   ]
  },
  {
   "cell_type": "markdown",
   "metadata": {},
   "source": [
    "**The graph suggests that movies are better off being rated G as opposed to PG-13.** This is likely because PG-13 movies limit the amount of people that the movie can reach and is catered. On the other hand, it is reasonable for an adult to watch G-rated movies since many parents tend to watch them with their children. Since PG-13 movies are primarily targeted for teens and young adults, people outside of this age range may not enjoy these movies and not seek them out."
   ]
  },
  {
   "cell_type": "code",
   "execution_count": 204,
   "metadata": {},
   "outputs": [
    {
     "data": {
      "image/png": "[encoded data removed]",
      "text/plain": [
       "<Figure size 921.6x633.6 with 1 Axes>"
      ]
     },
     "metadata": {
      "needs_background": "light"
     },
     "output_type": "display_data"
    }
   ],
   "source": [
    "movie_co_type = movie_co_type.sort_values(by = 'coefficient', ascending = False)\n",
    "movie_co_type.plot.barh('variables','coefficient', color='lightblue')\n",
    "plt.title(\"Specfic Type: Effect on Success\")\n",
    "plt.show()"
   ]
  },
  {
   "cell_type": "markdown",
   "metadata": {},
   "source": [
    "**The horizontal barplot here displays that when the type of a movie is *Super Hero*, it contributes the most to its success while `Contemporary Fiction` movies do the worst.** This makes sense as Marvel and DC movies are immensely popular and tend to attract a lot of attention due to the already large fanbase from the comics."
   ]
  },
  {
   "cell_type": "code",
   "execution_count": 205,
   "metadata": {},
   "outputs": [
    {
     "data": {
      "image/png": "[encoded data removed]",
      "text/plain": [
       "<Figure size 921.6x633.6 with 1 Axes>"
      ]
     },
     "metadata": {
      "needs_background": "light"
     },
     "output_type": "display_data"
    }
   ],
   "source": [
    "movie_co_source = movie_co_source.sort_values(by = 'coefficient', ascending = False)\n",
    "movie_co_source.plot.barh('variables','coefficient', color='lightblue')\n",
    "plt.title(\"Source: Effect on Success\")\n",
    "plt.show()"
   ]
  },
  {
   "cell_type": "markdown",
   "metadata": {},
   "source": [
    "The source of a movie tells us what it is based off of, if applicable. Thus, the graph illustrates that **movies based on factual books/articles have the greatest effect their success while those based on religious text tend to do the worst.** It is reasonable that movies that are based on books would be more successful as there is already people who know about it but it is interesting that movies based on fiction books/short stories are not at the top as, for example, movies from the *Harry Potter* franchise are incredibly popular. "
   ]
  },
  {
   "cell_type": "code",
   "execution_count": 206,
   "metadata": {},
   "outputs": [
    {
     "data": {
      "image/png": "[encoded data removed]",
      "text/plain": [
       "<Figure size 921.6x633.6 with 1 Axes>"
      ]
     },
     "metadata": {
      "needs_background": "light"
     },
     "output_type": "display_data"
    }
   ],
   "source": [
    "movie_co_top = movie_co.sort_values(by = 'coefficient', ascending = False)[:4]\n",
    "movie_co_top = pd.concat([movie_co_top,movie_co.sort_values(by = 'coefficient', ascending = False)[-4:]],axis = 0)\n",
    "movie_co_top.plot.barh('variables','coefficient', color='lightblue')\n",
    "plt.title(\"Most Significant Factors Impacting Success\")\n",
    "plt.show()"
   ]
  },
  {
   "cell_type": "markdown",
   "metadata": {},
   "source": [
    "## Key Takeways\n",
    "### Movies and shows tend to fair well both on traditional TV and through streaming services.\n",
    "We weren't able to find significant evidence supporting that adding a show to a streaming service help with their success as opposed to solely being on traditional TV platforms, but this could be due to the lack of data available about the shows on streaming services\n",
    "\n",
    "### Each of the platforms have distinct genres and age groups that do well on their platform.\n",
    "**Traditional movies (in theaters/on TV channels)**\n",
    "* The coefficients for our model suggest that movies based on books and superhero movies fair the best on traditional platforms (theaters and tv). This is supported by outside context because we know marvel movies and book series (harry potter, hunger games) have had the best success over the last decade. On the other side, horror movies and comedies harm the success of a movie. As we stated before,  this could be due to the wide range in preferences for humor and gore so it is hard to cater to all audiences. Age ratings did not show up as a signifcant factor to teh success of a movie (compared to the other factors) which makes sense as movie in theaters cater to all age ranges.\n",
    "\n",
    "**Traditional TV shows (on cable television)**\n",
    "* The coefficients for our model suggest traditional TV has the most success in sports, documentaries, and fantasy. From a social standpoint, TV remains the top platform for watching sporting events, so this makes sense. As for the documentary category, we predict this may include popular crime documentaries or education television (animal planet, history channel) which primarily restrict their content to traditional tv channels (for most of these shows, you can only watch on tv and not streaming services) which explains its top rank. Game shows, film noir, and reality tv are harming the success of the show. Although game shows are often seen as bad/cringe but ultimately a part of the culture of tv, we did not predict film noir and reality tv to be at this placement. Reality tv, in particular, is very popular and many film noir shows are critically acclaimed. This is evidence that we may need to alter our definition of success for tv shows.\n",
    "\n",
    "**Netflix**\n",
    "* The coefficients for our model suggest that mature crime tv shows/movies do better on Netflix than any other genre or age group. G-rated adventure content does the worst. This could be because Netflix started out having very mature content and marketing itself initially as a more freeing/expressive platform compared to traditional tv. Their very first original series orange is the new black, house of cards, and their more recent popular series money heist, and narcos support the fact that Netflix has a representation for mature content. You can even see that they are putting in the effort to switch this representation by creating a kid account feature so the younger audience can use the streaming service under restrictions. They also have been coming out with more G-rated cartoons such as cocomelon. These efforts may make Netflix more well-rounded in the success of its content in the future.\n",
    "\n",
    "**Amazon Prime**\n",
    "* The coefficients for our model suggest that mature action shows/movies do better on Amazon Prime than any other genre or age group. Similar to Netflix, prime and other streaming services are mostly used by adults, so mature content will be favored. As for action, amazon prime has access to more shows that were originally in the theater. Netflix also has action movies but a lot of movies are available temporarily due to subscription partnerships expiring. Amazon often maintains these partnerships for a longer time, so users are most likely using amazon prime to watch shows that are not available on Netflix (many action movies). As for sci-fi and documentaries, which are harming the success of shows/movies we are not exactly sure of the cause of this. It could be the fact that the user niche that uses amazon prime is younger and therefore does not tend to watch this content, but since we don't have details on the age_ratings for this dataset, more evidence is needed."
   ]
  },
  {
   "cell_type": "markdown",
   "metadata": {},
   "source": [
    "## Is there a correlation between how long a TV show goes on for (number of seasons) and its genre, rating and age range (age rating)? ##"
   ]
  },
  {
   "cell_type": "markdown",
   "metadata": {},
   "source": [
    "We can explore our Amazon Prime dataset to answer this question, but unfortunately, the other datasets do not have information on the number of seasons for shows."
   ]
  },
  {
   "cell_type": "code",
   "execution_count": 354,
   "metadata": {},
   "outputs": [
    {
     "data": {
      "text/html": [
       "<div>\n",
       "<style scoped>\n",
       "    .dataframe tbody tr th:only-of-type {\n",
       "        vertical-align: middle;\n",
       "    }\n",
       "\n",
       "    .dataframe tbody tr th {\n",
       "        vertical-align: top;\n",
       "    }\n",
       "\n",
       "    .dataframe thead th {\n",
       "        text-align: right;\n",
       "    }\n",
       "</style>\n",
       "<table border=\"1\" class=\"dataframe\">\n",
       "  <thead>\n",
       "    <tr style=\"text-align: right;\">\n",
       "      <th></th>\n",
       "      <th>rating</th>\n",
       "      <th>num_votes</th>\n",
       "      <th>title</th>\n",
       "      <th>org_title</th>\n",
       "      <th>is_adult</th>\n",
       "      <th>start_year</th>\n",
       "      <th>end_year</th>\n",
       "      <th>runtime_min</th>\n",
       "      <th>genre</th>\n",
       "      <th>S.no.</th>\n",
       "      <th>startYear</th>\n",
       "      <th>No of seasons available</th>\n",
       "      <th>Language</th>\n",
       "      <th>genre_y</th>\n",
       "      <th>rating_y</th>\n",
       "      <th>age</th>\n",
       "    </tr>\n",
       "  </thead>\n",
       "  <tbody>\n",
       "    <tr>\n",
       "      <th>0</th>\n",
       "      <td>7.2</td>\n",
       "      <td>34339.0</td>\n",
       "      <td>Johnny Bravo</td>\n",
       "      <td>Johnny Bravo</td>\n",
       "      <td>0</td>\n",
       "      <td>1997</td>\n",
       "      <td>2004</td>\n",
       "      <td>30</td>\n",
       "      <td>Adventure,Animation,Comedy</td>\n",
       "      <td>293</td>\n",
       "      <td>1998.0</td>\n",
       "      <td>4.0</td>\n",
       "      <td>English</td>\n",
       "      <td>Kids</td>\n",
       "      <td>7.2</td>\n",
       "      <td>7+</td>\n",
       "    </tr>\n",
       "    <tr>\n",
       "      <th>1</th>\n",
       "      <td>6.0</td>\n",
       "      <td>50.0</td>\n",
       "      <td>The Simple Life</td>\n",
       "      <td>The Simple Life</td>\n",
       "      <td>0</td>\n",
       "      <td>1998</td>\n",
       "      <td>\\N</td>\n",
       "      <td>30</td>\n",
       "      <td>Comedy</td>\n",
       "      <td>326</td>\n",
       "      <td>2004.0</td>\n",
       "      <td>4.0</td>\n",
       "      <td>English</td>\n",
       "      <td>Comedy</td>\n",
       "      <td>NaN</td>\n",
       "      <td>16+</td>\n",
       "    </tr>\n",
       "    <tr>\n",
       "      <th>2</th>\n",
       "      <td>4.0</td>\n",
       "      <td>5522.0</td>\n",
       "      <td>The Simple Life</td>\n",
       "      <td>The Simple Life</td>\n",
       "      <td>0</td>\n",
       "      <td>2003</td>\n",
       "      <td>2007</td>\n",
       "      <td>22</td>\n",
       "      <td>Comedy,Reality-TV</td>\n",
       "      <td>326</td>\n",
       "      <td>2004.0</td>\n",
       "      <td>4.0</td>\n",
       "      <td>English</td>\n",
       "      <td>Comedy</td>\n",
       "      <td>NaN</td>\n",
       "      <td>16+</td>\n",
       "    </tr>\n",
       "    <tr>\n",
       "      <th>3</th>\n",
       "      <td>8.5</td>\n",
       "      <td>257.0</td>\n",
       "      <td>Legacy</td>\n",
       "      <td>Legacy</td>\n",
       "      <td>0</td>\n",
       "      <td>1998</td>\n",
       "      <td>1999</td>\n",
       "      <td>60</td>\n",
       "      <td>Drama</td>\n",
       "      <td>242</td>\n",
       "      <td>2017.0</td>\n",
       "      <td>1.0</td>\n",
       "      <td>Serbian</td>\n",
       "      <td>Action</td>\n",
       "      <td>NaN</td>\n",
       "      <td>13+</td>\n",
       "    </tr>\n",
       "    <tr>\n",
       "      <th>4</th>\n",
       "      <td>8.5</td>\n",
       "      <td>52412.0</td>\n",
       "      <td>Spaced</td>\n",
       "      <td>Spaced</td>\n",
       "      <td>0</td>\n",
       "      <td>1999</td>\n",
       "      <td>2001</td>\n",
       "      <td>25</td>\n",
       "      <td>Action,Comedy</td>\n",
       "      <td>360</td>\n",
       "      <td>1999.0</td>\n",
       "      <td>2.0</td>\n",
       "      <td>English</td>\n",
       "      <td>Comedy</td>\n",
       "      <td>NaN</td>\n",
       "      <td>16+</td>\n",
       "    </tr>\n",
       "  </tbody>\n",
       "</table>\n",
       "</div>"
      ],
      "text/plain": [
       "   rating  num_votes            title        org_title  is_adult  start_year  \\\n",
       "0     7.2    34339.0     Johnny Bravo     Johnny Bravo         0        1997   \n",
       "1     6.0       50.0  The Simple Life  The Simple Life         0        1998   \n",
       "2     4.0     5522.0  The Simple Life  The Simple Life         0        2003   \n",
       "3     8.5      257.0           Legacy           Legacy         0        1998   \n",
       "4     8.5    52412.0           Spaced           Spaced         0        1999   \n",
       "\n",
       "  end_year runtime_min                       genre  S.no.  startYear  \\\n",
       "0     2004          30  Adventure,Animation,Comedy    293     1998.0   \n",
       "1       \\N          30                      Comedy    326     2004.0   \n",
       "2     2007          22           Comedy,Reality-TV    326     2004.0   \n",
       "3     1999          60                       Drama    242     2017.0   \n",
       "4     2001          25               Action,Comedy    360     1999.0   \n",
       "\n",
       "   No of seasons available Language genre_y  rating_y  age  \n",
       "0                      4.0  English    Kids       7.2   7+  \n",
       "1                      4.0  English  Comedy       NaN  16+  \n",
       "2                      4.0  English  Comedy       NaN  16+  \n",
       "3                      1.0  Serbian  Action       NaN  13+  \n",
       "4                      2.0  English  Comedy       NaN  16+  "
      ]
     },
     "execution_count": 354,
     "metadata": {},
     "output_type": "execute_result"
    }
   ],
   "source": [
    "prime_shows.head()"
   ]
  },
  {
   "cell_type": "code",
   "execution_count": 355,
   "metadata": {},
   "outputs": [
    {
     "data": {
      "application/vnd.jupyter.widget-view+json": {
       "model_id": "f6bdfcf005a640e0b05f97be8d72fb78",
       "version_major": 2,
       "version_minor": 0
      },
      "text/plain": [
       "Pandas Apply:   0%|          | 0/221 [00:00<?, ?it/s]"
      ]
     },
     "metadata": {},
     "output_type": "display_data"
    }
   ],
   "source": [
    "prime_shows = prime_shows.assign(genre=prime_shows.genre.str.split(\",\"))\n",
    "prime_shows = prime_shows.genre.swifter.apply(pd.Series).merge(prime_shows, right_index = True, left_index = True)"
   ]
  },
  {
   "cell_type": "code",
   "execution_count": 356,
   "metadata": {},
   "outputs": [],
   "source": [
    "prime_shows['genre_code'] = prime_shows[0].astype('category').cat.codes\n",
    "prime_shows['age_code'] = prime_shows['age'].astype('category').cat.codes"
   ]
  },
  {
   "cell_type": "code",
   "execution_count": 358,
   "metadata": {},
   "outputs": [],
   "source": [
    "g = prime_shows.sort_values(by ='genre_code')[0].unique().tolist()[1:]"
   ]
  },
  {
   "cell_type": "code",
   "execution_count": 359,
   "metadata": {},
   "outputs": [
    {
     "name": "stdout",
     "output_type": "stream",
     "text": [
      "code 0: Adventure\n",
      "code 1: Animation\n",
      "code 2: Biography\n",
      "code 3: Comedy\n",
      "code 4: Crime\n",
      "code 5: Documentary\n",
      "code 6: Drama\n",
      "code 7: Horror\n",
      "code 8: News\n",
      "code 9: Romance\n"
     ]
    }
   ],
   "source": [
    "for i in range(0,len(g)):\n",
    "    print(\"code {}: {}\".format(i, g[i]))"
   ]
  },
  {
   "cell_type": "code",
   "execution_count": 365,
   "metadata": {},
   "outputs": [
    {
     "data": {
      "image/png": "[encoded data removed]",
      "text/plain": [
       "<Figure size 921.6x633.6 with 1 Axes>"
      ]
     },
     "metadata": {
      "needs_background": "light"
     },
     "output_type": "display_data"
    }
   ],
   "source": [
    "prime_shows.plot.scatter(x='No of seasons available', y='genre_code', c='DarkBlue')\n",
    "plt.title(\"Number of Seasons vs Genre (in numeric code)\")\n",
    "plt.show()"
   ]
  },
  {
   "cell_type": "markdown",
   "metadata": {},
   "source": [
    "### Observation\n",
    "Looking at the genres associated with the codes, we can see that comedies, dramas, and sci fi are likely to last the longest out of all other genres. This is makes sense is the longest running shows (Family guy, Simpsons) fit into these catergories. adventure, animations and art, however, do not last very long."
   ]
  },
  {
   "cell_type": "code",
   "execution_count": 361,
   "metadata": {},
   "outputs": [
    {
     "name": "stdout",
     "output_type": "stream",
     "text": [
      "code 0: 16+\n",
      "code 1: 18+\n",
      "code 2: 7+\n",
      "code 3: All\n"
     ]
    }
   ],
   "source": [
    "a = prime_shows.sort_values(by ='age_code')['age'].unique().tolist()[1:]\n",
    "for i in range(0,len(a)):\n",
    "    print(\"code {}: {}\".format(i, a[i]))"
   ]
  },
  {
   "cell_type": "code",
   "execution_count": 366,
   "metadata": {},
   "outputs": [
    {
     "data": {
      "image/png": "[encoded data removed]",
      "text/plain": [
       "<Figure size 921.6x633.6 with 1 Axes>"
      ]
     },
     "metadata": {
      "needs_background": "light"
     },
     "output_type": "display_data"
    }
   ],
   "source": [
    "prime_shows.plot.scatter(x='No of seasons available', y='age_code', c='DarkBlue')\n",
    "plt.title(\"Number of Seasons vs Age (in numeric code)\")\n",
    "plt.show()"
   ]
  },
  {
   "cell_type": "markdown",
   "metadata": {},
   "source": [
    "### Observation\n",
    "Looking at the age_ratings associated with the codes there is little to no correlation between the age rating of the show and the number of seasons. Shows meant for all ages can last for any length."
   ]
  },
  {
   "cell_type": "code",
   "execution_count": 363,
   "metadata": {},
   "outputs": [
    {
     "name": "stdout",
     "output_type": "stream",
     "text": [
      "code 0: 16+\n",
      "code 1: 18+\n",
      "code 2: 7+\n",
      "code 3: All\n"
     ]
    }
   ],
   "source": [
    "a = prime_shows.sort_values(by ='age_code')['age'].unique().tolist()[1:]\n",
    "for i in range(0,len(a)):\n",
    "    print(\"code {}: {}\".format(i, a[i]))"
   ]
  },
  {
   "cell_type": "code",
   "execution_count": 367,
   "metadata": {},
   "outputs": [
    {
     "data": {
      "image/png": "[encoded data removed]",
      "text/plain": [
       "<Figure size 921.6x633.6 with 1 Axes>"
      ]
     },
     "metadata": {
      "needs_background": "light"
     },
     "output_type": "display_data"
    }
   ],
   "source": [
    "prime_shows.plot.scatter(x='No of seasons available', y='rating', c='DarkBlue')\n",
    "plt.title(\"Number of Seasons vs Ratings (in numeric code)\")\n",
    "plt.show()"
   ]
  },
  {
   "cell_type": "markdown",
   "metadata": {},
   "source": [
    "### Observation ###\n",
    "Looking at the ratings associated with the codes, we see a positive correlation between ratings and the number of seasons. Shows with a good rating ( 7.0 and up which is what we used to define a successful show) are more likely to last for a longer time. This makes logical sense."
   ]
  },
  {
   "cell_type": "markdown",
   "metadata": {},
   "source": [
    "### Comparing Rating Distributions"
   ]
  },
  {
   "cell_type": "code",
   "execution_count": 207,
   "metadata": {},
   "outputs": [
    {
     "data": {
      "image/png": "[encoded data removed]",
      "text/plain": [
       "<Figure size 921.6x633.6 with 1 Axes>"
      ]
     },
     "metadata": {
      "needs_background": "light"
     },
     "output_type": "display_data"
    }
   ],
   "source": [
    "p = {\"Netflix\": netflix_shows['rating'], \"All TV (IMDB)\":imdb_shows['rating'],\"Prime\":prime_shows['rating']}\n",
    "plt.boxplot(p.values())\n",
    "plt.title(\"Rating Distribution: Netflix vs. TV vs. Prime\")\n",
    "plt.xlabel(\"platform\")\n",
    "plt.ylabel(\"rating\")\n",
    "plt.show()"
   ]
  },
  {
   "cell_type": "markdown",
   "metadata": {},
   "source": [
    "**Platforms:** \\\n",
    "1 - Netflix \\\n",
    "2 - TV \\\n",
    "3 - Amazon Prime "
   ]
  },
  {
   "cell_type": "markdown",
   "metadata": {},
   "source": [
    "### Observations ###\n",
    "We can observe that the mean rating for shows on TV and on streaming services are higher than the average for shows solely on available on TV. The range of ratings for all TV shows is wider than shows that are also on streaming services which could be due to the fact that there is signficantly more data avalible from the IMDB dataset. Additionally, a TV series that is not on a streaming platform may have a rating as low as 1/0.5 while shows also on Netflix may be as low as 4.\n",
    "\n",
    "A majorty of the shows are rated higher on streaming servies compared to TV. 50% of the data falls between 8 and 7, while on TV it ranges from about 7.8 to 5.9. Reasons for this could be that the quality of shows on streaming services are better, or people are less picky when watching shows on a streaming service, or since there are less votes in our Prime and Netflix datasets, this is skewing the results of the streaming services. Overall, the boxplot supports the idea that having tv series also available on streaming services increases its rating\n",
    "\n",
    "**Note:** this is based on the year the TV show started, not when it was released on Netflix."
   ]
  },
  {
   "cell_type": "markdown",
   "metadata": {},
   "source": [
    "### Comparing Show Start Year Distributions"
   ]
  },
  {
   "cell_type": "code",
   "execution_count": 208,
   "metadata": {},
   "outputs": [
    {
     "data": {
      "image/png": "[encoded data removed]",
      "text/plain": [
       "<Figure size 921.6x633.6 with 1 Axes>"
      ]
     },
     "metadata": {
      "needs_background": "light"
     },
     "output_type": "display_data"
    }
   ],
   "source": [
    "p = {\"Netflix\": netflix_shows['startYear'], \"All TV (IMDB)\":imdb_shows['start_year'],\"Prime\":prime_shows['startYear']}\n",
    "plt.boxplot(p.values())\n",
    "plt.title(\"Show Start Year Distribution: Netflix vs. TV vs. Prime\")\n",
    "plt.ylabel(\"year\")\n",
    "plt.xlabel('platform')\n",
    "plt.show()"
   ]
  },
  {
   "cell_type": "markdown",
   "metadata": {},
   "source": [
    "**Platforms:** \\\n",
    "1 - Netflix \\\n",
    "2 - TV \\\n",
    "3 - Amazon Prime "
   ]
  },
  {
   "cell_type": "markdown",
   "metadata": {},
   "source": [
    "### Observations\n",
    "This distribution shows that TV (IMDB) shows have a wider range of shows according to the year that they started. 25% of their shows are between 2000 and 1978 while 25% of Netflix shows fall between about 2008 and 1993 and 25% of Amazon Prime shows all between about 2011 and 1999. \n",
    "\n",
    "This supports the possible notion that shows streamed on TV have a wider age variety while streaming services are geared more towards newer content. We can observe a long tail of outliers present on all three platforms which entails that all of them have older TV content, but we also see a lot more outliers in the TV distrubution possibly because it is a comparatively larger dataset."
   ]
  },
  {
   "cell_type": "markdown",
   "metadata": {},
   "source": [
    "<a id='section_5b'></a>\n",
    "# Question 2: Which of these factors (genre, streaming platform availability, social media) impacts the success of a TV show the most? #"
   ]
  },
  {
   "cell_type": "markdown",
   "metadata": {},
   "source": [
    "## Histograms ##\n",
    "### Genres Across Platforms ###"
   ]
  },
  {
   "cell_type": "code",
   "execution_count": 209,
   "metadata": {},
   "outputs": [
    {
     "data": {
      "image/png": "[encoded data removed]",
      "text/plain": [
       "<Figure size 921.6x633.6 with 1 Axes>"
      ]
     },
     "metadata": {
      "needs_background": "light"
     },
     "output_type": "display_data"
    }
   ],
   "source": [
    "prime_genres = prime_shows\n",
    "prime_genres['count'] = prime_genres.groupby(by = 'genre',as_index = False).count()['title']\n",
    "prime_genres = prime_genres[prime_genres['count']>10]\n",
    "prime_genres.plot.bar('genre','count', color='lightblue')\n",
    "plt.xticks(rotation = 30)\n",
    "plt.title('Most Common Genres on Amazon Prime')\n",
    "plt.ylabel('count')\n",
    "plt.show()"
   ]
  },
  {
   "cell_type": "markdown",
   "metadata": {},
   "source": [
    "On Amazon Prime, *Crime* appears to be a common genre as it appears three times in the highest rated combination of genres while *Drama* and *Fantasy* are also quite common. This could entail that shows that fall under these genres tend to be more successful which is why there are a greater amount of them compared to other types."
   ]
  },
  {
   "cell_type": "code",
   "execution_count": 210,
   "metadata": {},
   "outputs": [
    {
     "data": {
      "image/png": "[encoded data removed]",
      "text/plain": [
       "<Figure size 921.6x633.6 with 1 Axes>"
      ]
     },
     "metadata": {
      "needs_background": "light"
     },
     "output_type": "display_data"
    }
   ],
   "source": [
    "net_genres = netflix_shows\n",
    "net_genres['count'] = net_genres.groupby(by = 'genre',as_index = False).count()['title']\n",
    "net_genres = net_genres[net_genres['count']>10]\n",
    "net_genres.plot.bar('genre','count', color='lightblue')\n",
    "plt.xticks(rotation = 70)\n",
    "plt.title('Most Common Genres on Netflix')\n",
    "plt.ylabel('count')\n",
    "plt.show()"
   ]
  },
  {
   "cell_type": "markdown",
   "metadata": {},
   "source": [
    "On Neftlix, *Action, Adventure, Animation* and *Drama, Romance* shows are the most common."
   ]
  },
  {
   "cell_type": "code",
   "execution_count": 211,
   "metadata": {},
   "outputs": [
    {
     "data": {
      "image/png": "[encoded data removed]",
      "text/plain": [
       "<Figure size 921.6x633.6 with 1 Axes>"
      ]
     },
     "metadata": {
      "needs_background": "light"
     },
     "output_type": "display_data"
    }
   ],
   "source": [
    "imdb_genres = imdb_shows\n",
    "imdb_genres['count'] = imdb_genres.groupby(by = 'genre',as_index = False).count()['title']\n",
    "imdb_genres = imdb_genres[imdb_genres['count']>1200]\n",
    "imdb_genres.plot.bar('genre','count', color='lightblue')\n",
    "plt.xticks(rotation = 70)\n",
    "plt.title('Most Common Genres on TV (IMDB)')\n",
    "plt.ylabel('count')\n",
    "plt.show()"
   ]
  },
  {
   "cell_type": "markdown",
   "metadata": {},
   "source": [
    "### General Observations\n",
    "* The genres of *Drama*, *Adventure*, and *Comedy* work well across all platforms\n",
    "* General TV (IMDB) has more variety possibly because it falls in a wider age range. The genres of streaming services are also more repetitive (i.e. does not have Western)"
   ]
  },
  {
   "cell_type": "markdown",
   "metadata": {},
   "source": [
    "## Logistic Regression\n",
    "### Setting up data for a logistic regression model ###\n",
    "We will be creating a logistic regression model for the IMDB data to predict if a show is successful. We will attempt to predict the success of the show based on it's genre and age."
   ]
  },
  {
   "cell_type": "code",
   "execution_count": 212,
   "metadata": {},
   "outputs": [],
   "source": [
    "imdb_shows['successful'] = imdb_shows['rating'] > 7"
   ]
  },
  {
   "cell_type": "markdown",
   "metadata": {},
   "source": [
    "### Creating genre columns\n",
    "This genre column was initally a string but we want to recongize each genre indiviually. So each genre was split into seperate columns"
   ]
  },
  {
   "cell_type": "code",
   "execution_count": 213,
   "metadata": {},
   "outputs": [
    {
     "data": {
      "application/vnd.jupyter.widget-view+json": {
       "model_id": "0a87b6f93adb4510808f07e41d2238dc",
       "version_major": 2,
       "version_minor": 0
      },
      "text/plain": [
       "Pandas Apply:   0%|          | 0/27019 [00:00<?, ?it/s]"
      ]
     },
     "metadata": {},
     "output_type": "display_data"
    },
    {
     "data": {
      "text/html": [
       "<div>\n",
       "<style scoped>\n",
       "    .dataframe tbody tr th:only-of-type {\n",
       "        vertical-align: middle;\n",
       "    }\n",
       "\n",
       "    .dataframe tbody tr th {\n",
       "        vertical-align: top;\n",
       "    }\n",
       "\n",
       "    .dataframe thead th {\n",
       "        text-align: right;\n",
       "    }\n",
       "</style>\n",
       "<table border=\"1\" class=\"dataframe\">\n",
       "  <thead>\n",
       "    <tr style=\"text-align: right;\">\n",
       "      <th></th>\n",
       "      <th>0</th>\n",
       "      <th>1</th>\n",
       "      <th>2</th>\n",
       "      <th>rating</th>\n",
       "      <th>num_votes</th>\n",
       "      <th>title</th>\n",
       "      <th>org_title</th>\n",
       "      <th>is_adult</th>\n",
       "      <th>start_year</th>\n",
       "      <th>end_year</th>\n",
       "      <th>runtime_min</th>\n",
       "      <th>genre</th>\n",
       "      <th>count</th>\n",
       "      <th>successful</th>\n",
       "      <th>genres</th>\n",
       "    </tr>\n",
       "  </thead>\n",
       "  <tbody>\n",
       "    <tr>\n",
       "      <th>0</th>\n",
       "      <td>Action</td>\n",
       "      <td>Adventure</td>\n",
       "      <td>Animation</td>\n",
       "      <td>7.4</td>\n",
       "      <td>218.0</td>\n",
       "      <td>Saiyuki</td>\n",
       "      <td>Gensomaden Saiyuki</td>\n",
       "      <td>0</td>\n",
       "      <td>2000</td>\n",
       "      <td>2001</td>\n",
       "      <td>23</td>\n",
       "      <td>Action,Adventure,Animation</td>\n",
       "      <td>149.0</td>\n",
       "      <td>True</td>\n",
       "      <td>[Action, Adventure, Animation]</td>\n",
       "    </tr>\n",
       "    <tr>\n",
       "      <th>1</th>\n",
       "      <td>Action</td>\n",
       "      <td>Adventure</td>\n",
       "      <td>NaN</td>\n",
       "      <td>6.3</td>\n",
       "      <td>665.0</td>\n",
       "      <td>The New Adventures of Robin Hood</td>\n",
       "      <td>The New Adventures of Robin Hood</td>\n",
       "      <td>0</td>\n",
       "      <td>1997</td>\n",
       "      <td>1999</td>\n",
       "      <td>54</td>\n",
       "      <td>Action,Adventure</td>\n",
       "      <td>1.0</td>\n",
       "      <td>False</td>\n",
       "      <td>[Action, Adventure]</td>\n",
       "    </tr>\n",
       "    <tr>\n",
       "      <th>2</th>\n",
       "      <td>Comedy</td>\n",
       "      <td>NaN</td>\n",
       "      <td>NaN</td>\n",
       "      <td>8.2</td>\n",
       "      <td>48.0</td>\n",
       "      <td>Style &amp; Substance</td>\n",
       "      <td>Style &amp; Substance</td>\n",
       "      <td>0</td>\n",
       "      <td>1998</td>\n",
       "      <td>1998</td>\n",
       "      <td>30</td>\n",
       "      <td>Comedy</td>\n",
       "      <td>1.0</td>\n",
       "      <td>True</td>\n",
       "      <td>[Comedy]</td>\n",
       "    </tr>\n",
       "    <tr>\n",
       "      <th>3</th>\n",
       "      <td>Drama</td>\n",
       "      <td>NaN</td>\n",
       "      <td>NaN</td>\n",
       "      <td>6.1</td>\n",
       "      <td>83.0</td>\n",
       "      <td>413 Hope St.</td>\n",
       "      <td>413 Hope St.</td>\n",
       "      <td>0</td>\n",
       "      <td>1997</td>\n",
       "      <td>1998</td>\n",
       "      <td>60</td>\n",
       "      <td>Drama</td>\n",
       "      <td>13.0</td>\n",
       "      <td>False</td>\n",
       "      <td>[Drama]</td>\n",
       "    </tr>\n",
       "    <tr>\n",
       "      <th>4</th>\n",
       "      <td>Family</td>\n",
       "      <td>NaN</td>\n",
       "      <td>NaN</td>\n",
       "      <td>6.8</td>\n",
       "      <td>11.0</td>\n",
       "      <td>The All New Captain Kangaroo</td>\n",
       "      <td>The All New Captain Kangaroo</td>\n",
       "      <td>0</td>\n",
       "      <td>1997</td>\n",
       "      <td>\\N</td>\n",
       "      <td>\\N</td>\n",
       "      <td>Family</td>\n",
       "      <td>527.0</td>\n",
       "      <td>False</td>\n",
       "      <td>[Family]</td>\n",
       "    </tr>\n",
       "  </tbody>\n",
       "</table>\n",
       "</div>"
      ],
      "text/plain": [
       "        0          1          2  rating  num_votes  \\\n",
       "0  Action  Adventure  Animation     7.4      218.0   \n",
       "1  Action  Adventure        NaN     6.3      665.0   \n",
       "2  Comedy        NaN        NaN     8.2       48.0   \n",
       "3   Drama        NaN        NaN     6.1       83.0   \n",
       "4  Family        NaN        NaN     6.8       11.0   \n",
       "\n",
       "                              title                         org_title  \\\n",
       "0                           Saiyuki                Gensomaden Saiyuki   \n",
       "1  The New Adventures of Robin Hood  The New Adventures of Robin Hood   \n",
       "2                 Style & Substance                 Style & Substance   \n",
       "3                      413 Hope St.                      413 Hope St.   \n",
       "4      The All New Captain Kangaroo      The All New Captain Kangaroo   \n",
       "\n",
       "   is_adult  start_year end_year runtime_min                       genre  \\\n",
       "0         0        2000     2001          23  Action,Adventure,Animation   \n",
       "1         0        1997     1999          54            Action,Adventure   \n",
       "2         0        1998     1998          30                      Comedy   \n",
       "3         0        1997     1998          60                       Drama   \n",
       "4         0        1997       \\N          \\N                      Family   \n",
       "\n",
       "   count  successful                          genres  \n",
       "0  149.0        True  [Action, Adventure, Animation]  \n",
       "1    1.0       False             [Action, Adventure]  \n",
       "2    1.0        True                        [Comedy]  \n",
       "3   13.0       False                         [Drama]  \n",
       "4  527.0       False                        [Family]  "
      ]
     },
     "execution_count": 213,
     "metadata": {},
     "output_type": "execute_result"
    }
   ],
   "source": [
    "log_imdb = imdb_shows.assign(genres=imdb_shows.genre.str.split(\",\"))\n",
    "log_imdb = log_imdb.genres.swifter.apply(pd.Series).merge(log_imdb, right_index = True, left_index = True)\n",
    "log_imdb.head()"
   ]
  },
  {
   "cell_type": "code",
   "execution_count": 214,
   "metadata": {},
   "outputs": [],
   "source": [
    "log_imdb = log_imdb[log_imdb['genre'] != '\\\\N']"
   ]
  },
  {
   "cell_type": "code",
   "execution_count": 215,
   "metadata": {},
   "outputs": [],
   "source": [
    "df_genre = pd.get_dummies(log_imdb[0], prefix =\"genre 1\")\n",
    "log_imdb = pd.concat([log_imdb,df_genre],axis = 1)"
   ]
  },
  {
   "cell_type": "code",
   "execution_count": 216,
   "metadata": {},
   "outputs": [],
   "source": [
    "df_genre = pd.get_dummies(log_imdb[1],prefix =\"genre 2\" )\n",
    "log_imdb = pd.concat([log_imdb,df_genre],axis = 1)"
   ]
  },
  {
   "cell_type": "code",
   "execution_count": 217,
   "metadata": {},
   "outputs": [],
   "source": [
    "df_genre = pd.get_dummies(log_imdb[2],prefix =\"genre 3\" )\n",
    "log_imdb = pd.concat([log_imdb,df_genre],axis = 1)"
   ]
  },
  {
   "cell_type": "code",
   "execution_count": 218,
   "metadata": {},
   "outputs": [
    {
     "data": {
      "text/html": [
       "<div>\n",
       "<style scoped>\n",
       "    .dataframe tbody tr th:only-of-type {\n",
       "        vertical-align: middle;\n",
       "    }\n",
       "\n",
       "    .dataframe tbody tr th {\n",
       "        vertical-align: top;\n",
       "    }\n",
       "\n",
       "    .dataframe thead th {\n",
       "        text-align: right;\n",
       "    }\n",
       "</style>\n",
       "<table border=\"1\" class=\"dataframe\">\n",
       "  <thead>\n",
       "    <tr style=\"text-align: right;\">\n",
       "      <th></th>\n",
       "      <th>0</th>\n",
       "      <th>1</th>\n",
       "      <th>2</th>\n",
       "      <th>rating</th>\n",
       "      <th>num_votes</th>\n",
       "      <th>title</th>\n",
       "      <th>org_title</th>\n",
       "      <th>is_adult</th>\n",
       "      <th>start_year</th>\n",
       "      <th>end_year</th>\n",
       "      <th>...</th>\n",
       "      <th>genre 3_News</th>\n",
       "      <th>genre 3_Reality-TV</th>\n",
       "      <th>genre 3_Romance</th>\n",
       "      <th>genre 3_Sci-Fi</th>\n",
       "      <th>genre 3_Short</th>\n",
       "      <th>genre 3_Sport</th>\n",
       "      <th>genre 3_Talk-Show</th>\n",
       "      <th>genre 3_Thriller</th>\n",
       "      <th>genre 3_War</th>\n",
       "      <th>genre 3_Western</th>\n",
       "    </tr>\n",
       "  </thead>\n",
       "  <tbody>\n",
       "    <tr>\n",
       "      <th>0</th>\n",
       "      <td>Action</td>\n",
       "      <td>Adventure</td>\n",
       "      <td>Animation</td>\n",
       "      <td>7.4</td>\n",
       "      <td>218.0</td>\n",
       "      <td>Saiyuki</td>\n",
       "      <td>Gensomaden Saiyuki</td>\n",
       "      <td>0</td>\n",
       "      <td>2000</td>\n",
       "      <td>2001</td>\n",
       "      <td>...</td>\n",
       "      <td>0</td>\n",
       "      <td>0</td>\n",
       "      <td>0</td>\n",
       "      <td>0</td>\n",
       "      <td>0</td>\n",
       "      <td>0</td>\n",
       "      <td>0</td>\n",
       "      <td>0</td>\n",
       "      <td>0</td>\n",
       "      <td>0</td>\n",
       "    </tr>\n",
       "    <tr>\n",
       "      <th>1</th>\n",
       "      <td>Action</td>\n",
       "      <td>Adventure</td>\n",
       "      <td>NaN</td>\n",
       "      <td>6.3</td>\n",
       "      <td>665.0</td>\n",
       "      <td>The New Adventures of Robin Hood</td>\n",
       "      <td>The New Adventures of Robin Hood</td>\n",
       "      <td>0</td>\n",
       "      <td>1997</td>\n",
       "      <td>1999</td>\n",
       "      <td>...</td>\n",
       "      <td>0</td>\n",
       "      <td>0</td>\n",
       "      <td>0</td>\n",
       "      <td>0</td>\n",
       "      <td>0</td>\n",
       "      <td>0</td>\n",
       "      <td>0</td>\n",
       "      <td>0</td>\n",
       "      <td>0</td>\n",
       "      <td>0</td>\n",
       "    </tr>\n",
       "    <tr>\n",
       "      <th>2</th>\n",
       "      <td>Comedy</td>\n",
       "      <td>NaN</td>\n",
       "      <td>NaN</td>\n",
       "      <td>8.2</td>\n",
       "      <td>48.0</td>\n",
       "      <td>Style &amp; Substance</td>\n",
       "      <td>Style &amp; Substance</td>\n",
       "      <td>0</td>\n",
       "      <td>1998</td>\n",
       "      <td>1998</td>\n",
       "      <td>...</td>\n",
       "      <td>0</td>\n",
       "      <td>0</td>\n",
       "      <td>0</td>\n",
       "      <td>0</td>\n",
       "      <td>0</td>\n",
       "      <td>0</td>\n",
       "      <td>0</td>\n",
       "      <td>0</td>\n",
       "      <td>0</td>\n",
       "      <td>0</td>\n",
       "    </tr>\n",
       "    <tr>\n",
       "      <th>3</th>\n",
       "      <td>Drama</td>\n",
       "      <td>NaN</td>\n",
       "      <td>NaN</td>\n",
       "      <td>6.1</td>\n",
       "      <td>83.0</td>\n",
       "      <td>413 Hope St.</td>\n",
       "      <td>413 Hope St.</td>\n",
       "      <td>0</td>\n",
       "      <td>1997</td>\n",
       "      <td>1998</td>\n",
       "      <td>...</td>\n",
       "      <td>0</td>\n",
       "      <td>0</td>\n",
       "      <td>0</td>\n",
       "      <td>0</td>\n",
       "      <td>0</td>\n",
       "      <td>0</td>\n",
       "      <td>0</td>\n",
       "      <td>0</td>\n",
       "      <td>0</td>\n",
       "      <td>0</td>\n",
       "    </tr>\n",
       "    <tr>\n",
       "      <th>4</th>\n",
       "      <td>Family</td>\n",
       "      <td>NaN</td>\n",
       "      <td>NaN</td>\n",
       "      <td>6.8</td>\n",
       "      <td>11.0</td>\n",
       "      <td>The All New Captain Kangaroo</td>\n",
       "      <td>The All New Captain Kangaroo</td>\n",
       "      <td>0</td>\n",
       "      <td>1997</td>\n",
       "      <td>\\N</td>\n",
       "      <td>...</td>\n",
       "      <td>0</td>\n",
       "      <td>0</td>\n",
       "      <td>0</td>\n",
       "      <td>0</td>\n",
       "      <td>0</td>\n",
       "      <td>0</td>\n",
       "      <td>0</td>\n",
       "      <td>0</td>\n",
       "      <td>0</td>\n",
       "      <td>0</td>\n",
       "    </tr>\n",
       "  </tbody>\n",
       "</table>\n",
       "<p>5 rows × 92 columns</p>\n",
       "</div>"
      ],
      "text/plain": [
       "        0          1          2  rating  num_votes  \\\n",
       "0  Action  Adventure  Animation     7.4      218.0   \n",
       "1  Action  Adventure        NaN     6.3      665.0   \n",
       "2  Comedy        NaN        NaN     8.2       48.0   \n",
       "3   Drama        NaN        NaN     6.1       83.0   \n",
       "4  Family        NaN        NaN     6.8       11.0   \n",
       "\n",
       "                              title                         org_title  \\\n",
       "0                           Saiyuki                Gensomaden Saiyuki   \n",
       "1  The New Adventures of Robin Hood  The New Adventures of Robin Hood   \n",
       "2                 Style & Substance                 Style & Substance   \n",
       "3                      413 Hope St.                      413 Hope St.   \n",
       "4      The All New Captain Kangaroo      The All New Captain Kangaroo   \n",
       "\n",
       "   is_adult  start_year end_year  ... genre 3_News genre 3_Reality-TV  \\\n",
       "0         0        2000     2001  ...            0                  0   \n",
       "1         0        1997     1999  ...            0                  0   \n",
       "2         0        1998     1998  ...            0                  0   \n",
       "3         0        1997     1998  ...            0                  0   \n",
       "4         0        1997       \\N  ...            0                  0   \n",
       "\n",
       "   genre 3_Romance  genre 3_Sci-Fi genre 3_Short  genre 3_Sport  \\\n",
       "0                0               0             0              0   \n",
       "1                0               0             0              0   \n",
       "2                0               0             0              0   \n",
       "3                0               0             0              0   \n",
       "4                0               0             0              0   \n",
       "\n",
       "   genre 3_Talk-Show  genre 3_Thriller  genre 3_War  genre 3_Western  \n",
       "0                  0                 0            0                0  \n",
       "1                  0                 0            0                0  \n",
       "2                  0                 0            0                0  \n",
       "3                  0                 0            0                0  \n",
       "4                  0                 0            0                0  \n",
       "\n",
       "[5 rows x 92 columns]"
      ]
     },
     "execution_count": 218,
     "metadata": {},
     "output_type": "execute_result"
    }
   ],
   "source": [
    "log_imdb.head()"
   ]
  },
  {
   "cell_type": "code",
   "execution_count": 219,
   "metadata": {},
   "outputs": [],
   "source": [
    "log_imdb = log_imdb.dropna(subset=[0,1,2])"
   ]
  },
  {
   "cell_type": "code",
   "execution_count": 220,
   "metadata": {},
   "outputs": [],
   "source": [
    "variables = log_imdb.drop([0,1,2,'rating','start_year','num_votes','title','org_title', 'count', 'is_adult',\n",
    "                           'end_year','runtime_min','genre','genres','successful'],axis = 1)"
   ]
  },
  {
   "cell_type": "code",
   "execution_count": 221,
   "metadata": {},
   "outputs": [
    {
     "name": "stdout",
     "output_type": "stream",
     "text": [
      "Mean cross validation score: 0.606\n",
      "Scikit-learn r^2 score: 0.638\n"
     ]
    }
   ],
   "source": [
    "imdb_model = LogisticRegression().fit(variables, log_imdb['successful'])\n",
    "scores = cross_val_score(imdb_model,variables,log_imdb['successful'], cv= 5)\n",
    "print(\"Mean cross validation score: {:.3f}\".format(scores.mean()))\n",
    "score = imdb_model.score(variables, log_imdb['successful'])\n",
    "print('Scikit-learn r^2 score: {:.3f}'.format(score))"
   ]
  },
  {
   "cell_type": "code",
   "execution_count": 222,
   "metadata": {},
   "outputs": [
    {
     "name": "stdout",
     "output_type": "stream",
     "text": [
      "Coefficients:\n",
      "genre 1_Action: -0.15136\n",
      "genre 1_Adult: 0.92133\n",
      "genre 1_Adventure: 0.37707\n",
      "genre 1_Animation: -0.07612\n",
      "genre 1_Biography: 0.07774\n",
      "genre 1_Comedy: -0.09759\n",
      "genre 1_Crime: 0.07501\n",
      "genre 1_Documentary: 0.35025\n",
      "genre 1_Drama: -0.22624\n",
      "genre 1_Family: -0.64305\n",
      "genre 1_Fantasy: 0.16054\n",
      "genre 1_Game-Show: -1.19305\n",
      "genre 1_History: 0.10708\n",
      "genre 1_Horror: -0.01535\n",
      "genre 1_Music: 0.43567\n",
      "genre 1_Musical: 0.00000\n",
      "genre 1_Mystery: 0.22710\n",
      "genre 1_News: -0.89905\n",
      "genre 1_Reality-TV: 0.26171\n",
      "genre 1_Romance: 0.00000\n",
      "genre 1_Sci-Fi: 0.34345\n",
      "genre 1_Short: 0.00000\n",
      "genre 1_Sport: 0.00000\n",
      "genre 1_Talk-Show: 0.00000\n",
      "genre 1_Thriller: 0.00000\n",
      "genre 1_War: 0.00000\n",
      "genre 1_Western: 0.00000\n",
      "genre 2_Adult: -0.06016\n",
      "genre 2_Adventure: -0.28514\n",
      "genre 2_Animation: -0.88210\n",
      "genre 2_Biography: -0.10463\n",
      "genre 2_Comedy: -0.12314\n",
      "genre 2_Crime: 0.11693\n",
      "genre 2_Documentary: 0.33592\n",
      "genre 2_Drama: 0.20990\n",
      "genre 2_Family: -0.39095\n",
      "genre 2_Fantasy: 0.59882\n",
      "genre 2_Game-Show: -0.11592\n",
      "genre 2_History: 0.39281\n",
      "genre 2_Horror: 0.20537\n",
      "genre 2_Music: -0.62524\n",
      "genre 2_Musical: 0.36248\n",
      "genre 2_Mystery: 0.24930\n",
      "genre 2_News: -0.44763\n",
      "genre 2_Reality-TV: -0.89186\n",
      "genre 2_Romance: 0.17240\n",
      "genre 2_Sci-Fi: -0.14500\n",
      "genre 2_Short: 0.41250\n",
      "genre 2_Sport: -0.05014\n",
      "genre 2_Talk-Show: 0.54614\n",
      "genre 2_Thriller: 0.55448\n",
      "genre 2_War: 0.00000\n",
      "genre 2_Western: 0.00000\n",
      "genre 3_Animation: 0.30030\n",
      "genre 3_Biography: -0.30806\n",
      "genre 3_Comedy: -0.09065\n",
      "genre 3_Crime: 0.03332\n",
      "genre 3_Documentary: 0.27990\n",
      "genre 3_Drama: 0.31072\n",
      "genre 3_Family: -0.80589\n",
      "genre 3_Fantasy: -0.13217\n",
      "genre 3_Game-Show: -0.34506\n",
      "genre 3_History: 0.44088\n",
      "genre 3_Horror: -0.31211\n",
      "genre 3_Music: -0.03117\n",
      "genre 3_Musical: -0.14655\n",
      "genre 3_Mystery: 0.00041\n",
      "genre 3_News: 0.03044\n",
      "genre 3_Reality-TV: -0.36378\n",
      "genre 3_Romance: -0.09756\n",
      "genre 3_Sci-Fi: -0.37793\n",
      "genre 3_Short: -0.31444\n",
      "genre 3_Sport: 0.90642\n",
      "genre 3_Talk-Show: 0.31406\n",
      "genre 3_Thriller: -0.04787\n",
      "genre 3_War: 0.13201\n",
      "genre 3_Western: 0.65992\n"
     ]
    }
   ],
   "source": [
    "c = imdb_model.coef_\n",
    "v = variables.columns.tolist()\n",
    "print('Coefficients:')\n",
    "for i in range(0,len(v)):\n",
    "    print('{}: {:.5f}'.format(v[i],imdb_model.coef_[0][i]))"
   ]
  },
  {
   "cell_type": "code",
   "execution_count": 223,
   "metadata": {},
   "outputs": [
    {
     "name": "stdout",
     "output_type": "stream",
     "text": [
      "Baseline accuracy: 0.538\n"
     ]
    }
   ],
   "source": [
    "print('Baseline accuracy:', round(imdb_shows.successful.sum()/len(imdb_shows),3))"
   ]
  },
  {
   "cell_type": "markdown",
   "metadata": {},
   "source": [
    "Since we did not have access to the same data information as what we had for the movies, we are do not have much context about the source, creative type, or age rating of the tv show. \n",
    "\n",
    "**Takeaway: It looks like the genre and `is_adult` variables are not enough to predict the success of a tv show. The regression model is not predicting the success of a show much higher than baseline.**"
   ]
  },
  {
   "cell_type": "markdown",
   "metadata": {},
   "source": [
    "## 'Trend' ##\n",
    "\n",
    "According to Rating Graph, the data for `trend` \"represents the amount of new votes submitted during the past 7 Days.\" However, we need to bear in mind that we collected this data on October 15, 2021 so the data for `trend` is always shifting.\n",
    "\n",
    "### Drop values and convert to `int`\n",
    "We did not take out the trends that have - from the original dataframe so we can work with more data and just because people did not recently vote, doesn't mean that the data is irrelevant"
   ]
  },
  {
   "cell_type": "code",
   "execution_count": 224,
   "metadata": {},
   "outputs": [],
   "source": [
    "r_trend = rgraph.copy()\n",
    "r_trend = r_trend[r_trend.trend != '-']\n",
    "r_trend['trend'] = r_trend.trend.str.replace(',','')\n",
    "r_trend['trend'] = r_trend.loc[:,'trend'].astype(int)\n",
    "r_trend = r_trend.sort_values('trend',ascending=False)"
   ]
  },
  {
   "cell_type": "code",
   "execution_count": 225,
   "metadata": {},
   "outputs": [
    {
     "data": {
      "text/plain": [
       "Comedy                                         345\n",
       "Drama                                          239\n",
       "Documentary                                    233\n",
       "Animation, Action, Adventure                   225\n",
       "Drama, Crime, Mystery                          218\n",
       "                                              ... \n",
       "Comedy, Drama, Horror, Music                     1\n",
       "Drama, Crime, Mystery, Sci-fi, Thriller          1\n",
       "Action, Fantasy, Mystery                         1\n",
       "Comedy, Sport, Drama, Biography                  1\n",
       "Animation, Action, Crime, Family, Adventure      1\n",
       "Name: genres, Length: 605, dtype: int64"
      ]
     },
     "execution_count": 225,
     "metadata": {},
     "output_type": "execute_result"
    }
   ],
   "source": [
    "# again, looking at counts > 200\n",
    "r_trend.genres.value_counts()"
   ]
  },
  {
   "cell_type": "code",
   "execution_count": 226,
   "metadata": {},
   "outputs": [],
   "source": [
    "start_year = np.sort(list(set(r_trend.start_year)))\n",
    "\n",
    "# start_year and each line represents a genre\n",
    "r_trend_new = r_trend[(r_trend['genres'] == 'Comedy') | (r_trend['genres'] == 'Drama') | \n",
    "                      (r_trend['genres'] == 'Documentary') |\n",
    "                      (r_trend['genres'] == 'Animation, Action, Adventure') | \n",
    "                      (r_trend['genres'] == 'Drama, Crime, Mystery')\n",
    "                           ]"
   ]
  },
  {
   "cell_type": "code",
   "execution_count": 227,
   "metadata": {},
   "outputs": [
    {
     "data": {
      "image/png": "[encoded data removed]",
      "text/plain": [
       "<Figure size 921.6x633.6 with 1 Axes>"
      ]
     },
     "metadata": {
      "needs_background": "light"
     },
     "output_type": "display_data"
    }
   ],
   "source": [
    "genre_list = np.sort(list(set(r_trend_new.genres)))\n",
    "\n",
    "for genre in genre_list:\n",
    "    get_genre = r_trend_new.groupby('genres').get_group(genre)\n",
    "    genre_start_yr = np.sort(list(set(get_genre.start_year)))\n",
    "    avg_trend = [get_genre[get_genre.start_year == year].trend.mean()for year in genre_start_yr]\n",
    "    plt.plot(genre_start_yr,avg_trend)\n",
    "\n",
    "plt.legend(genre_list)\n",
    "plt.title('Average Trend for Each of the Top Genres')\n",
    "plt.xlabel('start year')\n",
    "plt.ylabel('average trend')\n",
    "plt.show()"
   ]
  },
  {
   "cell_type": "markdown",
   "metadata": {},
   "source": [
    "As defined earlier, 'Trend' is calculated by the amount of new votes submitted during the past 7 days.\n",
    "\n",
    "It is tough to make any conclusions about this data visualization right away, but it does provide some information and spurs us to look more closely at the peaks. For example, for the combination of *Animation, Action, Adventure* genres, we can delve more deeper and examine if the usage of social media was invovled. In order to look more into why these shows that started in 2019 were very popular, it would be interesting to look into recent tweets for these shows that fall into these genres and why they are trending.\n",
    "\n",
    "Additionally, shows that are labeled under the *Comedy* genre and started in 2005 peaked in popularity compared to the other genres, but not so much in other years while *Animation, Action, Adventure* shows that started before 2000 and somewhere in 2013 were also relatively quite popular."
   ]
  },
  {
   "cell_type": "markdown",
   "metadata": {},
   "source": [
    "### Collecting Twitter Hashtags"
   ]
  },
  {
   "cell_type": "code",
   "execution_count": 228,
   "metadata": {},
   "outputs": [],
   "source": [
    "# get the list of shows under the Animation, Action, Adventure genre\n",
    "animation_action_adventure = r_trend[r_trend['genres'] == 'Animation, Action, Adventure']"
   ]
  },
  {
   "cell_type": "markdown",
   "metadata": {},
   "source": [
    "There are a lot of shows that have a very small trend so in order to narrow down on the number of shows that a number of people are genuinely interacting with, we only looked at shows that have a higher `trend` value than the mean."
   ]
  },
  {
   "cell_type": "code",
   "execution_count": 229,
   "metadata": {},
   "outputs": [],
   "source": [
    "animation_action_adventure = r_trend[r_trend['trend'] >= (round(animation_action_adventure.trend.mean()))]"
   ]
  },
  {
   "cell_type": "code",
   "execution_count": 230,
   "metadata": {},
   "outputs": [
    {
     "name": "stdout",
     "output_type": "stream",
     "text": [
      "There are 200 shows in `Animation, Action, and Adventure`.\n"
     ]
    }
   ],
   "source": [
    "animation_action_adventure_list = list(animation_action_adventure.title)\n",
    "print(f'There are {len(animation_action_adventure_list)} shows in `Animation, Action, and Adventure`.')"
   ]
  },
  {
   "cell_type": "markdown",
   "metadata": {},
   "source": [
    "When trying to go through all 200 shows, the Twitter code takes too long to collect all the data so we decided to look at only the top ten shows from this list."
   ]
  },
  {
   "cell_type": "code",
   "execution_count": 383,
   "metadata": {},
   "outputs": [
    {
     "data": {
      "text/html": [
       "<div>\n",
       "<style scoped>\n",
       "    .dataframe tbody tr th:only-of-type {\n",
       "        vertical-align: middle;\n",
       "    }\n",
       "\n",
       "    .dataframe tbody tr th {\n",
       "        vertical-align: top;\n",
       "    }\n",
       "\n",
       "    .dataframe thead th {\n",
       "        text-align: right;\n",
       "    }\n",
       "</style>\n",
       "<table border=\"1\" class=\"dataframe\">\n",
       "  <thead>\n",
       "    <tr style=\"text-align: right;\">\n",
       "      <th></th>\n",
       "      <th>rank</th>\n",
       "      <th>trend</th>\n",
       "      <th>title</th>\n",
       "      <th>start_year</th>\n",
       "      <th>end_year</th>\n",
       "      <th>genres</th>\n",
       "      <th>total_votes</th>\n",
       "      <th>average_votes</th>\n",
       "      <th>rating</th>\n",
       "    </tr>\n",
       "  </thead>\n",
       "  <tbody>\n",
       "    <tr>\n",
       "      <th>16771</th>\n",
       "      <td>32</td>\n",
       "      <td>28443</td>\n",
       "      <td>Squid Game</td>\n",
       "      <td>2021</td>\n",
       "      <td>2021</td>\n",
       "      <td>Action, Drama, Adventure, Mystery</td>\n",
       "      <td>61,182</td>\n",
       "      <td>6,798</td>\n",
       "      <td>8.2</td>\n",
       "    </tr>\n",
       "    <tr>\n",
       "      <th>4213</th>\n",
       "      <td>262</td>\n",
       "      <td>12708</td>\n",
       "      <td>Regular Show</td>\n",
       "      <td>2009</td>\n",
       "      <td>2017</td>\n",
       "      <td>Animation, Action, Adventure</td>\n",
       "      <td>303,455</td>\n",
       "      <td>1,234</td>\n",
       "      <td>8.8</td>\n",
       "    </tr>\n",
       "    <tr>\n",
       "      <th>16674</th>\n",
       "      <td>17</td>\n",
       "      <td>8699</td>\n",
       "      <td>What If...?</td>\n",
       "      <td>2021</td>\n",
       "      <td>-</td>\n",
       "      <td>Animation, Action, Adventure</td>\n",
       "      <td>97,793</td>\n",
       "      <td>10,866</td>\n",
       "      <td>7.9</td>\n",
       "    </tr>\n",
       "    <tr>\n",
       "      <th>4418</th>\n",
       "      <td>20</td>\n",
       "      <td>6687</td>\n",
       "      <td>The Walking Dead</td>\n",
       "      <td>2010</td>\n",
       "      <td>2022</td>\n",
       "      <td>Drama, Horror, Thriller</td>\n",
       "      <td>1,613,912</td>\n",
       "      <td>10,024</td>\n",
       "      <td>8.1</td>\n",
       "    </tr>\n",
       "    <tr>\n",
       "      <th>15257</th>\n",
       "      <td>80</td>\n",
       "      <td>5109</td>\n",
       "      <td>Ted Lasso</td>\n",
       "      <td>2020</td>\n",
       "      <td>-</td>\n",
       "      <td>Comedy, Sport, Drama</td>\n",
       "      <td>72,705</td>\n",
       "      <td>3,305</td>\n",
       "      <td>8.6</td>\n",
       "    </tr>\n",
       "    <tr>\n",
       "      <th>431</th>\n",
       "      <td>1,057</td>\n",
       "      <td>5046</td>\n",
       "      <td>One Piece</td>\n",
       "      <td>1999</td>\n",
       "      <td>-</td>\n",
       "      <td>Animation, Action, Adventure</td>\n",
       "      <td>323,491</td>\n",
       "      <td>325</td>\n",
       "      <td>8.1</td>\n",
       "    </tr>\n",
       "    <tr>\n",
       "      <th>2050</th>\n",
       "      <td>60</td>\n",
       "      <td>4378</td>\n",
       "      <td>Supernatural</td>\n",
       "      <td>2005</td>\n",
       "      <td>2020</td>\n",
       "      <td>Drama, Fantasy, Horror</td>\n",
       "      <td>1,221,691</td>\n",
       "      <td>3,736</td>\n",
       "      <td>8.5</td>\n",
       "    </tr>\n",
       "    <tr>\n",
       "      <th>4891</th>\n",
       "      <td>2</td>\n",
       "      <td>4109</td>\n",
       "      <td>Game of Thrones</td>\n",
       "      <td>2011</td>\n",
       "      <td>2019</td>\n",
       "      <td>Action, Drama, Adventure</td>\n",
       "      <td>3,825,183</td>\n",
       "      <td>52,400</td>\n",
       "      <td>8.8</td>\n",
       "    </tr>\n",
       "    <tr>\n",
       "      <th>6600</th>\n",
       "      <td>10</td>\n",
       "      <td>3159</td>\n",
       "      <td>Attack on Titan</td>\n",
       "      <td>2013</td>\n",
       "      <td>2022</td>\n",
       "      <td>Animation, Action, Adventure</td>\n",
       "      <td>1,081,570</td>\n",
       "      <td>14,421</td>\n",
       "      <td>9.3</td>\n",
       "    </tr>\n",
       "    <tr>\n",
       "      <th>3229</th>\n",
       "      <td>5</td>\n",
       "      <td>3088</td>\n",
       "      <td>Breaking Bad</td>\n",
       "      <td>2008</td>\n",
       "      <td>2013</td>\n",
       "      <td>Drama, Crime, Thriller</td>\n",
       "      <td>1,532,863</td>\n",
       "      <td>24,724</td>\n",
       "      <td>9.0</td>\n",
       "    </tr>\n",
       "  </tbody>\n",
       "</table>\n",
       "</div>"
      ],
      "text/plain": [
       "        rank  trend             title  start_year end_year  \\\n",
       "16771     32  28443        Squid Game        2021     2021   \n",
       "4213     262  12708      Regular Show        2009     2017   \n",
       "16674     17   8699       What If...?        2021        -   \n",
       "4418      20   6687  The Walking Dead        2010     2022   \n",
       "15257     80   5109         Ted Lasso        2020        -   \n",
       "431    1,057   5046         One Piece        1999        -   \n",
       "2050      60   4378      Supernatural        2005     2020   \n",
       "4891       2   4109   Game of Thrones        2011     2019   \n",
       "6600      10   3159   Attack on Titan        2013     2022   \n",
       "3229       5   3088      Breaking Bad        2008     2013   \n",
       "\n",
       "                                  genres total_votes average_votes  rating  \n",
       "16771  Action, Drama, Adventure, Mystery      61,182         6,798     8.2  \n",
       "4213        Animation, Action, Adventure     303,455         1,234     8.8  \n",
       "16674       Animation, Action, Adventure      97,793        10,866     7.9  \n",
       "4418             Drama, Horror, Thriller   1,613,912        10,024     8.1  \n",
       "15257               Comedy, Sport, Drama      72,705         3,305     8.6  \n",
       "431         Animation, Action, Adventure     323,491           325     8.1  \n",
       "2050              Drama, Fantasy, Horror   1,221,691         3,736     8.5  \n",
       "4891            Action, Drama, Adventure   3,825,183        52,400     8.8  \n",
       "6600        Animation, Action, Adventure   1,081,570        14,421     9.3  \n",
       "3229              Drama, Crime, Thriller   1,532,863        24,724     9.0  "
      ]
     },
     "execution_count": 383,
     "metadata": {},
     "output_type": "execute_result"
    }
   ],
   "source": [
    "new_animation_action_adventure_list = animation_action_adventure.nlargest(10, 'trend')\n",
    "new_animation_action_adventure_list"
   ]
  },
  {
   "cell_type": "code",
   "execution_count": 384,
   "metadata": {},
   "outputs": [],
   "source": [
    "new_animation_action_adventure_list = list(new_animation_action_adventure_list.title)"
   ]
  },
  {
   "cell_type": "markdown",
   "metadata": {},
   "source": [
    "We now have the top ten shows to search tweets for in *Animation, Action, Adventure*, but we need to further process the data so that our twitter code can take them in as hashtags and not as titles. This means that we need to lower the text, removes any spaces, and remove punctuation."
   ]
  },
  {
   "cell_type": "code",
   "execution_count": 385,
   "metadata": {},
   "outputs": [
    {
     "name": "stdout",
     "output_type": "stream",
     "text": [
      "['#squidgame', '#regularshow', '#whatif', '#thewalkingdead', '#tedlasso', '#onepiece', '#supernatural', '#gameofthrones', '#attackontitan', '#breakingbad']\n"
     ]
    }
   ],
   "source": [
    "# need to change the text so that they can be processed as hashtags\n",
    "\n",
    "a = map(lambda x: x.lower(), new_animation_action_adventure_list)\n",
    "\n",
    "a = [re.sub(r'[^A-Za-z0-9]+', '', hashtag) for hashtag in a]\n",
    "\n",
    "hashtag_list = []\n",
    "for show in a:\n",
    "    i = show.replace(' ', '')\n",
    "    i = \"#\" + i\n",
    "    hashtag_list.append(i)\n",
    "\n",
    "print(hashtag_list)"
   ]
  },
  {
   "cell_type": "markdown",
   "metadata": {},
   "source": [
    "### Accessing Twitter API"
   ]
  },
  {
   "cell_type": "code",
   "execution_count": 386,
   "metadata": {},
   "outputs": [],
   "source": [
    "import tweepy\n",
    "import csv"
   ]
  },
  {
   "cell_type": "code",
   "execution_count": 390,
   "metadata": {},
   "outputs": [],
   "source": [
    "#input Twitter Developer credentials\n",
    "consumer_key = 'rDjIpZrgbnjX0V6onPC3xTaLZ'\n",
    "consumer_secret = 'PnC7o1Q6HMYrPvaqdLJEVyAmR9dXr5LAZiOSsTusvcwD9x1wC1'\n",
    "access_token = '1286468521958899712-oa5l7MS10Lt2xwDYRnhlTAZMWRK5FQ'\n",
    "access_token_secret = 'mulWRgikVZUNLFb3CCEjDYqkzoLLELB5b363g0229wZ12'\n",
    "\n",
    "auth = tweepy.OAuthHandler(consumer_key, consumer_secret)\n",
    "auth.set_access_token(access_token, access_token_secret)\n",
    "api = tweepy.API(auth,wait_on_rate_limit=True)"
   ]
  },
  {
   "cell_type": "code",
   "execution_count": 409,
   "metadata": {},
   "outputs": [
    {
     "name": "stdout",
     "output_type": "stream",
     "text": [
      "CPU times: user 3 µs, sys: 1e+03 ns, total: 4 µs\n",
      "Wall time: 10 µs\n"
     ]
    }
   ],
   "source": [
    "# Open/Create a file to append data\n",
    "csvFile = open('show_tweets.csv', 'a')\n",
    "\n",
    "# Use csv Writer\n",
    "csvWriter = csv.writer(csvFile)\n",
    "\n",
    "for show in hashtag_list:\n",
    "    for tweet in tweepy.Cursor(api.search_tweets,\n",
    "                               q=show,\n",
    "                               tweet_mode='extended', \n",
    "                               lang=\"en\").items(100):\n",
    "        csvWriter.writerow([show, tweet.created_at, tweet.full_text.encode('utf-8')])\n",
    "\n",
    "%time"
   ]
  },
  {
   "cell_type": "code",
   "execution_count": 427,
   "metadata": {},
   "outputs": [],
   "source": [
    "tweets = pd.read_csv('show_tweets.csv', sep='delimiter', engine='python')"
   ]
  },
  {
   "cell_type": "code",
   "execution_count": 428,
   "metadata": {},
   "outputs": [
    {
     "data": {
      "text/html": [
       "<div>\n",
       "<style scoped>\n",
       "    .dataframe tbody tr th:only-of-type {\n",
       "        vertical-align: middle;\n",
       "    }\n",
       "\n",
       "    .dataframe tbody tr th {\n",
       "        vertical-align: top;\n",
       "    }\n",
       "\n",
       "    .dataframe thead th {\n",
       "        text-align: right;\n",
       "    }\n",
       "</style>\n",
       "<table border=\"1\" class=\"dataframe\">\n",
       "  <thead>\n",
       "    <tr style=\"text-align: right;\">\n",
       "      <th></th>\n",
       "      <th>date_time</th>\n",
       "    </tr>\n",
       "  </thead>\n",
       "  <tbody>\n",
       "    <tr>\n",
       "      <th>0</th>\n",
       "      <td>2021-12-07 04:38:15+00:00,b'RT @CopperOdyssey:...</td>\n",
       "    </tr>\n",
       "    <tr>\n",
       "      <th>1</th>\n",
       "      <td>2021-12-07 03:34:14+00:00,b'RT @FAZEAlan_Mskul...</td>\n",
       "    </tr>\n",
       "    <tr>\n",
       "      <th>2</th>\n",
       "      <td>2021-12-07 03:34:07+00:00,b'RT @FAZEAlan_Mskul...</td>\n",
       "    </tr>\n",
       "    <tr>\n",
       "      <th>3</th>\n",
       "      <td>2021-12-07 03:33:45+00:00,b'RT @FAZEAlan_Mskul...</td>\n",
       "    </tr>\n",
       "    <tr>\n",
       "      <th>4</th>\n",
       "      <td>2021-12-07 03:33:24+00:00,b'RT @FAZEAlan_Mskul...</td>\n",
       "    </tr>\n",
       "  </tbody>\n",
       "</table>\n",
       "</div>"
      ],
      "text/plain": [
       "                                           date_time\n",
       "0  2021-12-07 04:38:15+00:00,b'RT @CopperOdyssey:...\n",
       "1  2021-12-07 03:34:14+00:00,b'RT @FAZEAlan_Mskul...\n",
       "2  2021-12-07 03:34:07+00:00,b'RT @FAZEAlan_Mskul...\n",
       "3  2021-12-07 03:33:45+00:00,b'RT @FAZEAlan_Mskul...\n",
       "4  2021-12-07 03:33:24+00:00,b'RT @FAZEAlan_Mskul..."
      ]
     },
     "execution_count": 428,
     "metadata": {},
     "output_type": "execute_result"
    }
   ],
   "source": [
    "tweets_df = (tweets.T.reset_index().T.reset_index(drop=True)\n",
    "            .set_axis([f'Q1.{i+1}' for i in range(tweets.shape[1])], axis=1))\n",
    "tweets_df.rename(columns={'Q1.1': 'date_time', \n",
    "                       'Q1.2': 'tweets'}, inplace=True)\n",
    "tweets_df.head()"
   ]
  },
  {
   "cell_type": "markdown",
   "metadata": {},
   "source": [
    "Unfortunately we realized that there are restrictions with Twitter's free API because we cannot retrieve tweets older than 14 days which severely limited the amount of information we could have obtained and how we could achieve our initial desire of looking into trends with social media over time. This is most likely why we would originally get the error \"Unexpected parameter: since\" because the start date we would enter would exceed the bounds of what we are able to access with the API so we removed that parameter. \n",
    "\n",
    "Additionally, there is a rate limit on how many requests we could make with the API in an interval of 15 minutes, so it posed as a hindrance when considering the amount of data we were trying to retrieve from Twitter — as briefly mentioned earlier. It is also significant to note that it is common for hashtags to be abbreviated or altered so we might not be accessing a lot of the tweets, for example, for *The Tower of DRUAGA: The Aegis of URUK*. \n",
    "\n",
    "Due to these factors, we would have hoped to look at the text as data to see if there is a pattern with the content of tweets and the show that they are talking about."
   ]
  },
  {
   "cell_type": "markdown",
   "metadata": {},
   "source": [
    "<a id='section_5c'></a>\n",
    "# Question 3: Based on these factors and factors found from Question 1, how can we predict the future success for certain TV shows?"
   ]
  },
  {
   "cell_type": "markdown",
   "metadata": {},
   "source": [
    "We first looked at the factors from Question 1 to predict future success.  We will use **logistic regression** to see which of these variables are better as predictors."
   ]
  },
  {
   "cell_type": "code",
   "execution_count": 264,
   "metadata": {},
   "outputs": [],
   "source": [
    "netflix_shows['successful'] = netflix_shows['rating'] > 7\n",
    "netflix_shows = netflix_shows[netflix_shows['genre'] != '\\\\N']"
   ]
  },
  {
   "cell_type": "code",
   "execution_count": 265,
   "metadata": {},
   "outputs": [
    {
     "name": "stdout",
     "output_type": "stream",
     "text": [
      "Mean ratings for traditional TV shows: 7.044\n",
      "Mean ratings for Netflix shows: 7.635\n"
     ]
    }
   ],
   "source": [
    "print(\"Mean ratings for traditional TV shows: {:.3f}\".format(log_imdb['rating'].mean()))\n",
    "print(\"Mean ratings for Netflix shows: {:.3f}\".format(netflix_shows['rating'].mean()))"
   ]
  },
  {
   "cell_type": "code",
   "execution_count": 266,
   "metadata": {},
   "outputs": [
    {
     "data": {
      "application/vnd.jupyter.widget-view+json": {
       "model_id": "4491f6f4cb8a4a3da1c2ee108869f4aa",
       "version_major": 2,
       "version_minor": 0
      },
      "text/plain": [
       "Pandas Apply:   0%|          | 0/358 [00:00<?, ?it/s]"
      ]
     },
     "metadata": {},
     "output_type": "display_data"
    },
    {
     "data": {
      "text/html": [
       "<div>\n",
       "<style scoped>\n",
       "    .dataframe tbody tr th:only-of-type {\n",
       "        vertical-align: middle;\n",
       "    }\n",
       "\n",
       "    .dataframe tbody tr th {\n",
       "        vertical-align: top;\n",
       "    }\n",
       "\n",
       "    .dataframe thead th {\n",
       "        text-align: right;\n",
       "    }\n",
       "</style>\n",
       "<table border=\"1\" class=\"dataframe\">\n",
       "  <thead>\n",
       "    <tr style=\"text-align: right;\">\n",
       "      <th></th>\n",
       "      <th>0</th>\n",
       "      <th>1</th>\n",
       "      <th>2</th>\n",
       "      <th>rating</th>\n",
       "      <th>num_votes</th>\n",
       "      <th>title</th>\n",
       "      <th>org_title</th>\n",
       "      <th>is_adult</th>\n",
       "      <th>start_year</th>\n",
       "      <th>end_year</th>\n",
       "      <th>runtime_min</th>\n",
       "      <th>genre</th>\n",
       "      <th>age</th>\n",
       "      <th>startYear</th>\n",
       "      <th>rating_y</th>\n",
       "      <th>numVotes</th>\n",
       "      <th>successful</th>\n",
       "      <th>genres</th>\n",
       "    </tr>\n",
       "  </thead>\n",
       "  <tbody>\n",
       "    <tr>\n",
       "      <th>0</th>\n",
       "      <td>Crime</td>\n",
       "      <td>Drama</td>\n",
       "      <td>NaN</td>\n",
       "      <td>9.2</td>\n",
       "      <td>334244.0</td>\n",
       "      <td>Family Guy</td>\n",
       "      <td>The Sopranos</td>\n",
       "      <td>0</td>\n",
       "      <td>1999</td>\n",
       "      <td>2007</td>\n",
       "      <td>55</td>\n",
       "      <td>Crime,Drama</td>\n",
       "      <td>TV-MA</td>\n",
       "      <td>2015</td>\n",
       "      <td>9.8</td>\n",
       "      <td>80</td>\n",
       "      <td>True</td>\n",
       "      <td>[Crime, Drama]</td>\n",
       "    </tr>\n",
       "    <tr>\n",
       "      <th>1</th>\n",
       "      <td>Crime</td>\n",
       "      <td>Drama</td>\n",
       "      <td>NaN</td>\n",
       "      <td>9.2</td>\n",
       "      <td>334244.0</td>\n",
       "      <td>Family Guy</td>\n",
       "      <td>The Sopranos</td>\n",
       "      <td>0</td>\n",
       "      <td>1999</td>\n",
       "      <td>2007</td>\n",
       "      <td>55</td>\n",
       "      <td>Crime,Drama</td>\n",
       "      <td>TV-MA</td>\n",
       "      <td>2015</td>\n",
       "      <td>9.8</td>\n",
       "      <td>80</td>\n",
       "      <td>True</td>\n",
       "      <td>[Crime, Drama]</td>\n",
       "    </tr>\n",
       "    <tr>\n",
       "      <th>2</th>\n",
       "      <td>Animation</td>\n",
       "      <td>Comedy</td>\n",
       "      <td>NaN</td>\n",
       "      <td>8.1</td>\n",
       "      <td>315702.0</td>\n",
       "      <td>Family Guy</td>\n",
       "      <td>Family Guy</td>\n",
       "      <td>0</td>\n",
       "      <td>1999</td>\n",
       "      <td>\\N</td>\n",
       "      <td>22</td>\n",
       "      <td>Animation,Comedy</td>\n",
       "      <td>TV-MA</td>\n",
       "      <td>2015</td>\n",
       "      <td>9.8</td>\n",
       "      <td>80</td>\n",
       "      <td>True</td>\n",
       "      <td>[Animation, Comedy]</td>\n",
       "    </tr>\n",
       "    <tr>\n",
       "      <th>3</th>\n",
       "      <td>Animation</td>\n",
       "      <td>Comedy</td>\n",
       "      <td>NaN</td>\n",
       "      <td>8.1</td>\n",
       "      <td>315702.0</td>\n",
       "      <td>Family Guy</td>\n",
       "      <td>Family Guy</td>\n",
       "      <td>0</td>\n",
       "      <td>1999</td>\n",
       "      <td>\\N</td>\n",
       "      <td>22</td>\n",
       "      <td>Animation,Comedy</td>\n",
       "      <td>TV-MA</td>\n",
       "      <td>2015</td>\n",
       "      <td>9.8</td>\n",
       "      <td>80</td>\n",
       "      <td>True</td>\n",
       "      <td>[Animation, Comedy]</td>\n",
       "    </tr>\n",
       "    <tr>\n",
       "      <th>4</th>\n",
       "      <td>Drama</td>\n",
       "      <td>Fantasy</td>\n",
       "      <td>Mystery</td>\n",
       "      <td>7.1</td>\n",
       "      <td>78500.0</td>\n",
       "      <td>Charmed</td>\n",
       "      <td>Charmed</td>\n",
       "      <td>0</td>\n",
       "      <td>1998</td>\n",
       "      <td>2006</td>\n",
       "      <td>42</td>\n",
       "      <td>Drama,Fantasy,Mystery</td>\n",
       "      <td>TV-PG</td>\n",
       "      <td>2005</td>\n",
       "      <td>9.0</td>\n",
       "      <td>80</td>\n",
       "      <td>True</td>\n",
       "      <td>[Drama, Fantasy, Mystery]</td>\n",
       "    </tr>\n",
       "  </tbody>\n",
       "</table>\n",
       "</div>"
      ],
      "text/plain": [
       "           0        1        2  rating  num_votes       title     org_title  \\\n",
       "0      Crime    Drama      NaN     9.2   334244.0  Family Guy  The Sopranos   \n",
       "1      Crime    Drama      NaN     9.2   334244.0  Family Guy  The Sopranos   \n",
       "2  Animation   Comedy      NaN     8.1   315702.0  Family Guy    Family Guy   \n",
       "3  Animation   Comedy      NaN     8.1   315702.0  Family Guy    Family Guy   \n",
       "4      Drama  Fantasy  Mystery     7.1    78500.0     Charmed       Charmed   \n",
       "\n",
       "   is_adult  start_year end_year runtime_min                  genre    age  \\\n",
       "0         0        1999     2007          55            Crime,Drama  TV-MA   \n",
       "1         0        1999     2007          55            Crime,Drama  TV-MA   \n",
       "2         0        1999       \\N          22       Animation,Comedy  TV-MA   \n",
       "3         0        1999       \\N          22       Animation,Comedy  TV-MA   \n",
       "4         0        1998     2006          42  Drama,Fantasy,Mystery  TV-PG   \n",
       "\n",
       "   startYear  rating_y  numVotes  successful                     genres  \n",
       "0       2015       9.8        80        True             [Crime, Drama]  \n",
       "1       2015       9.8        80        True             [Crime, Drama]  \n",
       "2       2015       9.8        80        True        [Animation, Comedy]  \n",
       "3       2015       9.8        80        True        [Animation, Comedy]  \n",
       "4       2005       9.0        80        True  [Drama, Fantasy, Mystery]  "
      ]
     },
     "execution_count": 266,
     "metadata": {},
     "output_type": "execute_result"
    }
   ],
   "source": [
    "netflix_shows = netflix_shows.assign(genres=netflix_shows.genre.str.split(\",\"))\n",
    "netflix_shows = netflix_shows.genres.swifter.apply(pd.Series).merge(netflix_shows, right_index = True, left_index = True)\n",
    "netflix_shows.head()"
   ]
  },
  {
   "cell_type": "code",
   "execution_count": 267,
   "metadata": {},
   "outputs": [],
   "source": [
    "netflix_shows = netflix_shows.dropna(subset=[0,1,2])"
   ]
  },
  {
   "cell_type": "code",
   "execution_count": 268,
   "metadata": {},
   "outputs": [],
   "source": [
    "df_genre = pd.get_dummies(netflix_shows[0], prefix =\"genre 1\")\n",
    "netflix_shows = pd.concat([netflix_shows,df_genre],axis = 1)"
   ]
  },
  {
   "cell_type": "code",
   "execution_count": 269,
   "metadata": {},
   "outputs": [],
   "source": [
    "df_genre = pd.get_dummies(netflix_shows[1], prefix =\"genre 2\")\n",
    "netflix_shows = pd.concat([netflix_shows,df_genre],axis = 1)"
   ]
  },
  {
   "cell_type": "code",
   "execution_count": 270,
   "metadata": {},
   "outputs": [],
   "source": [
    "df_genre = pd.get_dummies(netflix_shows[2], prefix =\"genre 3\")\n",
    "netflix_shows = pd.concat([netflix_shows,df_genre],axis = 1)"
   ]
  },
  {
   "cell_type": "code",
   "execution_count": 271,
   "metadata": {},
   "outputs": [],
   "source": [
    "df_ages = pd.get_dummies(netflix_shows['age'])\n",
    "netflix_shows = pd.concat([netflix_shows,df_ages],axis = 1)"
   ]
  },
  {
   "cell_type": "code",
   "execution_count": 272,
   "metadata": {},
   "outputs": [
    {
     "data": {
      "text/html": [
       "<div>\n",
       "<style scoped>\n",
       "    .dataframe tbody tr th:only-of-type {\n",
       "        vertical-align: middle;\n",
       "    }\n",
       "\n",
       "    .dataframe tbody tr th {\n",
       "        vertical-align: top;\n",
       "    }\n",
       "\n",
       "    .dataframe thead th {\n",
       "        text-align: right;\n",
       "    }\n",
       "</style>\n",
       "<table border=\"1\" class=\"dataframe\">\n",
       "  <thead>\n",
       "    <tr style=\"text-align: right;\">\n",
       "      <th></th>\n",
       "      <th>0</th>\n",
       "      <th>1</th>\n",
       "      <th>2</th>\n",
       "      <th>rating</th>\n",
       "      <th>num_votes</th>\n",
       "      <th>title</th>\n",
       "      <th>org_title</th>\n",
       "      <th>is_adult</th>\n",
       "      <th>start_year</th>\n",
       "      <th>end_year</th>\n",
       "      <th>...</th>\n",
       "      <th>NR</th>\n",
       "      <th>PG</th>\n",
       "      <th>PG-13</th>\n",
       "      <th>TV-14</th>\n",
       "      <th>TV-G</th>\n",
       "      <th>TV-MA</th>\n",
       "      <th>TV-PG</th>\n",
       "      <th>TV-Y</th>\n",
       "      <th>TV-Y7</th>\n",
       "      <th>TV-Y7-FV</th>\n",
       "    </tr>\n",
       "  </thead>\n",
       "  <tbody>\n",
       "    <tr>\n",
       "      <th>4</th>\n",
       "      <td>Drama</td>\n",
       "      <td>Fantasy</td>\n",
       "      <td>Mystery</td>\n",
       "      <td>7.1</td>\n",
       "      <td>78500.0</td>\n",
       "      <td>Charmed</td>\n",
       "      <td>Charmed</td>\n",
       "      <td>0</td>\n",
       "      <td>1998</td>\n",
       "      <td>2006</td>\n",
       "      <td>...</td>\n",
       "      <td>0</td>\n",
       "      <td>0</td>\n",
       "      <td>0</td>\n",
       "      <td>0</td>\n",
       "      <td>0</td>\n",
       "      <td>0</td>\n",
       "      <td>1</td>\n",
       "      <td>0</td>\n",
       "      <td>0</td>\n",
       "      <td>0</td>\n",
       "    </tr>\n",
       "    <tr>\n",
       "      <th>5</th>\n",
       "      <td>Drama</td>\n",
       "      <td>Fantasy</td>\n",
       "      <td>Mystery</td>\n",
       "      <td>4.7</td>\n",
       "      <td>15022.0</td>\n",
       "      <td>Charmed</td>\n",
       "      <td>Charmed</td>\n",
       "      <td>0</td>\n",
       "      <td>2018</td>\n",
       "      <td>\\N</td>\n",
       "      <td>...</td>\n",
       "      <td>0</td>\n",
       "      <td>0</td>\n",
       "      <td>0</td>\n",
       "      <td>0</td>\n",
       "      <td>0</td>\n",
       "      <td>0</td>\n",
       "      <td>1</td>\n",
       "      <td>0</td>\n",
       "      <td>0</td>\n",
       "      <td>0</td>\n",
       "    </tr>\n",
       "    <tr>\n",
       "      <th>6</th>\n",
       "      <td>Comedy</td>\n",
       "      <td>Drama</td>\n",
       "      <td>Romance</td>\n",
       "      <td>8.0</td>\n",
       "      <td>159595.0</td>\n",
       "      <td>That '70s Show</td>\n",
       "      <td>That '70s Show</td>\n",
       "      <td>0</td>\n",
       "      <td>1998</td>\n",
       "      <td>2006</td>\n",
       "      <td>...</td>\n",
       "      <td>0</td>\n",
       "      <td>0</td>\n",
       "      <td>0</td>\n",
       "      <td>1</td>\n",
       "      <td>0</td>\n",
       "      <td>0</td>\n",
       "      <td>0</td>\n",
       "      <td>0</td>\n",
       "      <td>0</td>\n",
       "      <td>0</td>\n",
       "    </tr>\n",
       "    <tr>\n",
       "      <th>8</th>\n",
       "      <td>Crime</td>\n",
       "      <td>Drama</td>\n",
       "      <td>Mystery</td>\n",
       "      <td>8.0</td>\n",
       "      <td>90639.0</td>\n",
       "      <td>Law &amp; Order: Special Victims Unit</td>\n",
       "      <td>Law &amp; Order: Special Victims Unit</td>\n",
       "      <td>0</td>\n",
       "      <td>1999</td>\n",
       "      <td>\\N</td>\n",
       "      <td>...</td>\n",
       "      <td>0</td>\n",
       "      <td>0</td>\n",
       "      <td>0</td>\n",
       "      <td>1</td>\n",
       "      <td>0</td>\n",
       "      <td>0</td>\n",
       "      <td>0</td>\n",
       "      <td>0</td>\n",
       "      <td>0</td>\n",
       "      <td>0</td>\n",
       "    </tr>\n",
       "    <tr>\n",
       "      <th>9</th>\n",
       "      <td>Crime</td>\n",
       "      <td>Drama</td>\n",
       "      <td>Mystery</td>\n",
       "      <td>8.0</td>\n",
       "      <td>90639.0</td>\n",
       "      <td>Law &amp; Order: Special Victims Unit</td>\n",
       "      <td>Law &amp; Order: Special Victims Unit</td>\n",
       "      <td>0</td>\n",
       "      <td>1999</td>\n",
       "      <td>\\N</td>\n",
       "      <td>...</td>\n",
       "      <td>0</td>\n",
       "      <td>0</td>\n",
       "      <td>0</td>\n",
       "      <td>1</td>\n",
       "      <td>0</td>\n",
       "      <td>0</td>\n",
       "      <td>0</td>\n",
       "      <td>0</td>\n",
       "      <td>0</td>\n",
       "      <td>0</td>\n",
       "    </tr>\n",
       "  </tbody>\n",
       "</table>\n",
       "<p>5 rows × 64 columns</p>\n",
       "</div>"
      ],
      "text/plain": [
       "        0        1        2  rating  num_votes  \\\n",
       "4   Drama  Fantasy  Mystery     7.1    78500.0   \n",
       "5   Drama  Fantasy  Mystery     4.7    15022.0   \n",
       "6  Comedy    Drama  Romance     8.0   159595.0   \n",
       "8   Crime    Drama  Mystery     8.0    90639.0   \n",
       "9   Crime    Drama  Mystery     8.0    90639.0   \n",
       "\n",
       "                               title                          org_title  \\\n",
       "4                            Charmed                            Charmed   \n",
       "5                            Charmed                            Charmed   \n",
       "6                     That '70s Show                     That '70s Show   \n",
       "8  Law & Order: Special Victims Unit  Law & Order: Special Victims Unit   \n",
       "9  Law & Order: Special Victims Unit  Law & Order: Special Victims Unit   \n",
       "\n",
       "   is_adult  start_year end_year  ... NR PG PG-13  TV-14  TV-G  TV-MA  TV-PG  \\\n",
       "4         0        1998     2006  ...  0  0     0      0     0      0      1   \n",
       "5         0        2018       \\N  ...  0  0     0      0     0      0      1   \n",
       "6         0        1998     2006  ...  0  0     0      1     0      0      0   \n",
       "8         0        1999       \\N  ...  0  0     0      1     0      0      0   \n",
       "9         0        1999       \\N  ...  0  0     0      1     0      0      0   \n",
       "\n",
       "  TV-Y  TV-Y7  TV-Y7-FV  \n",
       "4    0      0         0  \n",
       "5    0      0         0  \n",
       "6    0      0         0  \n",
       "8    0      0         0  \n",
       "9    0      0         0  \n",
       "\n",
       "[5 rows x 64 columns]"
      ]
     },
     "execution_count": 272,
     "metadata": {},
     "output_type": "execute_result"
    }
   ],
   "source": [
    "netflix_shows.head()"
   ]
  },
  {
   "cell_type": "code",
   "execution_count": 273,
   "metadata": {},
   "outputs": [],
   "source": [
    "variables = netflix_shows.drop([0,1,2,'rating','is_adult','age','start_year', 'numVotes', 'startYear',\n",
    "                                'num_votes','rating_y','title','org_title','end_year',\n",
    "                                'runtime_min','genre','genres','successful'],axis = 1)"
   ]
  },
  {
   "cell_type": "code",
   "execution_count": 274,
   "metadata": {},
   "outputs": [
    {
     "data": {
      "text/html": [
       "<div>\n",
       "<style scoped>\n",
       "    .dataframe tbody tr th:only-of-type {\n",
       "        vertical-align: middle;\n",
       "    }\n",
       "\n",
       "    .dataframe tbody tr th {\n",
       "        vertical-align: top;\n",
       "    }\n",
       "\n",
       "    .dataframe thead th {\n",
       "        text-align: right;\n",
       "    }\n",
       "</style>\n",
       "<table border=\"1\" class=\"dataframe\">\n",
       "  <thead>\n",
       "    <tr style=\"text-align: right;\">\n",
       "      <th></th>\n",
       "      <th>genre 1_Action</th>\n",
       "      <th>genre 1_Adventure</th>\n",
       "      <th>genre 1_Animation</th>\n",
       "      <th>genre 1_Biography</th>\n",
       "      <th>genre 1_Comedy</th>\n",
       "      <th>genre 1_Crime</th>\n",
       "      <th>genre 1_Drama</th>\n",
       "      <th>genre 2_Adventure</th>\n",
       "      <th>genre 2_Animation</th>\n",
       "      <th>genre 2_Comedy</th>\n",
       "      <th>...</th>\n",
       "      <th>NR</th>\n",
       "      <th>PG</th>\n",
       "      <th>PG-13</th>\n",
       "      <th>TV-14</th>\n",
       "      <th>TV-G</th>\n",
       "      <th>TV-MA</th>\n",
       "      <th>TV-PG</th>\n",
       "      <th>TV-Y</th>\n",
       "      <th>TV-Y7</th>\n",
       "      <th>TV-Y7-FV</th>\n",
       "    </tr>\n",
       "  </thead>\n",
       "  <tbody>\n",
       "    <tr>\n",
       "      <th>4</th>\n",
       "      <td>0</td>\n",
       "      <td>0</td>\n",
       "      <td>0</td>\n",
       "      <td>0</td>\n",
       "      <td>0</td>\n",
       "      <td>0</td>\n",
       "      <td>1</td>\n",
       "      <td>0</td>\n",
       "      <td>0</td>\n",
       "      <td>0</td>\n",
       "      <td>...</td>\n",
       "      <td>0</td>\n",
       "      <td>0</td>\n",
       "      <td>0</td>\n",
       "      <td>0</td>\n",
       "      <td>0</td>\n",
       "      <td>0</td>\n",
       "      <td>1</td>\n",
       "      <td>0</td>\n",
       "      <td>0</td>\n",
       "      <td>0</td>\n",
       "    </tr>\n",
       "    <tr>\n",
       "      <th>5</th>\n",
       "      <td>0</td>\n",
       "      <td>0</td>\n",
       "      <td>0</td>\n",
       "      <td>0</td>\n",
       "      <td>0</td>\n",
       "      <td>0</td>\n",
       "      <td>1</td>\n",
       "      <td>0</td>\n",
       "      <td>0</td>\n",
       "      <td>0</td>\n",
       "      <td>...</td>\n",
       "      <td>0</td>\n",
       "      <td>0</td>\n",
       "      <td>0</td>\n",
       "      <td>0</td>\n",
       "      <td>0</td>\n",
       "      <td>0</td>\n",
       "      <td>1</td>\n",
       "      <td>0</td>\n",
       "      <td>0</td>\n",
       "      <td>0</td>\n",
       "    </tr>\n",
       "    <tr>\n",
       "      <th>6</th>\n",
       "      <td>0</td>\n",
       "      <td>0</td>\n",
       "      <td>0</td>\n",
       "      <td>0</td>\n",
       "      <td>1</td>\n",
       "      <td>0</td>\n",
       "      <td>0</td>\n",
       "      <td>0</td>\n",
       "      <td>0</td>\n",
       "      <td>0</td>\n",
       "      <td>...</td>\n",
       "      <td>0</td>\n",
       "      <td>0</td>\n",
       "      <td>0</td>\n",
       "      <td>1</td>\n",
       "      <td>0</td>\n",
       "      <td>0</td>\n",
       "      <td>0</td>\n",
       "      <td>0</td>\n",
       "      <td>0</td>\n",
       "      <td>0</td>\n",
       "    </tr>\n",
       "    <tr>\n",
       "      <th>8</th>\n",
       "      <td>0</td>\n",
       "      <td>0</td>\n",
       "      <td>0</td>\n",
       "      <td>0</td>\n",
       "      <td>0</td>\n",
       "      <td>1</td>\n",
       "      <td>0</td>\n",
       "      <td>0</td>\n",
       "      <td>0</td>\n",
       "      <td>0</td>\n",
       "      <td>...</td>\n",
       "      <td>0</td>\n",
       "      <td>0</td>\n",
       "      <td>0</td>\n",
       "      <td>1</td>\n",
       "      <td>0</td>\n",
       "      <td>0</td>\n",
       "      <td>0</td>\n",
       "      <td>0</td>\n",
       "      <td>0</td>\n",
       "      <td>0</td>\n",
       "    </tr>\n",
       "    <tr>\n",
       "      <th>9</th>\n",
       "      <td>0</td>\n",
       "      <td>0</td>\n",
       "      <td>0</td>\n",
       "      <td>0</td>\n",
       "      <td>0</td>\n",
       "      <td>1</td>\n",
       "      <td>0</td>\n",
       "      <td>0</td>\n",
       "      <td>0</td>\n",
       "      <td>0</td>\n",
       "      <td>...</td>\n",
       "      <td>0</td>\n",
       "      <td>0</td>\n",
       "      <td>0</td>\n",
       "      <td>1</td>\n",
       "      <td>0</td>\n",
       "      <td>0</td>\n",
       "      <td>0</td>\n",
       "      <td>0</td>\n",
       "      <td>0</td>\n",
       "      <td>0</td>\n",
       "    </tr>\n",
       "  </tbody>\n",
       "</table>\n",
       "<p>5 rows × 46 columns</p>\n",
       "</div>"
      ],
      "text/plain": [
       "   genre 1_Action  genre 1_Adventure  genre 1_Animation  genre 1_Biography  \\\n",
       "4               0                  0                  0                  0   \n",
       "5               0                  0                  0                  0   \n",
       "6               0                  0                  0                  0   \n",
       "8               0                  0                  0                  0   \n",
       "9               0                  0                  0                  0   \n",
       "\n",
       "   genre 1_Comedy  genre 1_Crime  genre 1_Drama  genre 2_Adventure  \\\n",
       "4               0              0              1                  0   \n",
       "5               0              0              1                  0   \n",
       "6               1              0              0                  0   \n",
       "8               0              1              0                  0   \n",
       "9               0              1              0                  0   \n",
       "\n",
       "   genre 2_Animation  genre 2_Comedy  ...  NR  PG  PG-13  TV-14  TV-G  TV-MA  \\\n",
       "4                  0               0  ...   0   0      0      0     0      0   \n",
       "5                  0               0  ...   0   0      0      0     0      0   \n",
       "6                  0               0  ...   0   0      0      1     0      0   \n",
       "8                  0               0  ...   0   0      0      1     0      0   \n",
       "9                  0               0  ...   0   0      0      1     0      0   \n",
       "\n",
       "   TV-PG  TV-Y  TV-Y7  TV-Y7-FV  \n",
       "4      1     0      0         0  \n",
       "5      1     0      0         0  \n",
       "6      0     0      0         0  \n",
       "8      0     0      0         0  \n",
       "9      0     0      0         0  \n",
       "\n",
       "[5 rows x 46 columns]"
      ]
     },
     "execution_count": 274,
     "metadata": {},
     "output_type": "execute_result"
    }
   ],
   "source": [
    "variables.head()"
   ]
  },
  {
   "cell_type": "code",
   "execution_count": 275,
   "metadata": {},
   "outputs": [],
   "source": [
    "netflix_model = LogisticRegression().fit(variables, netflix_shows['successful'])\n",
    "scores = cross_val_score(netflix_model,variables,netflix_shows['successful'], cv= 5)"
   ]
  },
  {
   "cell_type": "code",
   "execution_count": 276,
   "metadata": {},
   "outputs": [
    {
     "name": "stdout",
     "output_type": "stream",
     "text": [
      "Mean cross validation score: 0.805\n",
      "Scikit-learn r^2 score: 0.905\n"
     ]
    }
   ],
   "source": [
    "print(\"Mean cross validation score: {:.3f}\".format(scores.mean()))\n",
    "score = netflix_model.score(variables, netflix_shows['successful'])\n",
    "print('Scikit-learn r^2 score: {:.3f}'.format(score))"
   ]
  },
  {
   "cell_type": "code",
   "execution_count": 277,
   "metadata": {},
   "outputs": [
    {
     "name": "stdout",
     "output_type": "stream",
     "text": [
      "Coefficients:\n",
      "genre 1_Action: 0.61243\n",
      "genre 1_Adventure: -0.88268\n",
      "genre 1_Animation: 0.18007\n",
      "genre 1_Biography: 0.12898\n",
      "genre 1_Comedy: -1.24165\n",
      "genre 1_Crime: 0.76048\n",
      "genre 1_Drama: 0.44236\n",
      "genre 2_Adventure: -0.53202\n",
      "genre 2_Animation: -0.86909\n",
      "genre 2_Comedy: 0.18007\n",
      "genre 2_Crime: 0.89730\n",
      "genre 2_Drama: -0.78857\n",
      "genre 2_Family: 0.11271\n",
      "genre 2_Fantasy: 0.01274\n",
      "genre 2_Horror: 0.36605\n",
      "genre 2_Music: 0.13605\n",
      "genre 2_Mystery: 0.18652\n",
      "genre 2_Romance: 0.19393\n",
      "genre 2_Sci-Fi: 0.10427\n",
      "genre 3_Animation: -0.86358\n",
      "genre 3_Comedy: -0.48329\n",
      "genre 3_Crime: 0.19823\n",
      "genre 3_Drama: 1.03063\n",
      "genre 3_Family: -0.37691\n",
      "genre 3_Fantasy: 0.39450\n",
      "genre 3_History: 0.11085\n",
      "genre 3_Horror: 0.14482\n",
      "genre 3_Music: -1.01016\n",
      "genre 3_Musical: 0.13605\n",
      "genre 3_Mystery: -0.17048\n",
      "genre 3_Romance: 0.25103\n",
      "genre 3_Sci-Fi: 0.29747\n",
      "genre 3_Sport: 0.12684\n",
      "genre 3_Thriller: 0.14689\n",
      "genre 3_War: 0.06709\n",
      "G: 0.48918\n",
      "NR: 0.15997\n",
      "PG: -0.48614\n",
      "PG-13: 0.14665\n",
      "TV-14: 0.13982\n",
      "TV-G: -1.00966\n",
      "TV-MA: 0.84293\n",
      "TV-PG: 0.16650\n",
      "TV-Y: -1.09254\n",
      "TV-Y7: 0.08548\n",
      "TV-Y7-FV: 0.55780\n"
     ]
    }
   ],
   "source": [
    "c = netflix_model.coef_\n",
    "v = variables.columns.tolist()\n",
    "print('Coefficients:')\n",
    "for i in range(0,len(v)):\n",
    "    print('{}: {:.5f}'.format(v[i],netflix_model.coef_[0][i]))"
   ]
  },
  {
   "cell_type": "markdown",
   "metadata": {},
   "source": [
    "## Analyzing age ratings and genres"
   ]
  },
  {
   "cell_type": "code",
   "execution_count": 278,
   "metadata": {},
   "outputs": [],
   "source": [
    "age_rating = netflix_shows['age'].unique()\n",
    "genres = []"
   ]
  },
  {
   "cell_type": "code",
   "execution_count": 279,
   "metadata": {},
   "outputs": [],
   "source": [
    "co = netflix_model.coef_[0].tolist()\n",
    "v = variables.columns.tolist()\n",
    "netflix_co = pd.DataFrame({'variables': v, 'coefficient': co})\n",
    "netflix_co_genres =  netflix_co[~netflix_co['variables'].isin(age_rating)]\n",
    "netflix_co_age =  netflix_co[netflix_co['variables'].isin(age_rating)]"
   ]
  },
  {
   "cell_type": "code",
   "execution_count": 280,
   "metadata": {},
   "outputs": [
    {
     "data": {
      "application/vnd.jupyter.widget-view+json": {
       "model_id": "a9f262e0f1a24ff9b90591ef7dc2945c",
       "version_major": 2,
       "version_minor": 0
      },
      "text/plain": [
       "Pandas Apply:   0%|          | 0/35 [00:00<?, ?it/s]"
      ]
     },
     "metadata": {},
     "output_type": "display_data"
    },
    {
     "data": {
      "text/html": [
       "<div>\n",
       "<style scoped>\n",
       "    .dataframe tbody tr th:only-of-type {\n",
       "        vertical-align: middle;\n",
       "    }\n",
       "\n",
       "    .dataframe tbody tr th {\n",
       "        vertical-align: top;\n",
       "    }\n",
       "\n",
       "    .dataframe thead th {\n",
       "        text-align: right;\n",
       "    }\n",
       "</style>\n",
       "<table border=\"1\" class=\"dataframe\">\n",
       "  <thead>\n",
       "    <tr style=\"text-align: right;\">\n",
       "      <th></th>\n",
       "      <th>0</th>\n",
       "      <th>1</th>\n",
       "      <th>variables</th>\n",
       "      <th>coefficient</th>\n",
       "      <th>genre</th>\n",
       "    </tr>\n",
       "  </thead>\n",
       "  <tbody>\n",
       "    <tr>\n",
       "      <th>0</th>\n",
       "      <td>genre 1</td>\n",
       "      <td>Action</td>\n",
       "      <td>genre 1_Action</td>\n",
       "      <td>0.612427</td>\n",
       "      <td>[genre 1, Action]</td>\n",
       "    </tr>\n",
       "    <tr>\n",
       "      <th>1</th>\n",
       "      <td>genre 1</td>\n",
       "      <td>Adventure</td>\n",
       "      <td>genre 1_Adventure</td>\n",
       "      <td>-0.882679</td>\n",
       "      <td>[genre 1, Adventure]</td>\n",
       "    </tr>\n",
       "    <tr>\n",
       "      <th>2</th>\n",
       "      <td>genre 1</td>\n",
       "      <td>Animation</td>\n",
       "      <td>genre 1_Animation</td>\n",
       "      <td>0.180066</td>\n",
       "      <td>[genre 1, Animation]</td>\n",
       "    </tr>\n",
       "    <tr>\n",
       "      <th>3</th>\n",
       "      <td>genre 1</td>\n",
       "      <td>Biography</td>\n",
       "      <td>genre 1_Biography</td>\n",
       "      <td>0.128977</td>\n",
       "      <td>[genre 1, Biography]</td>\n",
       "    </tr>\n",
       "    <tr>\n",
       "      <th>4</th>\n",
       "      <td>genre 1</td>\n",
       "      <td>Comedy</td>\n",
       "      <td>genre 1_Comedy</td>\n",
       "      <td>-1.241655</td>\n",
       "      <td>[genre 1, Comedy]</td>\n",
       "    </tr>\n",
       "  </tbody>\n",
       "</table>\n",
       "</div>"
      ],
      "text/plain": [
       "         0          1          variables  coefficient                 genre\n",
       "0  genre 1     Action     genre 1_Action     0.612427     [genre 1, Action]\n",
       "1  genre 1  Adventure  genre 1_Adventure    -0.882679  [genre 1, Adventure]\n",
       "2  genre 1  Animation  genre 1_Animation     0.180066  [genre 1, Animation]\n",
       "3  genre 1  Biography  genre 1_Biography     0.128977  [genre 1, Biography]\n",
       "4  genre 1     Comedy     genre 1_Comedy    -1.241655     [genre 1, Comedy]"
      ]
     },
     "execution_count": 280,
     "metadata": {},
     "output_type": "execute_result"
    }
   ],
   "source": [
    "netflix_co_genres = netflix_co_genres.assign(genre=netflix_co_genres.variables.str.split(\"_\"))\n",
    "netflix_co_genres = netflix_co_genres.genre.swifter.apply(pd.Series).merge(netflix_co_genres, right_index = True, left_index = True)\n",
    "netflix_co_genres.head()"
   ]
  },
  {
   "cell_type": "code",
   "execution_count": 281,
   "metadata": {},
   "outputs": [],
   "source": [
    "genres = netflix_co_genres[1].unique()\n",
    "mean_sig = genres.copy()\n",
    "for i in range(0, len(genres)):\n",
    "    coe =  netflix_co_genres[netflix_co_genres[1] == genres[i]]\n",
    "    mean_sig[i] =(coe['coefficient'].mean())"
   ]
  },
  {
   "cell_type": "code",
   "execution_count": 282,
   "metadata": {},
   "outputs": [
    {
     "data": {
      "image/png": "[encoded data removed]",
      "text/plain": [
       "<Figure size 921.6x633.6 with 1 Axes>"
      ]
     },
     "metadata": {
      "needs_background": "light"
     },
     "output_type": "display_data"
    }
   ],
   "source": [
    "sigs = pd.DataFrame({'genres': genres, 'coefficient': mean_sig})\n",
    "sigs = sigs.sort_values(by = 'coefficient', ascending = False)\n",
    "sigs.plot.barh('genres','coefficient', color='lightblue')\n",
    "plt.title(\"Genres and Age Ratings: Effect on Success\")\n",
    "plt.show()"
   ]
  },
  {
   "cell_type": "markdown",
   "metadata": {},
   "source": [
    "### Predicting Success of Movies Based on Ratings\n",
    "We will now use the rating of the movie as our definition of success and see if these variables can predict a movie's success well based on this classification by utilizing logistic regression.\n",
    "\n",
    "**We are using left merge because we need to ensure that every movie has the rating column.**\n",
    "\n",
    "First we will take all movies that have a rating attribute and give it a new column of *successful* if the average rating is over 7 — as we have done earlier based off of the information the histogram in Question 1 showed us."
   ]
  },
  {
   "cell_type": "code",
   "execution_count": 308,
   "metadata": {},
   "outputs": [],
   "source": [
    "movie_ratings = imdb_movies"
   ]
  },
  {
   "cell_type": "code",
   "execution_count": 309,
   "metadata": {},
   "outputs": [
    {
     "data": {
      "text/html": [
       "<div>\n",
       "<style scoped>\n",
       "    .dataframe tbody tr th:only-of-type {\n",
       "        vertical-align: middle;\n",
       "    }\n",
       "\n",
       "    .dataframe tbody tr th {\n",
       "        vertical-align: top;\n",
       "    }\n",
       "\n",
       "    .dataframe thead th {\n",
       "        text-align: right;\n",
       "    }\n",
       "</style>\n",
       "<table border=\"1\" class=\"dataframe\">\n",
       "  <thead>\n",
       "    <tr style=\"text-align: right;\">\n",
       "      <th></th>\n",
       "      <th>rating</th>\n",
       "      <th>num_votes</th>\n",
       "      <th>title</th>\n",
       "      <th>org_title</th>\n",
       "      <th>is_adult</th>\n",
       "      <th>start_year</th>\n",
       "      <th>end_year</th>\n",
       "      <th>runtime_min</th>\n",
       "      <th>genre_x</th>\n",
       "      <th>production_year</th>\n",
       "      <th>...</th>\n",
       "      <th>production_budget</th>\n",
       "      <th>domestic_box_office</th>\n",
       "      <th>international_box_office</th>\n",
       "      <th>age_rating</th>\n",
       "      <th>creative_type</th>\n",
       "      <th>source</th>\n",
       "      <th>production_method</th>\n",
       "      <th>genre_y</th>\n",
       "      <th>sequel</th>\n",
       "      <th>running_time</th>\n",
       "    </tr>\n",
       "  </thead>\n",
       "  <tbody>\n",
       "    <tr>\n",
       "      <th>0</th>\n",
       "      <td>4.0</td>\n",
       "      <td>49.0</td>\n",
       "      <td>Deliver Us from Evil</td>\n",
       "      <td>Captured Alive</td>\n",
       "      <td>0</td>\n",
       "      <td>1997</td>\n",
       "      <td>\\N</td>\n",
       "      <td>90</td>\n",
       "      <td>Action</td>\n",
       "      <td>2014</td>\n",
       "      <td>...</td>\n",
       "      <td>30000000</td>\n",
       "      <td>30577122</td>\n",
       "      <td>57379496</td>\n",
       "      <td>R</td>\n",
       "      <td>Fantasy</td>\n",
       "      <td>Based on Factual Book/Article</td>\n",
       "      <td>Live Action</td>\n",
       "      <td>Horror</td>\n",
       "      <td>0.0</td>\n",
       "      <td>118.0</td>\n",
       "    </tr>\n",
       "    <tr>\n",
       "      <th>1</th>\n",
       "      <td>7.9</td>\n",
       "      <td>10188.0</td>\n",
       "      <td>Deliver Us from Evil</td>\n",
       "      <td>Deliver Us from Evil</td>\n",
       "      <td>0</td>\n",
       "      <td>2006</td>\n",
       "      <td>\\N</td>\n",
       "      <td>101</td>\n",
       "      <td>Crime,Documentary</td>\n",
       "      <td>2014</td>\n",
       "      <td>...</td>\n",
       "      <td>30000000</td>\n",
       "      <td>30577122</td>\n",
       "      <td>57379496</td>\n",
       "      <td>R</td>\n",
       "      <td>Fantasy</td>\n",
       "      <td>Based on Factual Book/Article</td>\n",
       "      <td>Live Action</td>\n",
       "      <td>Horror</td>\n",
       "      <td>0.0</td>\n",
       "      <td>118.0</td>\n",
       "    </tr>\n",
       "    <tr>\n",
       "      <th>2</th>\n",
       "      <td>6.6</td>\n",
       "      <td>16.0</td>\n",
       "      <td>Deliver Us from Evil</td>\n",
       "      <td>Deliver Us from Evil</td>\n",
       "      <td>0</td>\n",
       "      <td>2008</td>\n",
       "      <td>\\N</td>\n",
       "      <td>48</td>\n",
       "      <td>Documentary</td>\n",
       "      <td>2014</td>\n",
       "      <td>...</td>\n",
       "      <td>30000000</td>\n",
       "      <td>30577122</td>\n",
       "      <td>57379496</td>\n",
       "      <td>R</td>\n",
       "      <td>Fantasy</td>\n",
       "      <td>Based on Factual Book/Article</td>\n",
       "      <td>Live Action</td>\n",
       "      <td>Horror</td>\n",
       "      <td>0.0</td>\n",
       "      <td>118.0</td>\n",
       "    </tr>\n",
       "    <tr>\n",
       "      <th>3</th>\n",
       "      <td>6.2</td>\n",
       "      <td>74196.0</td>\n",
       "      <td>Deliver Us from Evil</td>\n",
       "      <td>Deliver Us from Evil</td>\n",
       "      <td>0</td>\n",
       "      <td>2014</td>\n",
       "      <td>\\N</td>\n",
       "      <td>118</td>\n",
       "      <td>Crime,Drama,Fantasy</td>\n",
       "      <td>2014</td>\n",
       "      <td>...</td>\n",
       "      <td>30000000</td>\n",
       "      <td>30577122</td>\n",
       "      <td>57379496</td>\n",
       "      <td>R</td>\n",
       "      <td>Fantasy</td>\n",
       "      <td>Based on Factual Book/Article</td>\n",
       "      <td>Live Action</td>\n",
       "      <td>Horror</td>\n",
       "      <td>0.0</td>\n",
       "      <td>118.0</td>\n",
       "    </tr>\n",
       "    <tr>\n",
       "      <th>4</th>\n",
       "      <td>6.8</td>\n",
       "      <td>5882.0</td>\n",
       "      <td>Drive</td>\n",
       "      <td>Drive</td>\n",
       "      <td>0</td>\n",
       "      <td>1997</td>\n",
       "      <td>\\N</td>\n",
       "      <td>100</td>\n",
       "      <td>Action,Adventure,Comedy</td>\n",
       "      <td>2011</td>\n",
       "      <td>...</td>\n",
       "      <td>15000000</td>\n",
       "      <td>35060689</td>\n",
       "      <td>46297241</td>\n",
       "      <td>R</td>\n",
       "      <td>Contemporary Fiction</td>\n",
       "      <td>Based on Fiction Book/Short Story</td>\n",
       "      <td>Live Action</td>\n",
       "      <td>Action</td>\n",
       "      <td>0.0</td>\n",
       "      <td>100.0</td>\n",
       "    </tr>\n",
       "  </tbody>\n",
       "</table>\n",
       "<p>5 rows × 21 columns</p>\n",
       "</div>"
      ],
      "text/plain": [
       "   rating  num_votes                 title             org_title  is_adult  \\\n",
       "0     4.0       49.0  Deliver Us from Evil        Captured Alive         0   \n",
       "1     7.9    10188.0  Deliver Us from Evil  Deliver Us from Evil         0   \n",
       "2     6.6       16.0  Deliver Us from Evil  Deliver Us from Evil         0   \n",
       "3     6.2    74196.0  Deliver Us from Evil  Deliver Us from Evil         0   \n",
       "4     6.8     5882.0                 Drive                 Drive         0   \n",
       "\n",
       "   start_year end_year runtime_min                  genre_x  production_year  \\\n",
       "0        1997       \\N          90                   Action             2014   \n",
       "1        2006       \\N         101        Crime,Documentary             2014   \n",
       "2        2008       \\N          48              Documentary             2014   \n",
       "3        2014       \\N         118      Crime,Drama,Fantasy             2014   \n",
       "4        1997       \\N         100  Action,Adventure,Comedy             2011   \n",
       "\n",
       "   ...  production_budget  domestic_box_office  international_box_office  \\\n",
       "0  ...           30000000             30577122                  57379496   \n",
       "1  ...           30000000             30577122                  57379496   \n",
       "2  ...           30000000             30577122                  57379496   \n",
       "3  ...           30000000             30577122                  57379496   \n",
       "4  ...           15000000             35060689                  46297241   \n",
       "\n",
       "   age_rating         creative_type                             source  \\\n",
       "0           R               Fantasy      Based on Factual Book/Article   \n",
       "1           R               Fantasy      Based on Factual Book/Article   \n",
       "2           R               Fantasy      Based on Factual Book/Article   \n",
       "3           R               Fantasy      Based on Factual Book/Article   \n",
       "4           R  Contemporary Fiction  Based on Fiction Book/Short Story   \n",
       "\n",
       "  production_method genre_y sequel  running_time  \n",
       "0       Live Action  Horror    0.0         118.0  \n",
       "1       Live Action  Horror    0.0         118.0  \n",
       "2       Live Action  Horror    0.0         118.0  \n",
       "3       Live Action  Horror    0.0         118.0  \n",
       "4       Live Action  Action    0.0         100.0  \n",
       "\n",
       "[5 rows x 21 columns]"
      ]
     },
     "execution_count": 309,
     "metadata": {},
     "output_type": "execute_result"
    }
   ],
   "source": [
    "movies_log_data = movie_ratings.merge(movies,on = 'title', how = 'inner')\n",
    "movies_log_data.head()"
   ]
  },
  {
   "cell_type": "code",
   "execution_count": 310,
   "metadata": {},
   "outputs": [],
   "source": [
    "# dropping unnecessary columns\n",
    "variables = movies_log_data.drop(['genre_x','genre_y','runtime_min', 'age_rating', 'rating',\n",
    "                                  'end_year','org_title','num_votes','title','movie_odid',\n",
    "                                  'source','creative_type','running_time','production_method','start_year'], axis = 1)"
   ]
  },
  {
   "cell_type": "code",
   "execution_count": 405,
   "metadata": {},
   "outputs": [
    {
     "data": {
      "text/html": [
       "<div>\n",
       "<style scoped>\n",
       "    .dataframe tbody tr th:only-of-type {\n",
       "        vertical-align: middle;\n",
       "    }\n",
       "\n",
       "    .dataframe tbody tr th {\n",
       "        vertical-align: top;\n",
       "    }\n",
       "\n",
       "    .dataframe thead th {\n",
       "        text-align: right;\n",
       "    }\n",
       "</style>\n",
       "<table border=\"1\" class=\"dataframe\">\n",
       "  <thead>\n",
       "    <tr style=\"text-align: right;\">\n",
       "      <th></th>\n",
       "      <th>is_adult</th>\n",
       "      <th>start_year</th>\n",
       "      <th>Action</th>\n",
       "      <th>Adult</th>\n",
       "      <th>Adventure</th>\n",
       "      <th>Animation</th>\n",
       "      <th>Biography</th>\n",
       "      <th>Comedy</th>\n",
       "      <th>Crime</th>\n",
       "      <th>Documentary</th>\n",
       "      <th>...</th>\n",
       "      <th>News</th>\n",
       "      <th>Reality-TV</th>\n",
       "      <th>Romance</th>\n",
       "      <th>Sci-Fi</th>\n",
       "      <th>Short</th>\n",
       "      <th>Sport</th>\n",
       "      <th>Talk-Show</th>\n",
       "      <th>Thriller</th>\n",
       "      <th>War</th>\n",
       "      <th>Western</th>\n",
       "    </tr>\n",
       "  </thead>\n",
       "  <tbody>\n",
       "    <tr>\n",
       "      <th>0</th>\n",
       "      <td>0</td>\n",
       "      <td>2000</td>\n",
       "      <td>1</td>\n",
       "      <td>0</td>\n",
       "      <td>0</td>\n",
       "      <td>0</td>\n",
       "      <td>0</td>\n",
       "      <td>0</td>\n",
       "      <td>0</td>\n",
       "      <td>0</td>\n",
       "      <td>...</td>\n",
       "      <td>0</td>\n",
       "      <td>0</td>\n",
       "      <td>0</td>\n",
       "      <td>0</td>\n",
       "      <td>0</td>\n",
       "      <td>0</td>\n",
       "      <td>0</td>\n",
       "      <td>0</td>\n",
       "      <td>0</td>\n",
       "      <td>0</td>\n",
       "    </tr>\n",
       "    <tr>\n",
       "      <th>1</th>\n",
       "      <td>0</td>\n",
       "      <td>1997</td>\n",
       "      <td>1</td>\n",
       "      <td>0</td>\n",
       "      <td>0</td>\n",
       "      <td>0</td>\n",
       "      <td>0</td>\n",
       "      <td>0</td>\n",
       "      <td>0</td>\n",
       "      <td>0</td>\n",
       "      <td>...</td>\n",
       "      <td>0</td>\n",
       "      <td>0</td>\n",
       "      <td>0</td>\n",
       "      <td>0</td>\n",
       "      <td>0</td>\n",
       "      <td>0</td>\n",
       "      <td>0</td>\n",
       "      <td>0</td>\n",
       "      <td>0</td>\n",
       "      <td>0</td>\n",
       "    </tr>\n",
       "    <tr>\n",
       "      <th>2</th>\n",
       "      <td>0</td>\n",
       "      <td>1998</td>\n",
       "      <td>0</td>\n",
       "      <td>0</td>\n",
       "      <td>0</td>\n",
       "      <td>0</td>\n",
       "      <td>0</td>\n",
       "      <td>1</td>\n",
       "      <td>0</td>\n",
       "      <td>0</td>\n",
       "      <td>...</td>\n",
       "      <td>0</td>\n",
       "      <td>0</td>\n",
       "      <td>0</td>\n",
       "      <td>0</td>\n",
       "      <td>0</td>\n",
       "      <td>0</td>\n",
       "      <td>0</td>\n",
       "      <td>0</td>\n",
       "      <td>0</td>\n",
       "      <td>0</td>\n",
       "    </tr>\n",
       "    <tr>\n",
       "      <th>3</th>\n",
       "      <td>0</td>\n",
       "      <td>1997</td>\n",
       "      <td>0</td>\n",
       "      <td>0</td>\n",
       "      <td>0</td>\n",
       "      <td>0</td>\n",
       "      <td>0</td>\n",
       "      <td>0</td>\n",
       "      <td>0</td>\n",
       "      <td>0</td>\n",
       "      <td>...</td>\n",
       "      <td>0</td>\n",
       "      <td>0</td>\n",
       "      <td>0</td>\n",
       "      <td>0</td>\n",
       "      <td>0</td>\n",
       "      <td>0</td>\n",
       "      <td>0</td>\n",
       "      <td>0</td>\n",
       "      <td>0</td>\n",
       "      <td>0</td>\n",
       "    </tr>\n",
       "    <tr>\n",
       "      <th>4</th>\n",
       "      <td>0</td>\n",
       "      <td>1997</td>\n",
       "      <td>0</td>\n",
       "      <td>0</td>\n",
       "      <td>0</td>\n",
       "      <td>0</td>\n",
       "      <td>0</td>\n",
       "      <td>0</td>\n",
       "      <td>0</td>\n",
       "      <td>0</td>\n",
       "      <td>...</td>\n",
       "      <td>0</td>\n",
       "      <td>0</td>\n",
       "      <td>0</td>\n",
       "      <td>0</td>\n",
       "      <td>0</td>\n",
       "      <td>0</td>\n",
       "      <td>0</td>\n",
       "      <td>0</td>\n",
       "      <td>0</td>\n",
       "      <td>0</td>\n",
       "    </tr>\n",
       "  </tbody>\n",
       "</table>\n",
       "<p>5 rows × 29 columns</p>\n",
       "</div>"
      ],
      "text/plain": [
       "   is_adult  start_year  Action  Adult  Adventure  Animation  Biography  \\\n",
       "0         0        2000       1      0          0          0          0   \n",
       "1         0        1997       1      0          0          0          0   \n",
       "2         0        1998       0      0          0          0          0   \n",
       "3         0        1997       0      0          0          0          0   \n",
       "4         0        1997       0      0          0          0          0   \n",
       "\n",
       "   Comedy  Crime  Documentary  ...  News  Reality-TV  Romance  Sci-Fi  Short  \\\n",
       "0       0      0            0  ...     0           0        0       0      0   \n",
       "1       0      0            0  ...     0           0        0       0      0   \n",
       "2       1      0            0  ...     0           0        0       0      0   \n",
       "3       0      0            0  ...     0           0        0       0      0   \n",
       "4       0      0            0  ...     0           0        0       0      0   \n",
       "\n",
       "   Sport  Talk-Show  Thriller  War  Western  \n",
       "0      0          0         0    0        0  \n",
       "1      0          0         0    0        0  \n",
       "2      0          0         0    0        0  \n",
       "3      0          0         0    0        0  \n",
       "4      0          0         0    0        0  \n",
       "\n",
       "[5 rows x 29 columns]"
      ]
     },
     "execution_count": 405,
     "metadata": {},
     "output_type": "execute_result"
    }
   ],
   "source": [
    "variables.head()"
   ]
  },
  {
   "cell_type": "code",
   "execution_count": 312,
   "metadata": {},
   "outputs": [
    {
     "data": {
      "text/html": [
       "<div>\n",
       "<style scoped>\n",
       "    .dataframe tbody tr th:only-of-type {\n",
       "        vertical-align: middle;\n",
       "    }\n",
       "\n",
       "    .dataframe tbody tr th {\n",
       "        vertical-align: top;\n",
       "    }\n",
       "\n",
       "    .dataframe thead th {\n",
       "        text-align: right;\n",
       "    }\n",
       "</style>\n",
       "<table border=\"1\" class=\"dataframe\">\n",
       "  <thead>\n",
       "    <tr style=\"text-align: right;\">\n",
       "      <th></th>\n",
       "      <th>rating</th>\n",
       "      <th>num_votes</th>\n",
       "      <th>title</th>\n",
       "      <th>org_title</th>\n",
       "      <th>is_adult</th>\n",
       "      <th>start_year</th>\n",
       "      <th>end_year</th>\n",
       "      <th>runtime_min</th>\n",
       "      <th>genre_x</th>\n",
       "      <th>production_year</th>\n",
       "      <th>...</th>\n",
       "      <th>domestic_box_office</th>\n",
       "      <th>international_box_office</th>\n",
       "      <th>age_rating</th>\n",
       "      <th>creative_type</th>\n",
       "      <th>source</th>\n",
       "      <th>production_method</th>\n",
       "      <th>genre_y</th>\n",
       "      <th>sequel</th>\n",
       "      <th>running_time</th>\n",
       "      <th>successful</th>\n",
       "    </tr>\n",
       "  </thead>\n",
       "  <tbody>\n",
       "    <tr>\n",
       "      <th>0</th>\n",
       "      <td>4.0</td>\n",
       "      <td>49.0</td>\n",
       "      <td>Deliver Us from Evil</td>\n",
       "      <td>Captured Alive</td>\n",
       "      <td>0</td>\n",
       "      <td>1997</td>\n",
       "      <td>\\N</td>\n",
       "      <td>90</td>\n",
       "      <td>Action</td>\n",
       "      <td>2014</td>\n",
       "      <td>...</td>\n",
       "      <td>30577122</td>\n",
       "      <td>57379496</td>\n",
       "      <td>R</td>\n",
       "      <td>Fantasy</td>\n",
       "      <td>Based on Factual Book/Article</td>\n",
       "      <td>Live Action</td>\n",
       "      <td>Horror</td>\n",
       "      <td>0.0</td>\n",
       "      <td>118.0</td>\n",
       "      <td>False</td>\n",
       "    </tr>\n",
       "    <tr>\n",
       "      <th>1</th>\n",
       "      <td>7.9</td>\n",
       "      <td>10188.0</td>\n",
       "      <td>Deliver Us from Evil</td>\n",
       "      <td>Deliver Us from Evil</td>\n",
       "      <td>0</td>\n",
       "      <td>2006</td>\n",
       "      <td>\\N</td>\n",
       "      <td>101</td>\n",
       "      <td>Crime,Documentary</td>\n",
       "      <td>2014</td>\n",
       "      <td>...</td>\n",
       "      <td>30577122</td>\n",
       "      <td>57379496</td>\n",
       "      <td>R</td>\n",
       "      <td>Fantasy</td>\n",
       "      <td>Based on Factual Book/Article</td>\n",
       "      <td>Live Action</td>\n",
       "      <td>Horror</td>\n",
       "      <td>0.0</td>\n",
       "      <td>118.0</td>\n",
       "      <td>True</td>\n",
       "    </tr>\n",
       "    <tr>\n",
       "      <th>2</th>\n",
       "      <td>6.6</td>\n",
       "      <td>16.0</td>\n",
       "      <td>Deliver Us from Evil</td>\n",
       "      <td>Deliver Us from Evil</td>\n",
       "      <td>0</td>\n",
       "      <td>2008</td>\n",
       "      <td>\\N</td>\n",
       "      <td>48</td>\n",
       "      <td>Documentary</td>\n",
       "      <td>2014</td>\n",
       "      <td>...</td>\n",
       "      <td>30577122</td>\n",
       "      <td>57379496</td>\n",
       "      <td>R</td>\n",
       "      <td>Fantasy</td>\n",
       "      <td>Based on Factual Book/Article</td>\n",
       "      <td>Live Action</td>\n",
       "      <td>Horror</td>\n",
       "      <td>0.0</td>\n",
       "      <td>118.0</td>\n",
       "      <td>False</td>\n",
       "    </tr>\n",
       "    <tr>\n",
       "      <th>3</th>\n",
       "      <td>6.2</td>\n",
       "      <td>74196.0</td>\n",
       "      <td>Deliver Us from Evil</td>\n",
       "      <td>Deliver Us from Evil</td>\n",
       "      <td>0</td>\n",
       "      <td>2014</td>\n",
       "      <td>\\N</td>\n",
       "      <td>118</td>\n",
       "      <td>Crime,Drama,Fantasy</td>\n",
       "      <td>2014</td>\n",
       "      <td>...</td>\n",
       "      <td>30577122</td>\n",
       "      <td>57379496</td>\n",
       "      <td>R</td>\n",
       "      <td>Fantasy</td>\n",
       "      <td>Based on Factual Book/Article</td>\n",
       "      <td>Live Action</td>\n",
       "      <td>Horror</td>\n",
       "      <td>0.0</td>\n",
       "      <td>118.0</td>\n",
       "      <td>False</td>\n",
       "    </tr>\n",
       "    <tr>\n",
       "      <th>4</th>\n",
       "      <td>6.8</td>\n",
       "      <td>5882.0</td>\n",
       "      <td>Drive</td>\n",
       "      <td>Drive</td>\n",
       "      <td>0</td>\n",
       "      <td>1997</td>\n",
       "      <td>\\N</td>\n",
       "      <td>100</td>\n",
       "      <td>Action,Adventure,Comedy</td>\n",
       "      <td>2011</td>\n",
       "      <td>...</td>\n",
       "      <td>35060689</td>\n",
       "      <td>46297241</td>\n",
       "      <td>R</td>\n",
       "      <td>Contemporary Fiction</td>\n",
       "      <td>Based on Fiction Book/Short Story</td>\n",
       "      <td>Live Action</td>\n",
       "      <td>Action</td>\n",
       "      <td>0.0</td>\n",
       "      <td>100.0</td>\n",
       "      <td>False</td>\n",
       "    </tr>\n",
       "  </tbody>\n",
       "</table>\n",
       "<p>5 rows × 22 columns</p>\n",
       "</div>"
      ],
      "text/plain": [
       "   rating  num_votes                 title             org_title  is_adult  \\\n",
       "0     4.0       49.0  Deliver Us from Evil        Captured Alive         0   \n",
       "1     7.9    10188.0  Deliver Us from Evil  Deliver Us from Evil         0   \n",
       "2     6.6       16.0  Deliver Us from Evil  Deliver Us from Evil         0   \n",
       "3     6.2    74196.0  Deliver Us from Evil  Deliver Us from Evil         0   \n",
       "4     6.8     5882.0                 Drive                 Drive         0   \n",
       "\n",
       "   start_year end_year runtime_min                  genre_x  production_year  \\\n",
       "0        1997       \\N          90                   Action             2014   \n",
       "1        2006       \\N         101        Crime,Documentary             2014   \n",
       "2        2008       \\N          48              Documentary             2014   \n",
       "3        2014       \\N         118      Crime,Drama,Fantasy             2014   \n",
       "4        1997       \\N         100  Action,Adventure,Comedy             2011   \n",
       "\n",
       "   ...  domestic_box_office  international_box_office  age_rating  \\\n",
       "0  ...             30577122                  57379496           R   \n",
       "1  ...             30577122                  57379496           R   \n",
       "2  ...             30577122                  57379496           R   \n",
       "3  ...             30577122                  57379496           R   \n",
       "4  ...             35060689                  46297241           R   \n",
       "\n",
       "          creative_type                             source production_method  \\\n",
       "0               Fantasy      Based on Factual Book/Article       Live Action   \n",
       "1               Fantasy      Based on Factual Book/Article       Live Action   \n",
       "2               Fantasy      Based on Factual Book/Article       Live Action   \n",
       "3               Fantasy      Based on Factual Book/Article       Live Action   \n",
       "4  Contemporary Fiction  Based on Fiction Book/Short Story       Live Action   \n",
       "\n",
       "  genre_y sequel running_time  successful  \n",
       "0  Horror    0.0        118.0       False  \n",
       "1  Horror    0.0        118.0        True  \n",
       "2  Horror    0.0        118.0       False  \n",
       "3  Horror    0.0        118.0       False  \n",
       "4  Action    0.0        100.0       False  \n",
       "\n",
       "[5 rows x 22 columns]"
      ]
     },
     "execution_count": 312,
     "metadata": {},
     "output_type": "execute_result"
    }
   ],
   "source": [
    "# filtering to only look at successful movies\n",
    "movies_log_data['successful'] = movies_log_data['rating'] > 7\n",
    "movies_log_data.head()"
   ]
  },
  {
   "cell_type": "markdown",
   "metadata": {},
   "source": [
    "Next, we need to make the logistic regression model and check if these variables are good predictors of this definition of success."
   ]
  },
  {
   "cell_type": "code",
   "execution_count": 313,
   "metadata": {},
   "outputs": [
    {
     "name": "stdout",
     "output_type": "stream",
     "text": [
      "Coefficient:\n",
      "[[-5.89498573e-18 -5.48092698e-12 -5.48282439e-12 -2.52924718e-08\n",
      "   1.58600459e-09  5.41955943e-09 -3.18289865e-16]]\n",
      "Intercept:\n",
      "[-2.72553318e-15]\n"
     ]
    }
   ],
   "source": [
    "movie_rate_model = LogisticRegression().fit(variables, movies_log_data['successful'])\n",
    "print(\"Coefficient:\")\n",
    "print(movie_rate_model.coef_)\n",
    "print(\"Intercept:\")\n",
    "print(movie_rate_model.intercept_)"
   ]
  },
  {
   "cell_type": "code",
   "execution_count": 314,
   "metadata": {},
   "outputs": [
    {
     "name": "stdout",
     "output_type": "stream",
     "text": [
      "Scikit-learn r^2 score: 0.853\n"
     ]
    }
   ],
   "source": [
    "score = movie_rate_model.score(variables, movies_log_data['sequel'])\n",
    "print(f'Scikit-learn r^2 score: {score.round(3)}')"
   ]
  },
  {
   "cell_type": "markdown",
   "metadata": {},
   "source": [
    "With an $r^2$ score of 0.853, the model fits the data somewhat well and explains around 85% of the variability of the response data around the mean."
   ]
  },
  {
   "cell_type": "markdown",
   "metadata": {},
   "source": [
    "## Setting Up Data for a Linear Regression Model\n",
    "We will next be creating a linear regression model for the IMDB data to predict if a show is successful. We will attempt to predict the success of the show based on its genre and target age range."
   ]
  },
  {
   "cell_type": "code",
   "execution_count": 326,
   "metadata": {},
   "outputs": [],
   "source": [
    "imdb_shows['successful'] = imdb_shows['rating'] > 7"
   ]
  },
  {
   "cell_type": "code",
   "execution_count": 327,
   "metadata": {},
   "outputs": [],
   "source": [
    "linear_imdb = imdb_shows.assign(genres=imdb_shows.genre.str.split(\",\"))"
   ]
  },
  {
   "cell_type": "markdown",
   "metadata": {},
   "source": [
    "The `genre` column was initally a string, but we want to recongize each genre indiviually so each genre was split into seperate columns"
   ]
  },
  {
   "cell_type": "code",
   "execution_count": 328,
   "metadata": {},
   "outputs": [
    {
     "data": {
      "application/vnd.jupyter.widget-view+json": {
       "model_id": "0b47b26393f9488bb2c08fa065466c8d",
       "version_major": 2,
       "version_minor": 0
      },
      "text/plain": [
       "Pandas Apply:   0%|          | 0/27019 [00:00<?, ?it/s]"
      ]
     },
     "metadata": {},
     "output_type": "display_data"
    },
    {
     "data": {
      "text/html": [
       "<div>\n",
       "<style scoped>\n",
       "    .dataframe tbody tr th:only-of-type {\n",
       "        vertical-align: middle;\n",
       "    }\n",
       "\n",
       "    .dataframe tbody tr th {\n",
       "        vertical-align: top;\n",
       "    }\n",
       "\n",
       "    .dataframe thead th {\n",
       "        text-align: right;\n",
       "    }\n",
       "</style>\n",
       "<table border=\"1\" class=\"dataframe\">\n",
       "  <thead>\n",
       "    <tr style=\"text-align: right;\">\n",
       "      <th></th>\n",
       "      <th>0</th>\n",
       "      <th>1</th>\n",
       "      <th>2</th>\n",
       "      <th>rating</th>\n",
       "      <th>num_votes</th>\n",
       "      <th>title</th>\n",
       "      <th>org_title</th>\n",
       "      <th>is_adult</th>\n",
       "      <th>start_year</th>\n",
       "      <th>end_year</th>\n",
       "      <th>runtime_min</th>\n",
       "      <th>genre</th>\n",
       "      <th>successful</th>\n",
       "      <th>genres</th>\n",
       "    </tr>\n",
       "  </thead>\n",
       "  <tbody>\n",
       "    <tr>\n",
       "      <th>0</th>\n",
       "      <td>Action</td>\n",
       "      <td>Adventure</td>\n",
       "      <td>Animation</td>\n",
       "      <td>7.4</td>\n",
       "      <td>218.0</td>\n",
       "      <td>Saiyuki</td>\n",
       "      <td>Gensomaden Saiyuki</td>\n",
       "      <td>0</td>\n",
       "      <td>2000</td>\n",
       "      <td>2001</td>\n",
       "      <td>23</td>\n",
       "      <td>Action,Adventure,Animation</td>\n",
       "      <td>True</td>\n",
       "      <td>[Action, Adventure, Animation]</td>\n",
       "    </tr>\n",
       "    <tr>\n",
       "      <th>1</th>\n",
       "      <td>Action</td>\n",
       "      <td>Adventure</td>\n",
       "      <td>NaN</td>\n",
       "      <td>6.3</td>\n",
       "      <td>665.0</td>\n",
       "      <td>The New Adventures of Robin Hood</td>\n",
       "      <td>The New Adventures of Robin Hood</td>\n",
       "      <td>0</td>\n",
       "      <td>1997</td>\n",
       "      <td>1999</td>\n",
       "      <td>54</td>\n",
       "      <td>Action,Adventure</td>\n",
       "      <td>False</td>\n",
       "      <td>[Action, Adventure]</td>\n",
       "    </tr>\n",
       "    <tr>\n",
       "      <th>2</th>\n",
       "      <td>Comedy</td>\n",
       "      <td>NaN</td>\n",
       "      <td>NaN</td>\n",
       "      <td>8.2</td>\n",
       "      <td>48.0</td>\n",
       "      <td>Style &amp; Substance</td>\n",
       "      <td>Style &amp; Substance</td>\n",
       "      <td>0</td>\n",
       "      <td>1998</td>\n",
       "      <td>1998</td>\n",
       "      <td>30</td>\n",
       "      <td>Comedy</td>\n",
       "      <td>True</td>\n",
       "      <td>[Comedy]</td>\n",
       "    </tr>\n",
       "    <tr>\n",
       "      <th>3</th>\n",
       "      <td>Drama</td>\n",
       "      <td>NaN</td>\n",
       "      <td>NaN</td>\n",
       "      <td>6.1</td>\n",
       "      <td>83.0</td>\n",
       "      <td>413 Hope St.</td>\n",
       "      <td>413 Hope St.</td>\n",
       "      <td>0</td>\n",
       "      <td>1997</td>\n",
       "      <td>1998</td>\n",
       "      <td>60</td>\n",
       "      <td>Drama</td>\n",
       "      <td>False</td>\n",
       "      <td>[Drama]</td>\n",
       "    </tr>\n",
       "    <tr>\n",
       "      <th>4</th>\n",
       "      <td>Family</td>\n",
       "      <td>NaN</td>\n",
       "      <td>NaN</td>\n",
       "      <td>6.8</td>\n",
       "      <td>11.0</td>\n",
       "      <td>The All New Captain Kangaroo</td>\n",
       "      <td>The All New Captain Kangaroo</td>\n",
       "      <td>0</td>\n",
       "      <td>1997</td>\n",
       "      <td>\\N</td>\n",
       "      <td>\\N</td>\n",
       "      <td>Family</td>\n",
       "      <td>False</td>\n",
       "      <td>[Family]</td>\n",
       "    </tr>\n",
       "  </tbody>\n",
       "</table>\n",
       "</div>"
      ],
      "text/plain": [
       "        0          1          2  rating  num_votes  \\\n",
       "0  Action  Adventure  Animation     7.4      218.0   \n",
       "1  Action  Adventure        NaN     6.3      665.0   \n",
       "2  Comedy        NaN        NaN     8.2       48.0   \n",
       "3   Drama        NaN        NaN     6.1       83.0   \n",
       "4  Family        NaN        NaN     6.8       11.0   \n",
       "\n",
       "                              title                         org_title  \\\n",
       "0                           Saiyuki                Gensomaden Saiyuki   \n",
       "1  The New Adventures of Robin Hood  The New Adventures of Robin Hood   \n",
       "2                 Style & Substance                 Style & Substance   \n",
       "3                      413 Hope St.                      413 Hope St.   \n",
       "4      The All New Captain Kangaroo      The All New Captain Kangaroo   \n",
       "\n",
       "   is_adult  start_year end_year runtime_min                       genre  \\\n",
       "0         0        2000     2001          23  Action,Adventure,Animation   \n",
       "1         0        1997     1999          54            Action,Adventure   \n",
       "2         0        1998     1998          30                      Comedy   \n",
       "3         0        1997     1998          60                       Drama   \n",
       "4         0        1997       \\N          \\N                      Family   \n",
       "\n",
       "   successful                          genres  \n",
       "0        True  [Action, Adventure, Animation]  \n",
       "1       False             [Action, Adventure]  \n",
       "2        True                        [Comedy]  \n",
       "3       False                         [Drama]  \n",
       "4       False                        [Family]  "
      ]
     },
     "execution_count": 328,
     "metadata": {},
     "output_type": "execute_result"
    }
   ],
   "source": [
    "linear_imdb = linear_imdb.genres.swifter.apply(pd.Series).merge(linear_imdb, right_index = True, left_index = True)\n",
    "linear_imdb.head()"
   ]
  },
  {
   "cell_type": "code",
   "execution_count": 329,
   "metadata": {},
   "outputs": [],
   "source": [
    "linear_imdb = linear_imdb[linear_imdb['start_year'] != '\\\\N']\n",
    "linear_imdb = linear_imdb[linear_imdb['genre'] != '\\\\N']"
   ]
  },
  {
   "cell_type": "code",
   "execution_count": 330,
   "metadata": {},
   "outputs": [],
   "source": [
    "df_genre = pd.get_dummies(linear_imdb[0] )\n",
    "linear_imdb = pd.concat([linear_imdb,df_genre],axis = 1)"
   ]
  },
  {
   "cell_type": "code",
   "execution_count": 331,
   "metadata": {},
   "outputs": [],
   "source": [
    "variables = linear_imdb.drop([0,1,2, 'rating','num_votes','title','org_title',\n",
    "                              'end_year','runtime_min','genres','genre','successful'],axis = 1)"
   ]
  },
  {
   "cell_type": "markdown",
   "metadata": {},
   "source": [
    "### Linear Regression Model"
   ]
  },
  {
   "cell_type": "code",
   "execution_count": 430,
   "metadata": {},
   "outputs": [
    {
     "name": "stdout",
     "output_type": "stream",
     "text": [
      "Coefficient:\n",
      "[-0.13061581  0.00331151 -0.00586748 -0.19477728  0.0297023  -0.08128673\n",
      "  0.12290333  0.05243005  0.11456495  0.10459375  0.03362723 -0.02082156\n",
      "  0.05176185 -0.27513963  0.11651717 -0.05759051 -0.06845605  0.29692896\n",
      "  0.03023772 -0.1827453  -0.1626626   0.06898736 -0.05499568 -0.05032929\n",
      "  0.05225861 -0.06494412 -0.00182622  0.11746897  0.0294602 ]\n",
      "Intercept:\n",
      "-6.114107293574781\n"
     ]
    }
   ],
   "source": [
    "imdb_model = LinearRegression().fit(variables, linear_imdb['successful'])\n",
    "print('Coefficient:')\n",
    "print(imdb_model.coef_)\n",
    "print('Intercept:')\n",
    "print(imdb_model.intercept_)"
   ]
  },
  {
   "cell_type": "code",
   "execution_count": 431,
   "metadata": {},
   "outputs": [
    {
     "name": "stdout",
     "output_type": "stream",
     "text": [
      "Scikit-learn r^2 score: 0.047\n"
     ]
    }
   ],
   "source": [
    "score = imdb_model.score(variables, linear_imdb['successful'])\n",
    "print(f'Scikit-learn r^2 score: {score.round(3)}')"
   ]
  },
  {
   "cell_type": "markdown",
   "metadata": {},
   "source": [
    "## Comparing to Baseline"
   ]
  },
  {
   "cell_type": "code",
   "execution_count": 404,
   "metadata": {},
   "outputs": [
    {
     "name": "stdout",
     "output_type": "stream",
     "text": [
      "Baseline accuracy: 0.538\n"
     ]
    }
   ],
   "source": [
    "print('Baseline accuracy:', round(imdb_shows.successful.sum()/len(imdb_shows),3))"
   ]
  },
  {
   "cell_type": "markdown",
   "metadata": {},
   "source": [
    "It looks like `genre` and `age rating` are not enough to predict the success of a movie or TV show. The regression model is not predicting the success of a show significantly lower than the baseline at 0.538. Compared to our movie model which has information about budget and the source of movie, it seems to be doing a worse job at predicting."
   ]
  },
  {
   "cell_type": "markdown",
   "metadata": {},
   "source": [
    "<a id='section_6'></a>\n",
    "# Evaluation of significance #"
   ]
  },
  {
   "cell_type": "markdown",
   "metadata": {},
   "source": [
    "## P-values and Confidence Intervals\n",
    "### Ratings and Trends\n",
    "After our initial analysis earlier looking at trends, genres, and ratings of shows, we wanted to examine the signifiance of the relationship between the ratings of shows and their trend by making use of the data from Rating Graph — more specifically the `r_trend` dataframe.\n",
    "\n",
    "In this situation, the null hypothesis is that the rating of a show is does not impact its popularity/how trendy it is whcih means that they are independent of one another. The alternative hypothesis is that ratings do impact trends — entailing that a higher rating would result in a higher `trend` value."
   ]
  },
  {
   "cell_type": "code",
   "execution_count": 408,
   "metadata": {},
   "outputs": [
    {
     "data": {
      "text/html": [
       "<table class=\"simpletable\">\n",
       "<caption>OLS Regression Results</caption>\n",
       "<tr>\n",
       "  <th>Dep. Variable:</th>            <td>y</td>        <th>  R-squared:         </th> <td>   0.004</td> \n",
       "</tr>\n",
       "<tr>\n",
       "  <th>Model:</th>                   <td>OLS</td>       <th>  Adj. R-squared:    </th> <td>   0.004</td> \n",
       "</tr>\n",
       "<tr>\n",
       "  <th>Method:</th>             <td>Least Squares</td>  <th>  F-statistic:       </th> <td>   21.37</td> \n",
       "</tr>\n",
       "<tr>\n",
       "  <th>Date:</th>             <td>Tue, 07 Dec 2021</td> <th>  Prob (F-statistic):</th> <td>3.89e-06</td> \n",
       "</tr>\n",
       "<tr>\n",
       "  <th>Time:</th>                 <td>23:27:12</td>     <th>  Log-Likelihood:    </th> <td> -36879.</td> \n",
       "</tr>\n",
       "<tr>\n",
       "  <th>No. Observations:</th>      <td>  4793</td>      <th>  AIC:               </th> <td>7.376e+04</td>\n",
       "</tr>\n",
       "<tr>\n",
       "  <th>Df Residuals:</th>          <td>  4791</td>      <th>  BIC:               </th> <td>7.377e+04</td>\n",
       "</tr>\n",
       "<tr>\n",
       "  <th>Df Model:</th>              <td>     1</td>      <th>                     </th>     <td> </td>    \n",
       "</tr>\n",
       "<tr>\n",
       "  <th>Covariance Type:</th>      <td>nonrobust</td>    <th>                     </th>     <td> </td>    \n",
       "</tr>\n",
       "</table>\n",
       "<table class=\"simpletable\">\n",
       "<tr>\n",
       "      <td></td>         <th>coef</th>     <th>std err</th>      <th>t</th>      <th>P>|t|</th>  <th>[0.025</th>    <th>0.975]</th>  \n",
       "</tr>\n",
       "<tr>\n",
       "  <th>Intercept</th> <td> -230.0981</td> <td>   64.853</td> <td>   -3.548</td> <td> 0.000</td> <td> -357.239</td> <td> -102.957</td>\n",
       "</tr>\n",
       "<tr>\n",
       "  <th>x</th>         <td>   38.8329</td> <td>    8.400</td> <td>    4.623</td> <td> 0.000</td> <td>   22.364</td> <td>   55.301</td>\n",
       "</tr>\n",
       "</table>\n",
       "<table class=\"simpletable\">\n",
       "<tr>\n",
       "  <th>Omnibus:</th>       <td>13547.639</td> <th>  Durbin-Watson:     </th>   <td>   0.210</td>   \n",
       "</tr>\n",
       "<tr>\n",
       "  <th>Prob(Omnibus):</th>  <td> 0.000</td>   <th>  Jarque-Bera (JB):  </th> <td>634852568.904</td>\n",
       "</tr>\n",
       "<tr>\n",
       "  <th>Skew:</th>           <td>36.783</td>   <th>  Prob(JB):          </th>   <td>    0.00</td>   \n",
       "</tr>\n",
       "<tr>\n",
       "  <th>Kurtosis:</th>      <td>1784.428</td>  <th>  Cond. No.          </th>   <td>    66.3</td>   \n",
       "</tr>\n",
       "</table><br/><br/>Notes:<br/>[1] Standard Errors assume that the covariance matrix of the errors is correctly specified."
      ],
      "text/plain": [
       "<class 'statsmodels.iolib.summary.Summary'>\n",
       "\"\"\"\n",
       "                            OLS Regression Results                            \n",
       "==============================================================================\n",
       "Dep. Variable:                      y   R-squared:                       0.004\n",
       "Model:                            OLS   Adj. R-squared:                  0.004\n",
       "Method:                 Least Squares   F-statistic:                     21.37\n",
       "Date:                Tue, 07 Dec 2021   Prob (F-statistic):           3.89e-06\n",
       "Time:                        23:27:12   Log-Likelihood:                -36879.\n",
       "No. Observations:                4793   AIC:                         7.376e+04\n",
       "Df Residuals:                    4791   BIC:                         7.377e+04\n",
       "Df Model:                           1                                         \n",
       "Covariance Type:            nonrobust                                         \n",
       "==============================================================================\n",
       "                 coef    std err          t      P>|t|      [0.025      0.975]\n",
       "------------------------------------------------------------------------------\n",
       "Intercept   -230.0981     64.853     -3.548      0.000    -357.239    -102.957\n",
       "x             38.8329      8.400      4.623      0.000      22.364      55.301\n",
       "==============================================================================\n",
       "Omnibus:                    13547.639   Durbin-Watson:                   0.210\n",
       "Prob(Omnibus):                  0.000   Jarque-Bera (JB):        634852568.904\n",
       "Skew:                          36.783   Prob(JB):                         0.00\n",
       "Kurtosis:                    1784.428   Cond. No.                         66.3\n",
       "==============================================================================\n",
       "\n",
       "Notes:\n",
       "[1] Standard Errors assume that the covariance matrix of the errors is correctly specified.\n",
       "\"\"\""
      ]
     },
     "execution_count": 408,
     "metadata": {},
     "output_type": "execute_result"
    }
   ],
   "source": [
    "real_x = r_trend['rating']\n",
    "real_y = r_trend['trend']\n",
    "df = pd.DataFrame({\"x\": real_x, \"y\": real_y})\n",
    "\n",
    "sm_model = smf.ols(\"y ~ x\", data=df)\n",
    "result = sm_model.fit()\n",
    "result.summary()"
   ]
  },
  {
   "cell_type": "markdown",
   "metadata": {},
   "source": [
    "The p-value in this summary table is significantly less than 0.05 which is typically the standard when evaluating whether or not the probability that an effect (or relationship) as large or larger than the observed effect would be measured."
   ]
  },
  {
   "cell_type": "markdown",
   "metadata": {},
   "source": [
    "### Permutations\n",
    "Here, we are calculating the p-value by running a number of simulated experiments and seeing how often we observe a result as large or larger than the one we identified in our actual data."
   ]
  },
  {
   "cell_type": "code",
   "execution_count": 336,
   "metadata": {},
   "outputs": [],
   "source": [
    "# to ensure our results are reproduceable and consistent\n",
    "np.random.seed(2950)"
   ]
  },
  {
   "cell_type": "code",
   "execution_count": 337,
   "metadata": {},
   "outputs": [],
   "source": [
    "def permute(input_array):\n",
    "    permuted = input_array.copy().values \n",
    "    np.random.shuffle(permuted)\n",
    "    return pd.Series(permuted)"
   ]
  },
  {
   "cell_type": "code",
   "execution_count": 338,
   "metadata": {},
   "outputs": [
    {
     "name": "stdout",
     "output_type": "stream",
     "text": [
      "p-value: 0.002\n",
      "Around 0.2% of permuted (null hypothesis) ratings are greater than our observed rating.\n"
     ]
    }
   ],
   "source": [
    "l_model = LinearRegression().fit(df[[\"x\"]], df[\"y\"])\n",
    "higher_trend = 0\n",
    "n_permutations = 10000\n",
    "permuted_trend = np.zeros(n_permutations)\n",
    "\n",
    "for i in range(n_permutations):\n",
    "    permuted_model = LinearRegression().fit(df[[\"x\"]], permute(df[\"y\"]))\n",
    "    \n",
    "    permuted_trend[i] = permuted_model.coef_[0]\n",
    "    \n",
    "    if np.abs(permuted_model.coef_[0]) > np.abs(l_model.coef_):\n",
    "        higher_trend += 1\n",
    "    \n",
    "print(f'p-value: {higher_trend / n_permutations}')\n",
    "print(f'Around {(higher_trend / n_permutations)*100}% of permuted (null hypothesis) ratings are greater than our observed rating.')"
   ]
  },
  {
   "cell_type": "code",
   "execution_count": 339,
   "metadata": {},
   "outputs": [
    {
     "data": {
      "image/png": "[encoded data removed]",
      "text/plain": [
       "<Figure size 432x288 with 1 Axes>"
      ]
     },
     "metadata": {
      "needs_background": "light"
     },
     "output_type": "display_data"
    }
   ],
   "source": [
    "plt.figure(figsize=(6,4))\n",
    "binsizes, _, _ = plt.hist(permuted_trend, bins=50)\n",
    "plt.vlines(l_model.coef_[0], ymin=0, ymax=np.max(binsizes), color='red')\n",
    "plt.show()"
   ]
  },
  {
   "cell_type": "markdown",
   "metadata": {},
   "source": [
    "Our observed `trend` value falls significantly above the distribution of trends under the null hypothesis."
   ]
  },
  {
   "cell_type": "code",
   "execution_count": 340,
   "metadata": {},
   "outputs": [
    {
     "name": "stdout",
     "output_type": "stream",
     "text": [
      "Analytic p (slope):  3.886549406477964e-06\n",
      "Simulated p (slope): 0.002\n"
     ]
    }
   ],
   "source": [
    "# compare simulated probability of observing a slope this great or greater to analytic p-value\n",
    "print('Analytic p (slope): ', result.pvalues.x)\n",
    "print('Simulated p (slope):', higher_trend / n_permutations)"
   ]
  },
  {
   "cell_type": "markdown",
   "metadata": {},
   "source": [
    "Our actual p-value is significantly smaller than our simulated p-value, but they are still both under 0.05 so the relationship is significant."
   ]
  },
  {
   "cell_type": "markdown",
   "metadata": {},
   "source": [
    "### Bootstrapping\n",
    "Now we are creating a 95% confidence interval via bootstrapping"
   ]
  },
  {
   "cell_type": "code",
   "execution_count": 413,
   "metadata": {},
   "outputs": [],
   "source": [
    "n_bootstrap = 10000\n",
    "bootstrap_trend = np.zeros(n_bootstrap)\n",
    "\n",
    "for i in range(n_bootstrap):\n",
    "    resampled_data = df.sample(n=len(df), replace=True)\n",
    "    resampled_model = LinearRegression().fit(resampled_data[[\"x\"]], resampled_data[\"y\"])\n",
    "    \n",
    "    bootstrap_trend[i] = resampled_model.coef_[0]"
   ]
  },
  {
   "cell_type": "code",
   "execution_count": 432,
   "metadata": {},
   "outputs": [
    {
     "name": "stdout",
     "output_type": "stream",
     "text": [
      "Confidence Interval:\n",
      "[29.06026426 50.81866406]\n"
     ]
    }
   ],
   "source": [
    "print('Confidence Interval:')\n",
    "print(np.quantile(bootstrap_trend, q=[0.05, 0.95]))"
   ]
  },
  {
   "cell_type": "markdown",
   "metadata": {},
   "source": [
    "This means that 95% of the time we conduct our tests, the actual trend value will fall within this interval."
   ]
  },
  {
   "cell_type": "code",
   "execution_count": 415,
   "metadata": {},
   "outputs": [
    {
     "data": {
      "image/png": "[encoded data removed]",
      "text/plain": [
       "<Figure size 432x288 with 1 Axes>"
      ]
     },
     "metadata": {
      "needs_background": "light"
     },
     "output_type": "display_data"
    }
   ],
   "source": [
    "# plot observed trend and histogram of resampled trends\n",
    "plt.figure(figsize=(6,4))\n",
    "binsizes, _, _ = plt.hist(bootstrap_trend, bins=50)\n",
    "plt.vlines(l_model.coef_[0], ymin=0, ymax=np.max(binsizes), color='red')\n",
    "plt.vlines(np.quantile(bootstrap_trend, q=[0.025])[0], ymin=0, ymax=np.max(binsizes), color='green')\n",
    "plt.vlines(np.quantile(bootstrap_trend, q=[0.975])[0], ymin=0, ymax=np.max(binsizes), color='green')\n",
    "plt.show()"
   ]
  },
  {
   "cell_type": "code",
   "execution_count": 416,
   "metadata": {},
   "outputs": [
    {
     "name": "stdout",
     "output_type": "stream",
     "text": [
      "Analytic Confidence Interval (trend):  22.364, 55.301\n",
      "Simulated Confidence Interval (trend): 27.523, 53.531\n"
     ]
    }
   ],
   "source": [
    "# compare analytical CI to simulated CI\n",
    "smf_ci = result.conf_int(0.05).loc['x']\n",
    "simulated_ci = np.quantile(bootstrap_trend, q=[0.025, 0.975])\n",
    "print(f'Analytic Confidence Interval (trend):  {smf_ci[0]:.3f}, {smf_ci[1]:.3f}')\n",
    "print(f'Simulated Confidence Interval (trend): {simulated_ci[0]:.3f}, {simulated_ci[1]:.3f}')"
   ]
  },
  {
   "cell_type": "markdown",
   "metadata": {},
   "source": [
    "Our analytic confidence interval and simulated confidence interval do not appear to be all that different, though our analytic confidence interval appears to be a bit larger."
   ]
  },
  {
   "cell_type": "code",
   "execution_count": 347,
   "metadata": {},
   "outputs": [
    {
     "name": "stdout",
     "output_type": "stream",
     "text": [
      "Observed trend:    38.8\n",
      "Observed intercept: -230.1\n"
     ]
    }
   ],
   "source": [
    "rating_model = LinearRegression().fit(r_trend[['rating']], r_trend['trend'])\n",
    "obs_trend = rating_model.coef_[0]\n",
    "obs_intercept = rating_model.intercept_\n",
    "\n",
    "print(f'Observed trend:    {obs_trend:.1f}')\n",
    "print(f'Observed intercept: {obs_intercept:.1f}')"
   ]
  },
  {
   "cell_type": "code",
   "execution_count": 417,
   "metadata": {},
   "outputs": [],
   "source": [
    "higher_trend = 0\n",
    "n_permutations = 1000\n",
    "permuted_trend = np.zeros(n_permutations)\n",
    "\n",
    "for i in range(n_permutations):\n",
    "    permuted_model = LinearRegression().fit(r_trend[['rating']], permute(r_trend['trend']))\n",
    "    \n",
    "    permuted_trend[i] = permuted_model.coef_[0]\n",
    "    \n",
    "    if np.abs(permuted_model.coef_[0]) > np.abs(obs_trend):\n",
    "        higher_trend += 1"
   ]
  },
  {
   "cell_type": "code",
   "execution_count": 433,
   "metadata": {},
   "outputs": [
    {
     "data": {
      "image/png": "[encoded data removed]",
      "text/plain": [
       "<Figure size 432x288 with 1 Axes>"
      ]
     },
     "metadata": {
      "needs_background": "light"
     },
     "output_type": "display_data"
    }
   ],
   "source": [
    "plt.figure(figsize=(6,4))\n",
    "binsizes, _, _ = plt.hist(permuted_trend, bins=50)\n",
    "plt.vlines(obs_trend, ymin=0, ymax=np.max(binsizes), color='red')\n",
    "plt.show()"
   ]
  },
  {
   "cell_type": "code",
   "execution_count": 435,
   "metadata": {},
   "outputs": [
    {
     "name": "stdout",
     "output_type": "stream",
     "text": [
      "Fraction of permuted trends absolutely greater than our observed trend: 0.001\n"
     ]
    }
   ],
   "source": [
    "print(f'Fraction of permuted trends absolutely greater than our observed trend:\\\n",
    " {higher_trend / n_permutations}')"
   ]
  },
  {
   "cell_type": "markdown",
   "metadata": {},
   "source": [
    "Under the null hypothesis, our observed slope falls significantly above the distribution of slopes as we can see visually and for a more precise number, around 0.1% of our permuted trend values fall above our observed trend. "
   ]
  },
  {
   "cell_type": "code",
   "execution_count": 351,
   "metadata": {},
   "outputs": [
    {
     "data": {
      "text/html": [
       "<div>\n",
       "<style scoped>\n",
       "    .dataframe tbody tr th:only-of-type {\n",
       "        vertical-align: middle;\n",
       "    }\n",
       "\n",
       "    .dataframe tbody tr th {\n",
       "        vertical-align: top;\n",
       "    }\n",
       "\n",
       "    .dataframe thead th {\n",
       "        text-align: right;\n",
       "    }\n",
       "</style>\n",
       "<table border=\"1\" class=\"dataframe\">\n",
       "  <thead>\n",
       "    <tr style=\"text-align: right;\">\n",
       "      <th></th>\n",
       "      <th>rank</th>\n",
       "      <th>trend</th>\n",
       "      <th>title</th>\n",
       "      <th>start_year</th>\n",
       "      <th>end_year</th>\n",
       "      <th>genres</th>\n",
       "      <th>total_votes</th>\n",
       "      <th>average_votes</th>\n",
       "      <th>rating</th>\n",
       "    </tr>\n",
       "  </thead>\n",
       "  <tbody>\n",
       "    <tr>\n",
       "      <th>16347</th>\n",
       "      <td>20,902</td>\n",
       "      <td>1</td>\n",
       "      <td>Red White and Blueprint</td>\n",
       "      <td>2021</td>\n",
       "      <td>2021</td>\n",
       "      <td>Documentary</td>\n",
       "      <td>40</td>\n",
       "      <td>10</td>\n",
       "      <td>1.2</td>\n",
       "    </tr>\n",
       "    <tr>\n",
       "      <th>16194</th>\n",
       "      <td>5,310</td>\n",
       "      <td>1</td>\n",
       "      <td>Paradise City</td>\n",
       "      <td>2021</td>\n",
       "      <td>-</td>\n",
       "      <td>Drama, Fantasy, Music</td>\n",
       "      <td>284</td>\n",
       "      <td>36</td>\n",
       "      <td>8.2</td>\n",
       "    </tr>\n",
       "    <tr>\n",
       "      <th>16536</th>\n",
       "      <td>14,588</td>\n",
       "      <td>1</td>\n",
       "      <td>Onze Straat</td>\n",
       "      <td>2021</td>\n",
       "      <td>2021</td>\n",
       "      <td>Biography</td>\n",
       "      <td>18</td>\n",
       "      <td>9</td>\n",
       "      <td>7.3</td>\n",
       "    </tr>\n",
       "    <tr>\n",
       "      <th>16655</th>\n",
       "      <td>10,786</td>\n",
       "      <td>1</td>\n",
       "      <td>Johnson</td>\n",
       "      <td>2021</td>\n",
       "      <td>-</td>\n",
       "      <td>Comedy, Drama</td>\n",
       "      <td>16</td>\n",
       "      <td>8</td>\n",
       "      <td>9.7</td>\n",
       "    </tr>\n",
       "    <tr>\n",
       "      <th>16069</th>\n",
       "      <td>4,130</td>\n",
       "      <td>1</td>\n",
       "      <td>Beyond Evil</td>\n",
       "      <td>2021</td>\n",
       "      <td>-</td>\n",
       "      <td>Drama, Mystery, Thriller</td>\n",
       "      <td>727</td>\n",
       "      <td>45</td>\n",
       "      <td>9.0</td>\n",
       "    </tr>\n",
       "    <tr>\n",
       "      <th>...</th>\n",
       "      <td>...</td>\n",
       "      <td>...</td>\n",
       "      <td>...</td>\n",
       "      <td>...</td>\n",
       "      <td>...</td>\n",
       "      <td>...</td>\n",
       "      <td>...</td>\n",
       "      <td>...</td>\n",
       "      <td>...</td>\n",
       "    </tr>\n",
       "    <tr>\n",
       "      <th>11816</th>\n",
       "      <td>741</td>\n",
       "      <td>1</td>\n",
       "      <td>The Little Drummer Girl</td>\n",
       "      <td>2018</td>\n",
       "      <td>2018</td>\n",
       "      <td>Drama, Thriller</td>\n",
       "      <td>3,174</td>\n",
       "      <td>529</td>\n",
       "      <td>7.7</td>\n",
       "    </tr>\n",
       "    <tr>\n",
       "      <th>1454</th>\n",
       "      <td>7,376</td>\n",
       "      <td>1</td>\n",
       "      <td>Code Lyoko</td>\n",
       "      <td>2003</td>\n",
       "      <td>2007</td>\n",
       "      <td>Animation, Action, Adventure</td>\n",
       "      <td>1,835</td>\n",
       "      <td>19</td>\n",
       "      <td>8.6</td>\n",
       "    </tr>\n",
       "    <tr>\n",
       "      <th>11807</th>\n",
       "      <td>6,952</td>\n",
       "      <td>1</td>\n",
       "      <td>The Gymkhana Files</td>\n",
       "      <td>2018</td>\n",
       "      <td>-</td>\n",
       "      <td>Documentary, Short, Sport, History</td>\n",
       "      <td>172</td>\n",
       "      <td>22</td>\n",
       "      <td>8.4</td>\n",
       "    </tr>\n",
       "    <tr>\n",
       "      <th>11790</th>\n",
       "      <td>12,074</td>\n",
       "      <td>1</td>\n",
       "      <td>Back in Very Small Business</td>\n",
       "      <td>2018</td>\n",
       "      <td>2018</td>\n",
       "      <td>Comedy</td>\n",
       "      <td>38</td>\n",
       "      <td>8</td>\n",
       "      <td>8.9</td>\n",
       "    </tr>\n",
       "    <tr>\n",
       "      <th>10068</th>\n",
       "      <td>9,221</td>\n",
       "      <td>1</td>\n",
       "      <td>Full Steam Ahead</td>\n",
       "      <td>2016</td>\n",
       "      <td>2016</td>\n",
       "      <td>History</td>\n",
       "      <td>83</td>\n",
       "      <td>14</td>\n",
       "      <td>8.3</td>\n",
       "    </tr>\n",
       "  </tbody>\n",
       "</table>\n",
       "<p>874 rows × 9 columns</p>\n",
       "</div>"
      ],
      "text/plain": [
       "         rank  trend                        title  start_year end_year  \\\n",
       "16347  20,902      1      Red White and Blueprint        2021     2021   \n",
       "16194   5,310      1                Paradise City        2021        -   \n",
       "16536  14,588      1                  Onze Straat        2021     2021   \n",
       "16655  10,786      1                      Johnson        2021        -   \n",
       "16069   4,130      1                  Beyond Evil        2021        -   \n",
       "...       ...    ...                          ...         ...      ...   \n",
       "11816     741      1      The Little Drummer Girl        2018     2018   \n",
       "1454    7,376      1                   Code Lyoko        2003     2007   \n",
       "11807   6,952      1           The Gymkhana Files        2018        -   \n",
       "11790  12,074      1  Back in Very Small Business        2018     2018   \n",
       "10068   9,221      1             Full Steam Ahead        2016     2016   \n",
       "\n",
       "                                   genres total_votes average_votes  rating  \n",
       "16347                         Documentary          40            10     1.2  \n",
       "16194               Drama, Fantasy, Music         284            36     8.2  \n",
       "16536                           Biography          18             9     7.3  \n",
       "16655                       Comedy, Drama          16             8     9.7  \n",
       "16069            Drama, Mystery, Thriller         727            45     9.0  \n",
       "...                                   ...         ...           ...     ...  \n",
       "11816                     Drama, Thriller       3,174           529     7.7  \n",
       "1454         Animation, Action, Adventure       1,835            19     8.6  \n",
       "11807  Documentary, Short, Sport, History         172            22     8.4  \n",
       "11790                              Comedy          38             8     8.9  \n",
       "10068                             History          83            14     8.3  \n",
       "\n",
       "[874 rows x 9 columns]"
      ]
     },
     "execution_count": 351,
     "metadata": {},
     "output_type": "execute_result"
    }
   ],
   "source": [
    "r_trend[r_trend['trend'] == 1]"
   ]
  },
  {
   "cell_type": "markdown",
   "metadata": {},
   "source": [
    "As there are a lot of shows that have a `trend` value of 1, we believe that these shows skewed the data so that the p-value was significantly smaller than what it could have been."
   ]
  },
  {
   "cell_type": "markdown",
   "metadata": {},
   "source": [
    "<a id='section_7'></a>\n",
    "# Data Limitations"
   ]
  },
  {
   "cell_type": "markdown",
   "metadata": {},
   "source": [
    "There are a number of potential problems and limitations with our study, but here are a few of the ones we thought were most significant:\n",
    "- Accessing datasets \n",
    "- Time limitations and constraints\n",
    "- What defines ‘success’\n",
    "- Data is always changing: ratings vary and are updated frequently\n",
    "- Considering certain information, but not everything\n",
    "- Skewed data (ratings for netflix could be higher because you have less data)\n",
    "\n",
    "**We believe that all these factors have an influence on the outcomes of our analysis for the following reasons:**\n",
    "\n",
    "### 1. Accessing datasets\n",
    "When working with available datasets, we only have, for example, around 2500 titles from Netflix because it has been proven difficult as a lot of information is private and we are still trying to figure out the best way to access data, for example, on social media. Additionally, we wanted to collect more information on data on more streaming platforms like Hulu and not only focusing on Netflix and Amazon Prime.\n",
    "\n",
    "### 2. Time limitations and constraints\n",
    "In general, the class only has a semester to work on their respective projects alongside the other obligations in this class as well as other classes we are taking which limits how deep we can dive into our data and the quality of our analysis. Additionally, we were originally focusing on data pertaining to shows, but we later were able to access information on movies and we thought it would be beneficial to evalute the data there as well. Consequently, we could have ended up reaching a different conclusion if we had could have the capacity to dedicate more time and resources to the project. \n",
    "\n",
    "### 3. What defines 'success'\n",
    "We used our own discretion and defined the measure of success for a TV shows as their ratings, but success can be subjective and depending on who tries to recreate or complete a similar project, they could redefine what success means within the context of the data.\n",
    "\n",
    "### 4. Data is always changing\n",
    "Ratings always change depending on when people submit reviews so we only took a snapshot in time with our analysis and need to bear in mind that any conclusions we make may not match the most up-to-date data — especially since we were working with a number of different datasets.\n",
    "\n",
    "### 5. Considering certain information, but not everything\n",
    "In some of the exploratory data analysis we conducted, we had to exclude some data in order to focus on the specific details and whenever you remove data you are not capturing the entire picture. Additionally, we were not able to collect all of the Rating Graph movie data in our dataset because it would have taken too long since we were not scraping the website for the information.\n",
    "\n",
    "### 6. Skewed data\n",
    "For a lot of the datasets we are working with, there are varying amounts of data in each one which can lead to the results of our analysis to be skewed as, for example, Rating Graph has less numbers to work with which could mean that any impacts could be compounded as opposed to the IMDB data which has millions of values."
   ]
  },
  {
   "cell_type": "markdown",
   "metadata": {},
   "source": [
    "<a id='section_8'></a>\n",
    "# Interpretation and Conclusions #"
   ]
  },
  {
   "cell_type": "markdown",
   "metadata": {},
   "source": [
    "There were a lot of variables we had to deal with as there was a lot of data we were handling, but some of our key takeaways from our findings were first, that we need more than `age_rating` and `genre` to determine the success of a show/movie when looking at the first part of our preregistered analysis and question 1. Our model only did slightly better than baseline when we only had access to genre and age_rating. Knowing the origins of a show/movie may significantly improve our model as we saw it help with the movie_prediction model. Next, there is evidence that platforms (streaming and traditional) are not prioritizing adding content that our model deemed successful. While our model showed that comedies do not do well rating-wise, this genre is one of the highest in the percentage of content on these platforms. As discussed earlier this could be due to the fact that negative opinions promote shareability which benefits the platform, therefore we may need to add other factors in what makes a show successful. Shareability may be a key factor in determining the success of a show and so in the future this should be explored, possibly looking into how shows/movies do on social media (whether they 'trend' or are talking a lot about).\n",
    "\n",
    "With the second part of our preregistered analysis, we did not end up seeing as significant of a correlation between the number of seasons available for a show and its genre(s). Though, our prediction that comedies are likely to last the longer out of other other genres was supported as we have seen that some of the longest running shows — for example, Family guy and Simpsons — fit into these catergories. Additionally, we did see some compelling information regarding the number of seasons and the ratings for a show as there was a clear positive correlation in the data. Nevertheless, there is still a lot more we could do with the data and we had to accept that there were a number of limitations that we faced, as mentioned above. There was more room for us to explore Twitter hashtags but we had to accept there was not enough time and we did not have the ability to fully extract the data we wanted to work with.\n",
    "\n",
    "As more companies start to break into the streaming industry as Disney did with the Disney+, there will be a greater need to produce successful shows like Squid Game and Criminal Minds so information on what factors may contribute to such success will be incredibly significant."
   ]
  },
  {
   "cell_type": "markdown",
   "metadata": {},
   "source": [
    "<a id='section_9'></a>\n",
    "# Acknowledgements "
   ]
  },
  {
   "cell_type": "markdown",
   "metadata": {},
   "source": [
    "Towards Data Science articles like \"Can we Predict the Life-Span of a TV Show?\" and \"Scrape the web for top rated movies on TV\" helped us a lot as well to get a better sense of how we wanted to carry out our project.\n",
    "\n",
    "- \"Can we Predict the Life-Span of a TV Show?\": https://towardsdatascience.com/can-we-predict-the-life-span-of-a-tv-show-212762ae7b8d\n",
    "- \"Scrape the web for top rated motives on TV\": https://towardsdatascience.com/scrape-the-web-for-top-rated-movies-on-tv-ac66df0bd502\n",
    "\n",
    "The code we used to scrape tweets and store them into a `csv` file was from vickyqian, sxshateri, and alod83 on GitHub Gist \n",
    "- https://gist.github.com/vickyqian/f70e9ab3910c7c290d9d715491cde44c#file-twitter-crawler-txt\n",
    "- https://gist.github.com/sxshateri/540aead254bfa7810ee8bbb2d298363e\n",
    "- https://github.com/alod83/data-science/blob/master/DataCollection/Twitter/get_tweets.ipynb\n",
    "\n",
    "The lectures and problem sets from INFO 2950 aided us the most in completing this project."
   ]
  },
  {
   "cell_type": "markdown",
   "metadata": {},
   "source": [
    "<a id='section_10'></a>\n",
    "# Appendix #"
   ]
  },
  {
   "cell_type": "markdown",
   "metadata": {},
   "source": [
    "All of our data cleaning is located in the Jupyter notebook `data_cleaning` where we have descriptions of all of our steps as well as why we took them in order to create the datasets we worked with throughout this project. All of the other notebooks and datasets that we refer to are also in our Github reposi"
   ]
  }
 ],
 "metadata": {
  "kernelspec": {
   "display_name": "Python 3",
   "language": "python",
   "name": "python3"
  },
  "language_info": {
   "codemirror_mode": {
    "name": "ipython",
    "version": 3
   },
   "file_extension": ".py",
   "mimetype": "text/x-python",
   "name": "python",
   "nbconvert_exporter": "python",
   "pygments_lexer": "ipython3",
   "version": "3.8.3"
  }
 },
 "nbformat": 4,
 "nbformat_minor": 5
}
